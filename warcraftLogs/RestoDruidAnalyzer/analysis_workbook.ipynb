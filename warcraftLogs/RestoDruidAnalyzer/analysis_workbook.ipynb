{
 "cells": [
  {
   "cell_type": "markdown",
   "id": "b6b9767f",
   "metadata": {},
   "source": [
    "## Import packages"
   ]
  },
  {
   "cell_type": "code",
   "execution_count": 99,
   "id": "046afc04",
   "metadata": {},
   "outputs": [
    {
     "data": {
      "text/plain": [
       "<module 'Helpers' from 'C:\\\\Users\\\\Matth\\\\git\\\\DataAnalysisWorkbooks\\\\warcraftLogs\\\\RestoDruidAnalyzer\\\\Helpers.py'>"
      ]
     },
     "execution_count": 99,
     "metadata": {},
     "output_type": "execute_result"
    }
   ],
   "source": [
    "import pandas as pd\n",
    "import warnings\n",
    "import matplotlib\n",
    "warnings.filterwarnings('ignore')\n",
    "\n",
    "from importlib import reload\n",
    "\n",
    "import Helpers\n",
    "reload(Helpers)"
   ]
  },
  {
   "cell_type": "code",
   "execution_count": null,
   "id": "ea62620a",
   "metadata": {},
   "outputs": [],
   "source": []
  },
  {
   "cell_type": "markdown",
   "id": "842a7e70",
   "metadata": {},
   "source": [
    "## Configurations"
   ]
  },
  {
   "cell_type": "code",
   "execution_count": 25,
   "id": "5537a8f2",
   "metadata": {},
   "outputs": [],
   "source": [
    "# Path variables\n",
    "path_to_data = 'C:\\\\Users\\\\Matth\\\\git\\\\DataAnalysisWorkbooks\\\\warcraftLogs\\\\data\\\\'\n",
    "\n",
    "# Set the plot style\n",
    "matplotlib.style.use('seaborn-notebook')\n",
    "\n",
    "# Have pandas display all rows?\n",
    "display_max_rows = True"
   ]
  },
  {
   "cell_type": "code",
   "execution_count": 91,
   "id": "01a85c34",
   "metadata": {},
   "outputs": [],
   "source": [
    "# Filters\n",
    "spriest = 'No'  # Yes'/'No'/'Either'\n",
    "innervate = 'Either'  # Yes'/'No'/'Either'\n",
    "rotating_on_tank = 'Either'  # Yes'/'No'/'Either'\n",
    "bloodlust = 'Either'  # Yes'/'No'/'Either'\n",
    "natures_grace = 'Either'  # 'Yes'/'No'/'Either'\n",
    "power_infusion = 'Either'  # 'Yes'/'No'/'Either'\n",
    "nHealers = 'Any' # 4/5/6/'Any'"
   ]
  },
  {
   "cell_type": "code",
   "execution_count": 92,
   "id": "67ebf144",
   "metadata": {},
   "outputs": [],
   "source": [
    "boss = \"Supremus\""
   ]
  },
  {
   "cell_type": "code",
   "execution_count": null,
   "id": "3e3232ef",
   "metadata": {},
   "outputs": [],
   "source": []
  },
  {
   "cell_type": "markdown",
   "id": "48333d8a",
   "metadata": {},
   "source": [
    "## Main analysis code"
   ]
  },
  {
   "cell_type": "code",
   "execution_count": 93,
   "id": "ad9149f1",
   "metadata": {},
   "outputs": [],
   "source": [
    "# Read in the dataset\n",
    "data = pd.read_excel(path_to_data + \"top_N_druids.xlsx\", sheet_name=boss.replace(\" \", \"\"))\n",
    "\n",
    "if display_max_rows:\n",
    "    pd.set_option('display.max_rows', None)"
   ]
  },
  {
   "cell_type": "code",
   "execution_count": 94,
   "id": "7f449c82",
   "metadata": {},
   "outputs": [],
   "source": [
    "# Apply filters to data\n",
    "data, n_filters, filters = Helpers.apply_filters(data, rotating_on_tank, spriest, innervate, bloodlust, natures_grace, power_infusion, nHealers)"
   ]
  },
  {
   "cell_type": "code",
   "execution_count": 95,
   "id": "2548966b",
   "metadata": {},
   "outputs": [
    {
     "data": {
      "text/plain": [
       "Index(['Rank', 'Name', 'Server', 'Date', 'Duration', 'nHealers', 'Spriest?',\n",
       "       'Innervate?', 'Bloodlust?', 'Power Infusion?', 'Nature's Grace?',\n",
       "       'LB_uptime', 'HPS', '% LB (tick) HPS', '% LB (bloom) HPS',\n",
       "       '% Rejuv HPS', '% Regrowth HPS', '% Swiftmend HPS', 'Rotating on tank?',\n",
       "       'Rotation 1', '% Rotation 1', 'Rotation 2', '% Rotation 2'],\n",
       "      dtype='object')"
      ]
     },
     "execution_count": 95,
     "metadata": {},
     "output_type": "execute_result"
    }
   ],
   "source": [
    "data.columns"
   ]
  },
  {
   "cell_type": "code",
   "execution_count": 96,
   "id": "900b0057",
   "metadata": {},
   "outputs": [
    {
     "data": {
      "text/html": [
       "<div>\n",
       "<style scoped>\n",
       "    .dataframe tbody tr th:only-of-type {\n",
       "        vertical-align: middle;\n",
       "    }\n",
       "\n",
       "    .dataframe tbody tr th {\n",
       "        vertical-align: top;\n",
       "    }\n",
       "\n",
       "    .dataframe thead th {\n",
       "        text-align: right;\n",
       "    }\n",
       "</style>\n",
       "<table border=\"1\" class=\"dataframe\">\n",
       "  <thead>\n",
       "    <tr style=\"text-align: right;\">\n",
       "      <th></th>\n",
       "      <th>Rank</th>\n",
       "      <th>Name</th>\n",
       "      <th>Server</th>\n",
       "      <th>Date</th>\n",
       "      <th>Duration</th>\n",
       "      <th>nHealers</th>\n",
       "      <th>Spriest?</th>\n",
       "      <th>Innervate?</th>\n",
       "      <th>Bloodlust?</th>\n",
       "      <th>Power Infusion?</th>\n",
       "      <th>...</th>\n",
       "      <th>% LB (tick) HPS</th>\n",
       "      <th>% LB (bloom) HPS</th>\n",
       "      <th>% Rejuv HPS</th>\n",
       "      <th>% Regrowth HPS</th>\n",
       "      <th>% Swiftmend HPS</th>\n",
       "      <th>Rotating on tank?</th>\n",
       "      <th>Rotation 1</th>\n",
       "      <th>% Rotation 1</th>\n",
       "      <th>Rotation 2</th>\n",
       "      <th>% Rotation 2</th>\n",
       "    </tr>\n",
       "  </thead>\n",
       "  <tbody>\n",
       "    <tr>\n",
       "      <th>0</th>\n",
       "      <td>1</td>\n",
       "      <td>Kudryavka</td>\n",
       "      <td>Razorgore</td>\n",
       "      <td>Mar 31</td>\n",
       "      <td>2:51</td>\n",
       "      <td>5</td>\n",
       "      <td>No</td>\n",
       "      <td>No</td>\n",
       "      <td>No</td>\n",
       "      <td>No</td>\n",
       "      <td>...</td>\n",
       "      <td>0.62</td>\n",
       "      <td>0.09</td>\n",
       "      <td>0.13</td>\n",
       "      <td>0.06</td>\n",
       "      <td>0.08</td>\n",
       "      <td>Yes</td>\n",
       "      <td>2LB 3I 0RG</td>\n",
       "      <td>0.320</td>\n",
       "      <td>2LB 2I 0RG</td>\n",
       "      <td>0.200</td>\n",
       "    </tr>\n",
       "    <tr>\n",
       "      <th>1</th>\n",
       "      <td>3</td>\n",
       "      <td>喵绿喵绿喵</td>\n",
       "      <td>范沃森</td>\n",
       "      <td>Mar 31</td>\n",
       "      <td>2:14</td>\n",
       "      <td>5</td>\n",
       "      <td>No</td>\n",
       "      <td>Yes</td>\n",
       "      <td>No</td>\n",
       "      <td>No</td>\n",
       "      <td>...</td>\n",
       "      <td>0.11</td>\n",
       "      <td>0.01</td>\n",
       "      <td>0.04</td>\n",
       "      <td>0.70</td>\n",
       "      <td>0.10</td>\n",
       "      <td>Yes</td>\n",
       "      <td>0LB 2I 3RG</td>\n",
       "      <td>0.222</td>\n",
       "      <td>1LB 0I 2RG</td>\n",
       "      <td>0.167</td>\n",
       "    </tr>\n",
       "    <tr>\n",
       "      <th>2</th>\n",
       "      <td>4</td>\n",
       "      <td>氢硫化钠</td>\n",
       "      <td>奥罗</td>\n",
       "      <td>Mar 21</td>\n",
       "      <td>2:37</td>\n",
       "      <td>5</td>\n",
       "      <td>No</td>\n",
       "      <td>Yes</td>\n",
       "      <td>No</td>\n",
       "      <td>No</td>\n",
       "      <td>...</td>\n",
       "      <td>0.17</td>\n",
       "      <td>0.02</td>\n",
       "      <td>0.00</td>\n",
       "      <td>0.69</td>\n",
       "      <td>0.08</td>\n",
       "      <td>Yes</td>\n",
       "      <td>1LB 0I 3RG</td>\n",
       "      <td>0.312</td>\n",
       "      <td>1LB 0I 2RG</td>\n",
       "      <td>0.188</td>\n",
       "    </tr>\n",
       "    <tr>\n",
       "      <th>3</th>\n",
       "      <td>5</td>\n",
       "      <td>尔丶晴</td>\n",
       "      <td>辛迪加</td>\n",
       "      <td>Mar 12</td>\n",
       "      <td>2:03</td>\n",
       "      <td>5</td>\n",
       "      <td>No</td>\n",
       "      <td>Yes</td>\n",
       "      <td>No</td>\n",
       "      <td>No</td>\n",
       "      <td>...</td>\n",
       "      <td>0.24</td>\n",
       "      <td>0.07</td>\n",
       "      <td>0.06</td>\n",
       "      <td>0.49</td>\n",
       "      <td>0.10</td>\n",
       "      <td>Yes</td>\n",
       "      <td>1LB 1I 1RG</td>\n",
       "      <td>0.143</td>\n",
       "      <td>1LB 1I 3RG</td>\n",
       "      <td>0.143</td>\n",
       "    </tr>\n",
       "    <tr>\n",
       "      <th>4</th>\n",
       "      <td>6</td>\n",
       "      <td>皮哥</td>\n",
       "      <td>奎尔塞拉</td>\n",
       "      <td>Mar 22</td>\n",
       "      <td>2:56</td>\n",
       "      <td>5</td>\n",
       "      <td>No</td>\n",
       "      <td>Yes</td>\n",
       "      <td>Yes</td>\n",
       "      <td>No</td>\n",
       "      <td>...</td>\n",
       "      <td>0.34</td>\n",
       "      <td>0.03</td>\n",
       "      <td>0.07</td>\n",
       "      <td>0.50</td>\n",
       "      <td>0.06</td>\n",
       "      <td>Yes</td>\n",
       "      <td>1LB 1I 2RG</td>\n",
       "      <td>0.208</td>\n",
       "      <td>1LB 0I 2RG</td>\n",
       "      <td>0.167</td>\n",
       "    </tr>\n",
       "  </tbody>\n",
       "</table>\n",
       "<p>5 rows × 23 columns</p>\n",
       "</div>"
      ],
      "text/plain": [
       "   Rank       Name      Server    Date Duration  nHealers Spriest? Innervate?  \\\n",
       "0     1  Kudryavka   Razorgore  Mar 31     2:51         5       No         No   \n",
       "1     3      喵绿喵绿喵         范沃森  Mar 31     2:14         5       No        Yes   \n",
       "2     4       氢硫化钠          奥罗  Mar 21     2:37         5       No        Yes   \n",
       "3     5        尔丶晴         辛迪加  Mar 12     2:03         5       No        Yes   \n",
       "4     6         皮哥        奎尔塞拉  Mar 22     2:56         5       No        Yes   \n",
       "\n",
       "  Bloodlust? Power Infusion?  ... % LB (tick) HPS % LB (bloom) HPS  \\\n",
       "0         No              No  ...            0.62             0.09   \n",
       "1         No              No  ...            0.11             0.01   \n",
       "2         No              No  ...            0.17             0.02   \n",
       "3         No              No  ...            0.24             0.07   \n",
       "4        Yes              No  ...            0.34             0.03   \n",
       "\n",
       "   % Rejuv HPS  % Regrowth HPS  % Swiftmend HPS  Rotating on tank?  \\\n",
       "0         0.13            0.06             0.08                Yes   \n",
       "1         0.04            0.70             0.10                Yes   \n",
       "2         0.00            0.69             0.08                Yes   \n",
       "3         0.06            0.49             0.10                Yes   \n",
       "4         0.07            0.50             0.06                Yes   \n",
       "\n",
       "   Rotation 1  % Rotation 1  Rotation 2 % Rotation 2  \n",
       "0  2LB 3I 0RG         0.320  2LB 2I 0RG        0.200  \n",
       "1  0LB 2I 3RG         0.222  1LB 0I 2RG        0.167  \n",
       "2  1LB 0I 3RG         0.312  1LB 0I 2RG        0.188  \n",
       "3  1LB 1I 1RG         0.143  1LB 1I 3RG        0.143  \n",
       "4  1LB 1I 2RG         0.208  1LB 0I 2RG        0.167  \n",
       "\n",
       "[5 rows x 23 columns]"
      ]
     },
     "execution_count": 96,
     "metadata": {},
     "output_type": "execute_result"
    }
   ],
   "source": [
    "data.head()"
   ]
  },
  {
   "cell_type": "code",
   "execution_count": 97,
   "id": "3b7bfc98",
   "metadata": {},
   "outputs": [
    {
     "data": {
      "text/plain": [
       "array([[<AxesSubplot:title={'center':'HPS'}>]], dtype=object)"
      ]
     },
     "execution_count": 97,
     "metadata": {},
     "output_type": "execute_result"
    },
    {
     "data": {
      "image/png": "[encoded data removed]",
      "text/plain": [
       "<Figure size 576x396 with 1 Axes>"
      ]
     },
     "metadata": {
      "needs_background": "light"
     },
     "output_type": "display_data"
    }
   ],
   "source": [
    "# Distribution of HPS\n",
    "data.hist(column='HPS', bins=20, grid=False)"
   ]
  },
  {
   "cell_type": "code",
   "execution_count": null,
   "id": "79d7b0db",
   "metadata": {},
   "outputs": [],
   "source": []
  },
  {
   "cell_type": "markdown",
   "id": "ec181a6d",
   "metadata": {},
   "source": [
    "# A straightforward way to compare the rotations is with an errorplot, ie plot the mean HPS of each rotation where the x-error is just the standard error for each distribution:\n",
    "# δ = σ / sqrt(N)"
   ]
  },
  {
   "cell_type": "code",
   "execution_count": 100,
   "id": "b1394d81",
   "metadata": {},
   "outputs": [
    {
     "data": {
      "image/png": "[encoded data removed]",
      "text/plain": [
       "<Figure size 800x800 with 1 Axes>"
      ]
     },
     "metadata": {
      "needs_background": "light"
     },
     "output_type": "display_data"
    }
   ],
   "source": [
    "Helpers.plot_rotations(boss, data, n_filters, filters, save=True)"
   ]
  },
  {
   "cell_type": "code",
   "execution_count": null,
   "id": "db288006",
   "metadata": {},
   "outputs": [],
   "source": []
  },
  {
   "cell_type": "markdown",
   "id": "4af7f929",
   "metadata": {},
   "source": [
    "# However, one must be careful when using the mean because it can be sensitive to outliers in the data, especially when N is small. A common way to visualize data with outliers is a box-and-whisker plot."
   ]
  },
  {
   "cell_type": "code",
   "execution_count": 11,
   "id": "394841ce",
   "metadata": {},
   "outputs": [],
   "source": [
    "# TODO: Add boxplot"
   ]
  },
  {
   "cell_type": "code",
   "execution_count": null,
   "id": "5d7097d0",
   "metadata": {},
   "outputs": [],
   "source": []
  },
  {
   "cell_type": "markdown",
   "id": "3e126f42",
   "metadata": {},
   "source": [
    "# What variables correlate the strongest with HPS?"
   ]
  },
  {
   "cell_type": "code",
   "execution_count": 12,
   "id": "8d4aa934",
   "metadata": {},
   "outputs": [],
   "source": [
    "# Convert \"Yes/No\" to \"1/0\" for pandas\n",
    "data['Spriest?'] = data['Spriest?'].map({'Yes': 1, 'No': 0})\n",
    "data['Innervate?'] = data['Innervate?'].map({'Yes': 1, 'No': 0})\n",
    "data['Bloodlust?'] = data['Bloodlust?'].map({'Yes': 1, 'No': 0})\n",
    "data['Power Infusion?'] = data['Power Infusion?'].map({'Yes': 1, 'No': 0})\n",
    "data[\"Nature's Grace?\"] = data[\"Nature's Grace?\"].map({'Yes': 1, 'No': 0})"
   ]
  },
  {
   "cell_type": "code",
   "execution_count": 13,
   "id": "a617bd5d",
   "metadata": {},
   "outputs": [
    {
     "data": {
      "text/plain": [
       "HPS                 1.000000\n",
       "Power Infusion?     0.157373\n",
       "Spriest?            0.125783\n",
       "Nature's Grace?     0.113676\n",
       "% Regrowth HPS      0.111619\n",
       "% Rotation 1        0.069071\n",
       "Bloodlust?          0.035577\n",
       "% Rotation 2        0.029492\n",
       "Innervate?         -0.013904\n",
       "% Swiftmend HPS    -0.019322\n",
       "% LB (bloom) HPS   -0.023366\n",
       "% LB (tick) HPS    -0.036236\n",
       "% Rejuv HPS        -0.110120\n",
       "nHealers           -0.123243\n",
       "Rank               -0.854705\n",
       "Name: HPS, dtype: float64"
      ]
     },
     "execution_count": 13,
     "metadata": {},
     "output_type": "execute_result"
    }
   ],
   "source": [
    "data.corr()['HPS'].sort_values(ascending=False)"
   ]
  },
  {
   "cell_type": "code",
   "execution_count": null,
   "id": "806c6a09",
   "metadata": {},
   "outputs": [],
   "source": []
  },
  {
   "cell_type": "code",
   "execution_count": null,
   "id": "bd976013",
   "metadata": {},
   "outputs": [],
   "source": []
  }
 ],
 "metadata": {
  "kernelspec": {
   "display_name": "Python 3 (ipykernel)",
   "language": "python",
   "name": "python3"
  },
  "language_info": {
   "codemirror_mode": {
    "name": "ipython",
    "version": 3
   },
   "file_extension": ".py",
   "mimetype": "text/x-python",
   "name": "python",
   "nbconvert_exporter": "python",
   "pygments_lexer": "ipython3",
   "version": "3.9.7"
  }
 },
 "nbformat": 4,
 "nbformat_minor": 5
}
