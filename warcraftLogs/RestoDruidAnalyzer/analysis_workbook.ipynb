{
 "cells": [
  {
   "cell_type": "markdown",
   "id": "b6b9767f",
   "metadata": {},
   "source": [
    "## Import packages"
   ]
  },
  {
   "cell_type": "code",
   "execution_count": 3,
   "id": "046afc04",
   "metadata": {},
   "outputs": [
    {
     "data": {
      "text/plain": [
       "<module 'Helpers' from 'C:\\\\Users\\\\Matth\\\\git\\\\DataAnalysisWorkbooks\\\\warcraftLogs\\\\RestoDruidAnalyzer\\\\Helpers.py'>"
      ]
     },
     "execution_count": 3,
     "metadata": {},
     "output_type": "execute_result"
    }
   ],
   "source": [
    "import pandas as pd\n",
    "import warnings\n",
    "import matplotlib\n",
    "warnings.filterwarnings('ignore')\n",
    "\n",
    "from importlib import reload\n",
    "\n",
    "import Helpers\n",
    "reload(Helpers)"
   ]
  },
  {
   "cell_type": "code",
   "execution_count": null,
   "id": "ea62620a",
   "metadata": {},
   "outputs": [],
   "source": []
  },
  {
   "cell_type": "markdown",
   "id": "842a7e70",
   "metadata": {},
   "source": [
    "## Configurations"
   ]
  },
  {
   "cell_type": "code",
   "execution_count": 4,
   "id": "5537a8f2",
   "metadata": {},
   "outputs": [],
   "source": [
    "# Path variables\n",
    "path_to_data = 'C:\\\\Users\\\\Matth\\\\git\\\\DataAnalysisWorkbooks\\\\warcraftLogs\\\\data\\\\'\n",
    "\n",
    "# Set the plot style\n",
    "matplotlib.style.use('seaborn-notebook')\n",
    "\n",
    "# Have pandas display all rows?\n",
    "display_max_rows = True"
   ]
  },
  {
   "cell_type": "code",
   "execution_count": 5,
   "id": "67ebf144",
   "metadata": {},
   "outputs": [],
   "source": [
    "boss = \"High Warlord Naj'entus\""
   ]
  },
  {
   "cell_type": "code",
   "execution_count": null,
   "id": "3e3232ef",
   "metadata": {},
   "outputs": [],
   "source": []
  },
  {
   "cell_type": "markdown",
   "id": "48333d8a",
   "metadata": {},
   "source": [
    "## Main analysis code"
   ]
  },
  {
   "cell_type": "code",
   "execution_count": 6,
   "id": "ad9149f1",
   "metadata": {},
   "outputs": [],
   "source": [
    "# Read in the dataset\n",
    "data = pd.read_excel(path_to_data + \"top_N_druids.xlsx\", sheet_name=boss.replace(\" \", \"\"))\n",
    "\n",
    "if display_max_rows:\n",
    "    pd.set_option('display.max_rows', None)"
   ]
  },
  {
   "cell_type": "code",
   "execution_count": 7,
   "id": "2548966b",
   "metadata": {},
   "outputs": [
    {
     "data": {
      "text/plain": [
       "Index(['Rank', 'Name', 'Server', 'Date', 'Duration', 'nHealers', 'Spriest?',\n",
       "       'Innervate?', 'Bloodlust?', 'Power Infusion?', 'Nature's Grace?',\n",
       "       'LB_uptime', 'HPS', '% LB (tick) HPS', '% LB (bloom) HPS',\n",
       "       '% Rejuv HPS', '% Regrowth HPS', '% Swiftmend HPS', 'Rotating on tank?',\n",
       "       'Rotation 1', '% Rotation 1', 'Rotation 2', '% Rotation 2'],\n",
       "      dtype='object')"
      ]
     },
     "execution_count": 7,
     "metadata": {},
     "output_type": "execute_result"
    }
   ],
   "source": [
    "data.columns"
   ]
  },
  {
   "cell_type": "code",
   "execution_count": 8,
   "id": "900b0057",
   "metadata": {},
   "outputs": [
    {
     "data": {
      "text/html": [
       "<div>\n",
       "<style scoped>\n",
       "    .dataframe tbody tr th:only-of-type {\n",
       "        vertical-align: middle;\n",
       "    }\n",
       "\n",
       "    .dataframe tbody tr th {\n",
       "        vertical-align: top;\n",
       "    }\n",
       "\n",
       "    .dataframe thead th {\n",
       "        text-align: right;\n",
       "    }\n",
       "</style>\n",
       "<table border=\"1\" class=\"dataframe\">\n",
       "  <thead>\n",
       "    <tr style=\"text-align: right;\">\n",
       "      <th></th>\n",
       "      <th>Rank</th>\n",
       "      <th>Name</th>\n",
       "      <th>Server</th>\n",
       "      <th>Date</th>\n",
       "      <th>Duration</th>\n",
       "      <th>nHealers</th>\n",
       "      <th>Spriest?</th>\n",
       "      <th>Innervate?</th>\n",
       "      <th>Bloodlust?</th>\n",
       "      <th>Power Infusion?</th>\n",
       "      <th>...</th>\n",
       "      <th>% LB (tick) HPS</th>\n",
       "      <th>% LB (bloom) HPS</th>\n",
       "      <th>% Rejuv HPS</th>\n",
       "      <th>% Regrowth HPS</th>\n",
       "      <th>% Swiftmend HPS</th>\n",
       "      <th>Rotating on tank?</th>\n",
       "      <th>Rotation 1</th>\n",
       "      <th>% Rotation 1</th>\n",
       "      <th>Rotation 2</th>\n",
       "      <th>% Rotation 2</th>\n",
       "    </tr>\n",
       "  </thead>\n",
       "  <tbody>\n",
       "    <tr>\n",
       "      <th>0</th>\n",
       "      <td>1</td>\n",
       "      <td>一杯马爹利</td>\n",
       "      <td>雷霆之击 (CN)</td>\n",
       "      <td>Mar 28</td>\n",
       "      <td>2:46</td>\n",
       "      <td>5</td>\n",
       "      <td>No</td>\n",
       "      <td>Yes</td>\n",
       "      <td>Yes</td>\n",
       "      <td>Yes</td>\n",
       "      <td>...</td>\n",
       "      <td>0.11</td>\n",
       "      <td>0.08</td>\n",
       "      <td>0.00</td>\n",
       "      <td>0.77</td>\n",
       "      <td>0.00</td>\n",
       "      <td>No</td>\n",
       "      <td>0LB 0I 4RG</td>\n",
       "      <td>0.481</td>\n",
       "      <td>0LB 4I 0RG</td>\n",
       "      <td>0.185</td>\n",
       "    </tr>\n",
       "    <tr>\n",
       "      <th>1</th>\n",
       "      <td>2</td>\n",
       "      <td>氢硫化钠</td>\n",
       "      <td>奥罗</td>\n",
       "      <td>Mar 21</td>\n",
       "      <td>1:40</td>\n",
       "      <td>5</td>\n",
       "      <td>No</td>\n",
       "      <td>Yes</td>\n",
       "      <td>No</td>\n",
       "      <td>No</td>\n",
       "      <td>...</td>\n",
       "      <td>0.01</td>\n",
       "      <td>0.01</td>\n",
       "      <td>0.00</td>\n",
       "      <td>0.83</td>\n",
       "      <td>0.04</td>\n",
       "      <td>No</td>\n",
       "      <td>0LB 1I 3RG</td>\n",
       "      <td>0.438</td>\n",
       "      <td>0LB 0I 4RG</td>\n",
       "      <td>0.438</td>\n",
       "    </tr>\n",
       "    <tr>\n",
       "      <th>2</th>\n",
       "      <td>3</td>\n",
       "      <td>搞不得</td>\n",
       "      <td>末日之刃 (CN)</td>\n",
       "      <td>Mar 17</td>\n",
       "      <td>2:25</td>\n",
       "      <td>5</td>\n",
       "      <td>Yes</td>\n",
       "      <td>Yes</td>\n",
       "      <td>Yes</td>\n",
       "      <td>No</td>\n",
       "      <td>...</td>\n",
       "      <td>0.00</td>\n",
       "      <td>0.00</td>\n",
       "      <td>0.00</td>\n",
       "      <td>0.69</td>\n",
       "      <td>0.04</td>\n",
       "      <td>No</td>\n",
       "      <td>0LB 0I 4RG</td>\n",
       "      <td>0.609</td>\n",
       "      <td>0LB 1I 3RG</td>\n",
       "      <td>0.217</td>\n",
       "    </tr>\n",
       "    <tr>\n",
       "      <th>3</th>\n",
       "      <td>4</td>\n",
       "      <td>喵绿喵绿喵</td>\n",
       "      <td>范沃森</td>\n",
       "      <td>Mar 19</td>\n",
       "      <td>2:22</td>\n",
       "      <td>5</td>\n",
       "      <td>Yes</td>\n",
       "      <td>Yes</td>\n",
       "      <td>Yes</td>\n",
       "      <td>No</td>\n",
       "      <td>...</td>\n",
       "      <td>0.00</td>\n",
       "      <td>0.00</td>\n",
       "      <td>0.00</td>\n",
       "      <td>0.88</td>\n",
       "      <td>0.04</td>\n",
       "      <td>No</td>\n",
       "      <td>0LB 0I 4RG</td>\n",
       "      <td>0.565</td>\n",
       "      <td>0LB 1I 3RG</td>\n",
       "      <td>0.304</td>\n",
       "    </tr>\n",
       "    <tr>\n",
       "      <th>4</th>\n",
       "      <td>5</td>\n",
       "      <td>Дарнейм</td>\n",
       "      <td>Пламегор</td>\n",
       "      <td>Feb 23</td>\n",
       "      <td>2:22</td>\n",
       "      <td>5</td>\n",
       "      <td>No</td>\n",
       "      <td>No</td>\n",
       "      <td>No</td>\n",
       "      <td>No</td>\n",
       "      <td>...</td>\n",
       "      <td>0.01</td>\n",
       "      <td>0.00</td>\n",
       "      <td>0.01</td>\n",
       "      <td>0.91</td>\n",
       "      <td>0.01</td>\n",
       "      <td>No</td>\n",
       "      <td>0LB 0I 4RG</td>\n",
       "      <td>0.571</td>\n",
       "      <td>0LB 1I 3RG</td>\n",
       "      <td>0.143</td>\n",
       "    </tr>\n",
       "  </tbody>\n",
       "</table>\n",
       "<p>5 rows × 23 columns</p>\n",
       "</div>"
      ],
      "text/plain": [
       "   Rank     Name     Server    Date Duration  nHealers Spriest? Innervate?  \\\n",
       "0     1    一杯马爹利  雷霆之击 (CN)  Mar 28     2:46         5       No        Yes   \n",
       "1     2     氢硫化钠         奥罗  Mar 21     1:40         5       No        Yes   \n",
       "2     3      搞不得  末日之刃 (CN)  Mar 17     2:25         5      Yes        Yes   \n",
       "3     4    喵绿喵绿喵        范沃森  Mar 19     2:22         5      Yes        Yes   \n",
       "4     5  Дарнейм   Пламегор  Feb 23     2:22         5       No         No   \n",
       "\n",
       "  Bloodlust? Power Infusion?  ... % LB (tick) HPS % LB (bloom) HPS  \\\n",
       "0        Yes             Yes  ...            0.11             0.08   \n",
       "1         No              No  ...            0.01             0.01   \n",
       "2        Yes              No  ...            0.00             0.00   \n",
       "3        Yes              No  ...            0.00             0.00   \n",
       "4         No              No  ...            0.01             0.00   \n",
       "\n",
       "   % Rejuv HPS  % Regrowth HPS  % Swiftmend HPS  Rotating on tank?  \\\n",
       "0         0.00            0.77             0.00                 No   \n",
       "1         0.00            0.83             0.04                 No   \n",
       "2         0.00            0.69             0.04                 No   \n",
       "3         0.00            0.88             0.04                 No   \n",
       "4         0.01            0.91             0.01                 No   \n",
       "\n",
       "   Rotation 1  % Rotation 1  Rotation 2 % Rotation 2  \n",
       "0  0LB 0I 4RG         0.481  0LB 4I 0RG        0.185  \n",
       "1  0LB 1I 3RG         0.438  0LB 0I 4RG        0.438  \n",
       "2  0LB 0I 4RG         0.609  0LB 1I 3RG        0.217  \n",
       "3  0LB 0I 4RG         0.565  0LB 1I 3RG        0.304  \n",
       "4  0LB 0I 4RG         0.571  0LB 1I 3RG        0.143  \n",
       "\n",
       "[5 rows x 23 columns]"
      ]
     },
     "execution_count": 8,
     "metadata": {},
     "output_type": "execute_result"
    }
   ],
   "source": [
    "data.head()"
   ]
  },
  {
   "cell_type": "code",
   "execution_count": 9,
   "id": "3b7bfc98",
   "metadata": {},
   "outputs": [
    {
     "data": {
      "text/plain": [
       "array([[<AxesSubplot:title={'center':'HPS'}>]], dtype=object)"
      ]
     },
     "execution_count": 9,
     "metadata": {},
     "output_type": "execute_result"
    },
    {
     "data": {
      "image/png": "[encoded data removed]",
      "text/plain": [
       "<Figure size 576x396 with 1 Axes>"
      ]
     },
     "metadata": {
      "needs_background": "light"
     },
     "output_type": "display_data"
    }
   ],
   "source": [
    "# Distribution of HPS\n",
    "data.hist(column='HPS', bins=20, grid=False)"
   ]
  },
  {
   "cell_type": "code",
   "execution_count": null,
   "id": "79d7b0db",
   "metadata": {},
   "outputs": [],
   "source": []
  },
  {
   "cell_type": "markdown",
   "id": "ec181a6d",
   "metadata": {},
   "source": [
    "# A straightforward way to compare the rotations is with an errorplot, ie plot the mean HPS of each rotation where the x-error is just the standard error for each distribution:\n",
    "# δ = σ / sqrt(N)"
   ]
  },
  {
   "cell_type": "code",
   "execution_count": 10,
   "id": "b1394d81",
   "metadata": {},
   "outputs": [
    {
     "data": {
      "image/png": "[encoded data removed]",
      "text/plain": [
       "<Figure size 800x800 with 1 Axes>"
      ]
     },
     "metadata": {
      "needs_background": "light"
     },
     "output_type": "display_data"
    }
   ],
   "source": [
    "Helpers.plot_rotations(boss, data)"
   ]
  },
  {
   "cell_type": "code",
   "execution_count": null,
   "id": "c6e00696",
   "metadata": {},
   "outputs": [],
   "source": []
  },
  {
   "cell_type": "markdown",
   "id": "4af7f929",
   "metadata": {},
   "source": [
    "# However, one must be careful when using the mean because it can be sensitive to outliers in the data, especially when N is small. A common way to visualize data with outliers is a box-and-whisker plot."
   ]
  },
  {
   "cell_type": "code",
   "execution_count": 11,
   "id": "394841ce",
   "metadata": {},
   "outputs": [],
   "source": [
    "# TODO: Add boxplot"
   ]
  },
  {
   "cell_type": "code",
   "execution_count": null,
   "id": "5d7097d0",
   "metadata": {},
   "outputs": [],
   "source": []
  },
  {
   "cell_type": "markdown",
   "id": "3e126f42",
   "metadata": {},
   "source": [
    "# What variables correlate the strongest with HPS?"
   ]
  },
  {
   "cell_type": "code",
   "execution_count": 12,
   "id": "8d4aa934",
   "metadata": {},
   "outputs": [],
   "source": [
    "# Convert \"Yes/No\" to \"1/0\" for pandas\n",
    "data['Spriest?'] = data['Spriest?'].map({'Yes': 1, 'No': 0})\n",
    "data['Innervate?'] = data['Innervate?'].map({'Yes': 1, 'No': 0})\n",
    "data['Bloodlust?'] = data['Bloodlust?'].map({'Yes': 1, 'No': 0})\n",
    "data['Power Infusion?'] = data['Power Infusion?'].map({'Yes': 1, 'No': 0})\n",
    "data[\"Nature's Grace?\"] = data[\"Nature's Grace?\"].map({'Yes': 1, 'No': 0})"
   ]
  },
  {
   "cell_type": "code",
   "execution_count": 13,
   "id": "a617bd5d",
   "metadata": {},
   "outputs": [
    {
     "data": {
      "text/plain": [
       "HPS                 1.000000\n",
       "Power Infusion?     0.157373\n",
       "Spriest?            0.125783\n",
       "Nature's Grace?     0.113676\n",
       "% Regrowth HPS      0.111619\n",
       "% Rotation 1        0.069071\n",
       "Bloodlust?          0.035577\n",
       "% Rotation 2        0.029492\n",
       "Innervate?         -0.013904\n",
       "% Swiftmend HPS    -0.019322\n",
       "% LB (bloom) HPS   -0.023366\n",
       "% LB (tick) HPS    -0.036236\n",
       "% Rejuv HPS        -0.110120\n",
       "nHealers           -0.123243\n",
       "Rank               -0.854705\n",
       "Name: HPS, dtype: float64"
      ]
     },
     "execution_count": 13,
     "metadata": {},
     "output_type": "execute_result"
    }
   ],
   "source": [
    "data.corr()['HPS'].sort_values(ascending=False)"
   ]
  },
  {
   "cell_type": "code",
   "execution_count": null,
   "id": "806c6a09",
   "metadata": {},
   "outputs": [],
   "source": []
  }
 ],
 "metadata": {
  "kernelspec": {
   "display_name": "Python 3 (ipykernel)",
   "language": "python",
   "name": "python3"
  },
  "language_info": {
   "codemirror_mode": {
    "name": "ipython",
    "version": 3
   },
   "file_extension": ".py",
   "mimetype": "text/x-python",
   "name": "python",
   "nbconvert_exporter": "python",
   "pygments_lexer": "ipython3",
   "version": "3.9.7"
  }
 },
 "nbformat": 4,
 "nbformat_minor": 5
}
