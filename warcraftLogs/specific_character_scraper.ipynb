{
 "cells": [
  {
   "cell_type": "markdown",
   "id": "2c83639c",
   "metadata": {},
   "source": [
    "## Import packages"
   ]
  },
  {
   "cell_type": "code",
   "execution_count": 19,
   "id": "344882c3",
   "metadata": {},
   "outputs": [
    {
     "data": {
      "text/plain": [
       "<module 'src' from 'C:\\\\Users\\\\Matth\\\\git\\\\DataAnalysisWorkbooks\\\\warcraftLogs\\\\src.py'>"
      ]
     },
     "execution_count": 19,
     "metadata": {},
     "output_type": "execute_result"
    }
   ],
   "source": [
    "import selenium\n",
    "from selenium import webdriver\n",
    "\n",
    "import shutil, time, os\n",
    "import pandas as pd\n",
    "import warnings\n",
    "warnings.filterwarnings('ignore')\n",
    "\n",
    "from importlib import reload\n",
    "\n",
    "import src\n",
    "reload(src)"
   ]
  },
  {
   "cell_type": "code",
   "execution_count": null,
   "id": "97823265",
   "metadata": {},
   "outputs": [],
   "source": []
  },
  {
   "cell_type": "markdown",
   "id": "5471c0b8",
   "metadata": {},
   "source": [
    "## Configurations"
   ]
  },
  {
   "cell_type": "code",
   "execution_count": 7,
   "id": "4f7f63dc",
   "metadata": {},
   "outputs": [],
   "source": [
    "# Set path variables\n",
    "path_to_adblocker, path_to_download_dir = src.get_path_settings()"
   ]
  },
  {
   "cell_type": "code",
   "execution_count": 4,
   "id": "ed3c3c9c",
   "metadata": {},
   "outputs": [],
   "source": [
    "# Set character info\n",
    "character_name = \"Urbit\"\n",
    "character_server = \"Benediction\"\n",
    "character_region = \"US\""
   ]
  },
  {
   "cell_type": "code",
   "execution_count": 5,
   "id": "32dc09c4",
   "metadata": {},
   "outputs": [],
   "source": [
    "# Number of parses to scrape\n",
    "N_parses = 2\n",
    "retry_attempts = 5\n",
    "\n",
    "# Enable/disable SMS\n",
    "twilio = False\n",
    "\n",
    "# Enable/disable verbose printouts (debugger)\n",
    "verbose = True\n",
    "verbose_rotation = False"
   ]
  },
  {
   "cell_type": "code",
   "execution_count": null,
   "id": "7e3eba06",
   "metadata": {},
   "outputs": [],
   "source": []
  },
  {
   "cell_type": "markdown",
   "id": "cf698446",
   "metadata": {},
   "source": [
    "## Navigate to character page"
   ]
  },
  {
   "cell_type": "code",
   "execution_count": 8,
   "id": "8979eed0",
   "metadata": {
    "scrolled": true
   },
   "outputs": [],
   "source": [
    "char_url, browser = src.load_individual_char_scraper(path_to_adblocker, character_name, character_server, character_region)"
   ]
  },
  {
   "cell_type": "code",
   "execution_count": 288,
   "id": "30272aab",
   "metadata": {},
   "outputs": [
    {
     "data": {
      "text/plain": [
       "[\"High Warlord Naj'entus\",\n",
       " 'Supremus',\n",
       " 'Shade of Akama',\n",
       " 'Teron Gorefiend',\n",
       " 'Gurtogg Bloodboil',\n",
       " 'Reliquary of Souls',\n",
       " 'Mother Shahraz',\n",
       " 'The Illidari Council',\n",
       " 'Illidan Stormrage',\n",
       " 'Rage Winterchill',\n",
       " 'Anetheron',\n",
       " \"Kaz'rogal\",\n",
       " 'Azgalor',\n",
       " 'Archimonde']"
      ]
     },
     "execution_count": 288,
     "metadata": {},
     "output_type": "execute_result"
    }
   ],
   "source": [
    "bosses = src.get_t6_bosses(browser)\n",
    "bosses"
   ]
  },
  {
   "cell_type": "code",
   "execution_count": 9,
   "id": "cf3badf1",
   "metadata": {},
   "outputs": [],
   "source": [
    "# Alternatively specify specific bosses\n",
    "bosses = [\"High Warlord Naj'entus\",\n",
    " 'Supremus',\n",
    " 'Shade of Akama',\n",
    " 'Teron Gorefiend']"
   ]
  },
  {
   "cell_type": "code",
   "execution_count": 10,
   "id": "26edb3ee",
   "metadata": {},
   "outputs": [],
   "source": [
    "# Dictionary for browser to navigate to boss page URLs\n",
    "boss_link_dict = {\"High Warlord Naj'entus\" : \"#boss=601\", \"Supremus\" : \"#boss=602\", \"Shade of Akama\" : \"#boss=603\", \n",
    "                  \"Teron Gorefiend\" : \"#boss=604\", \"Gurtogg Bloodboil\" : \"#boss=605\", \"Reliquary of Souls\" : \"#boss=606\", \n",
    "                  \"Mother Shahraz\" : \"#boss=607\", \"The Illidari Council\" : \"#boss=608\", \"Illidan Stormrage\" : \"#boss=609\", \n",
    "                  \"Rage Winterchill\" : \"#boss=618\", \"Anetheron\" : \"#boss=619\", \"Kaz'rogal\" : \"#boss=620\", \n",
    "                  \"Azgalor\" : \"#boss=621\", \"Archimonde\" : \"#boss=622\"}"
   ]
  },
  {
   "cell_type": "code",
   "execution_count": null,
   "id": "2c52ee16",
   "metadata": {},
   "outputs": [],
   "source": []
  },
  {
   "cell_type": "markdown",
   "id": "53d956f4",
   "metadata": {},
   "source": [
    "## Main code loop"
   ]
  },
  {
   "cell_type": "code",
   "execution_count": null,
   "id": "b50b49a8",
   "metadata": {
    "scrolled": false
   },
   "outputs": [
    {
     "name": "stdout",
     "output_type": "stream",
     "text": [
      "Boss: High Warlord Naj'entus\n",
      "Parse already recorded. Skipping\n",
      "Tanks: ['Writz', 'Flebbis']\n",
      "Lifebloom uptime %: 99.53%\n",
      "2LB 3I 0RG 0.053\n",
      "1LB 3I 0RG 0.368\n",
      "1LB 2I 1RG 0.158\n",
      "1LB 4I 0RG 0.211\n",
      "0LB 1I 3RG 0.053\n",
      "1LB 1I 2RG 0.053\n",
      "0LB 4I 1RG 0.053\n",
      "0LB 5I 0RG 0.053\n",
      "Non-tank rotations %: 0.16\n",
      "Rotating on tank?: Yes\n",
      "Rotations: 1LB 3I 0RG (0.368), 1LB 4I 0RG (0.211)\n",
      "------\n",
      "High Warlord Naj'entus scraping complete.\n",
      "---------------\n",
      "Boss: Supremus\n",
      "Tanks: ['Gankkd', 'Sanctusara', 'Flebbis']\n",
      "Lifebloom uptime %: 100.00%\n",
      "3LB 1I 0RG 0.267\n",
      "2LB 2I 0RG 0.1\n",
      "3LB 0I 0RG 0.033\n",
      "3LB 0I 1RG 0.067\n",
      "3LB 2I 0RG 0.033\n",
      "2LB 2I 1RG 0.033\n",
      "2LB 3I 0RG 0.133\n",
      "0LB 3I 0RG 0.067\n",
      "1LB 4I 0RG 0.067\n",
      "1LB 3I 1RG 0.033\n",
      "0LB 5I 0RG 0.067\n",
      "2LB 1I 1RG 0.067\n",
      "2LB 1I 0RG 0.033\n",
      "Non-tank rotations %: 0.13\n",
      "Rotating on tank?: Yes\n",
      "Rotations: 3LB 1I 0RG (0.267), 2LB 3I 0RG (0.133)\n",
      "------\n",
      "Supremus scraping complete.\n",
      "---------------\n",
      "Boss: Shade of Akama\n",
      "Tanks: ['Gankkd', 'Sanctusara', 'Flebbis']\n",
      "Lifebloom uptime %: 100.00%\n",
      "3LB 1I 0RG 0.267\n",
      "2LB 2I 0RG 0.1\n",
      "3LB 0I 0RG 0.033\n",
      "3LB 0I 1RG 0.067\n",
      "3LB 2I 0RG 0.033\n",
      "2LB 2I 1RG 0.033\n",
      "2LB 3I 0RG 0.133\n",
      "0LB 3I 0RG 0.067\n",
      "1LB 4I 0RG 0.067\n",
      "1LB 3I 1RG 0.033\n",
      "0LB 5I 0RG 0.067\n",
      "2LB 1I 1RG 0.067\n",
      "2LB 1I 0RG 0.033\n",
      "Non-tank rotations %: 0.13\n",
      "Rotating on tank?: Yes\n",
      "Rotations: 3LB 1I 0RG (0.267), 2LB 3I 0RG (0.133)\n",
      "------\n",
      "Tanks: ['Gankkd', 'Writz', 'Flebbis']\n"
     ]
    }
   ],
   "source": [
    "def main():\n",
    "    \n",
    "    # Twilio is an SMS service that will send a text to your phone when the code finishes/crashes.\n",
    "    # If you haven't setup twilio then set the flag to False in the Configuration cell.\n",
    "    if twilio: \n",
    "        from twilio.rest import Client\n",
    "        accountSID, authToken, myTwilioNumber, myCellPhone = src.get_twilio_info()\n",
    "        twilioCli = Client(accountSID, authToken)\n",
    "    \n",
    "    \n",
    "    retry_attempt = 0\n",
    "    \n",
    "    # The browser can crash at random due to the page loading too slowly. Rather than restarting the loop manually,\n",
    "    # use 'retry_attempts' (default = 3) and the following while loop to restart automatically.\n",
    "    while True: \n",
    "        \n",
    "        #try:\n",
    "    \n",
    "        for boss in bosses:\n",
    "\n",
    "            browser.get(f\"https://classic.warcraftlogs.com/character/{character_region.lower()}/{character_server.lower()}/{character_name.lower()}{boss_link_dict[boss]}\")\n",
    "            time.sleep(1)\n",
    "\n",
    "            # Pick out the top parse of this boss\n",
    "            search = browser.find_elements_by_class_name(\"character-table-link\")\n",
    "            boss_page_url = browser.current_url\n",
    "\n",
    "            print(f\"Boss: {boss}\")\n",
    "\n",
    "            for i in range(N_parses):\n",
    "\n",
    "                player_df = pd.DataFrame(pd.np.empty((0, 23)))\n",
    "                player_df.columns = [\"Name\", \"Server\", \"Date\", \"Kill time\", \"Rank\", \"nHealers\", \"Spriest?\", \"Innervate?\", \"Bloodlust?\", \"Nature's Grace?\", \"Power Infusion?\", \"LB_uptime\", \"HPS\", \"% LB (tick) HPS\", \"% LB (bloom) HPS\", \"% Rejuv HPS\", \"% Regrowth HPS\", \"% Swiftmend HPS\", \"Rotating on tank?\", \"Rotation 1\", \"% Rotation 1\", \"Rotation 2\", \"% Rotation 2\"]\n",
    "\n",
    "                try:\n",
    "                    rank, date, boss_rank, boss_HPS, boss_killtime, HPS_link = src.get_boss_data_char_scraper(browser, i)\n",
    "\n",
    "                except IndexError: \n",
    "                    continue\n",
    "\n",
    "                search = browser.find_elements_by_class_name(\"character-table-link\")\n",
    "\n",
    "                if src.check_if_parse_already_recorded_char_scraper(i, browser, search, boss, character_name, character_server, character_region): \n",
    "                    print(\"Parse already recorded. Skipping\")\n",
    "                    browser.get(boss_page_url)\n",
    "                    continue\n",
    "\n",
    "                HPS_link.click()\n",
    "                time.sleep(2)\n",
    "\n",
    "                temp_url = browser.current_url\n",
    "\n",
    "                boss_tanks = src.get_tanks(browser)\n",
    "                nHealers = src.get_nHealers(browser)\n",
    "\n",
    "                print(f\"Tanks: {boss_tanks}\")\n",
    "\n",
    "                browser.get(temp_url)\n",
    "                time.sleep(0.5)\n",
    "\n",
    "                player_link = browser.find_element_by_link_text(character_name)\n",
    "                player_link.click()\n",
    "                time.sleep(0.5)\n",
    "\n",
    "                # Scrape spell HPS\n",
    "                LBtick_HPS, LBbloom_HPS, rejuv_HPS, regrowth_HPS, swiftmend_HPS, LB_uptime = src.get_spell_info(browser, boss_HPS)\n",
    "                time.sleep(2)\n",
    "\n",
    "                # Scrape mana sources\n",
    "                spriest = src.check_spriest(browser)\n",
    "                innervate, bloodlust, powerInfusion, naturesGrace = src.check_buffs(browser)\n",
    "\n",
    "                # Download the cast-sequence CSV.\n",
    "                src.download_csv(browser, temp_url, \"filter-casts-tab\", path_to_download_dir, \"data/cast_sequence.csv\")\n",
    "                time.sleep(1)\n",
    "\n",
    "                # Clean the csv\n",
    "                df = src.clean_cast_sequence_csv()\n",
    "                df = src.fix_cast_time(df)\n",
    "                time.sleep(0.5)\n",
    "\n",
    "                # Get the rotations\n",
    "                rotation1, rotation1_percent, rotation2, rotation2_percent, rotating_on_tank = src.calculate_rotations(df, boss, boss_tanks, LB_uptime, verbose, verbose_rotation)\n",
    "                print(f'Rotations: {rotation1} ({rotation1_percent}), {rotation2} ({rotation2_percent})')   \n",
    "\n",
    "                # Add data to pandas dataframe\n",
    "                to_append = [character_name, character_server + \" \" + character_region, date, boss_killtime, boss_rank, str(nHealers), spriest, innervate, bloodlust, powerInfusion, naturesGrace, LB_uptime, boss_HPS, LBtick_HPS, LBbloom_HPS, rejuv_HPS, regrowth_HPS, swiftmend_HPS, rotating_on_tank, rotation1, rotation1_percent, rotation2, rotation2_percent]\n",
    "                src.export_to_excel(boss, to_append, player_df, character_name, 'character_data', False)\n",
    "\n",
    "                os.remove(f\"data/{boss.replace(' ', '')}_{character_name}.csv\")\n",
    "                os.remove(f\"data/cast_sequence.csv\")\n",
    "\n",
    "                #Return to boss page\n",
    "                browser.get(boss_page_url)\n",
    "                time.sleep(1)  # Cannot be < 1s\n",
    "                print('------')\n",
    "\n",
    "            print(f\"{boss} scraping complete.\")\n",
    "            print(\"---------------\")\n",
    "\n",
    "         # Return to character page\n",
    "        browser.get(char_url)\n",
    "\n",
    "        message = twilioCli.messages.create(body='Data scraping complete!', from_=myTwilioNumber, to=myCellPhone)\n",
    "        break\n",
    "            \n",
    "        #except:\n",
    "        #    retry_attempt += 1\n",
    "        #    time.sleep(10)\n",
    "        #    if retry_attempt == retry_attempts: \n",
    "        #        message = twilioCli.messages.create(body='Data scraping crashed', from_=myTwilioNumber, to=myCellPhone)\n",
    "        #        break\n",
    "    \n",
    "\n",
    "if __name__ == \"__main__\":\n",
    "    main()"
   ]
  },
  {
   "cell_type": "code",
   "execution_count": null,
   "id": "e8e0e972",
   "metadata": {},
   "outputs": [],
   "source": []
  },
  {
   "cell_type": "code",
   "execution_count": null,
   "id": "80db6adb",
   "metadata": {},
   "outputs": [],
   "source": []
  }
 ],
 "metadata": {
  "kernelspec": {
   "display_name": "Python 3 (ipykernel)",
   "language": "python",
   "name": "python3"
  },
  "language_info": {
   "codemirror_mode": {
    "name": "ipython",
    "version": 3
   },
   "file_extension": ".py",
   "mimetype": "text/x-python",
   "name": "python",
   "nbconvert_exporter": "python",
   "pygments_lexer": "ipython3",
   "version": "3.9.7"
  }
 },
 "nbformat": 4,
 "nbformat_minor": 5
}
