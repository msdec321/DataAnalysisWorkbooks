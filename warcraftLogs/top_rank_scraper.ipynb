{
 "cells": [
  {
   "cell_type": "markdown",
   "id": "85820b0d",
   "metadata": {},
   "source": [
    "## Import packages"
   ]
  },
  {
   "cell_type": "code",
   "execution_count": 1,
   "id": "0c028fd9",
   "metadata": {},
   "outputs": [
    {
     "data": {
      "text/plain": [
       "<module 'src' from 'C:\\\\Users\\\\Hugh\\\\git\\\\warcraftLogs\\\\src.py'>"
      ]
     },
     "execution_count": 1,
     "metadata": {},
     "output_type": "execute_result"
    }
   ],
   "source": [
    "import selenium\n",
    "from selenium import webdriver\n",
    "\n",
    "import shutil, time, os\n",
    "import pandas as pd\n",
    "import warnings\n",
    "warnings.filterwarnings('ignore')\n",
    "\n",
    "from importlib import reload\n",
    "\n",
    "import src\n",
    "reload(src)"
   ]
  },
  {
   "cell_type": "code",
   "execution_count": null,
   "id": "b79dd0f0",
   "metadata": {},
   "outputs": [],
   "source": []
  },
  {
   "cell_type": "markdown",
   "id": "938b4943",
   "metadata": {},
   "source": [
    "## Configurations"
   ]
  },
  {
   "cell_type": "code",
   "execution_count": 2,
   "id": "2588d751",
   "metadata": {},
   "outputs": [],
   "source": [
    "# Set path variables\n",
    "path_to_adblocker = r\"C:\\Users\\Hugh\\Desktop\\3.11.2_0\"\n",
    "path_to_download_dir = r\"C:\\Users\\Hugh\\Downloads\"\n",
    "\n",
    "# Enable/disable SMS\n",
    "twilio = False"
   ]
  },
  {
   "cell_type": "code",
   "execution_count": 9,
   "id": "17df6c1f",
   "metadata": {},
   "outputs": [],
   "source": [
    "# Number of parses to scrape (Current max is 100 or 1 page)\n",
    "N_parses = 5"
   ]
  },
  {
   "cell_type": "code",
   "execution_count": null,
   "id": "5b9bc002",
   "metadata": {},
   "outputs": [],
   "source": []
  },
  {
   "cell_type": "markdown",
   "id": "65a57194",
   "metadata": {},
   "source": [
    "## Navigate to WCL"
   ]
  },
  {
   "cell_type": "code",
   "execution_count": 4,
   "id": "d6efa04f",
   "metadata": {},
   "outputs": [],
   "source": [
    "boss = \"Azgalor\""
   ]
  },
  {
   "cell_type": "code",
   "execution_count": 5,
   "id": "02837c7c",
   "metadata": {},
   "outputs": [],
   "source": [
    "# Dictionary for browser to navigate to boss page URLs\n",
    "boss_link_dict = {\"High Warlord Naj'entus\" : \"#boss=601\", \"Supremus\" : \"#boss=602\", \"Shade of Akama\" : \"#boss=603\", \n",
    "                  \"Teron Gorefiend\" : \"#boss=604\", \"Gurtogg Bloodboil\" : \"#boss=605\", \"Reliquary of Souls\" : \"#boss=606\", \n",
    "                  \"Mother Shahraz\" : \"#boss=607\", \"The Illidari Council\" : \"#boss=608\", \"Illidan Stormrage\" : \"#boss=609\", \n",
    "                  \"Rage Winterchill\" : \"#boss=618\", \"Anetheron\" : \"#boss=619\", \"Kaz'rogal\" : \"#boss=620\", \n",
    "                  \"Azgalor\" : \"#boss=621\", \"Archimonde\" : \"#boss=622\"}"
   ]
  },
  {
   "cell_type": "code",
   "execution_count": 6,
   "id": "f2d71c51",
   "metadata": {},
   "outputs": [],
   "source": [
    "boss_page_url, browser = src.load_top_N_scraper(path_to_adblocker, boss, boss_link_dict)"
   ]
  },
  {
   "cell_type": "code",
   "execution_count": null,
   "id": "a2684afc",
   "metadata": {},
   "outputs": [],
   "source": []
  },
  {
   "cell_type": "markdown",
   "id": "0414985f",
   "metadata": {},
   "source": [
    "## Main code loop"
   ]
  },
  {
   "cell_type": "code",
   "execution_count": 8,
   "id": "4d95e336",
   "metadata": {
    "scrolled": false
   },
   "outputs": [
    {
     "name": "stdout",
     "output_type": "stream",
     "text": [
      "Checking for rank changes since last scrape...\n",
      "Rank updates complete.\n",
      "-----------\n",
      "Beginning data scrape...\n",
      "2 尔丶晴  辛迪加\n",
      "Tanks: ['Deirdre', '团宠大尐姐丶', '战神小年糕']\n"
     ]
    }
   ],
   "source": [
    "def main():\n",
    "    \n",
    "    if twilio: \n",
    "        from twilio.rest import Client\n",
    "        accountSID, authToken, myTwilioNumber, myCellPhone = src.get_twilio_info()\n",
    "        twilioCli = Client(accountSID, authToken)\n",
    "        \n",
    "    \n",
    "    browser.get(boss_page_url)\n",
    "    time.sleep(4)\n",
    "    \n",
    "    # First check to see if any of the rankings changed since last scraping and update the excel file\n",
    "    print(\"Checking for rank changes since last scrape...\")\n",
    "    for i in range(1, N_parses):\n",
    "        rank, name, server, region, date, HPS, duration = src.get_boss_data_top_N_scraper(browser, boss, boss_link_dict, i)\n",
    "        \n",
    "        rank_changed = src.check_if_rank_changed(boss, rank, name, date)\n",
    "        if rank_changed: \n",
    "            src.update_rank(boss, rank, name, date)\n",
    "    print(\"Rank updates complete.\")\n",
    "    print('-----------')\n",
    "    time.sleep(2)\n",
    "    \n",
    "    \n",
    "    try:\n",
    "        print(\"Beginning data scrape...\")\n",
    "        for i in range(1, N_parses):\n",
    "\n",
    "            rank, name, server, region, date, HPS, duration = src.get_boss_data_top_N_scraper(browser, boss, boss_link_dict, i)\n",
    "            #if name in ['Tolueen']: continue\n",
    "\n",
    "\n",
    "            if src.check_if_parse_already_recorded_top_N(boss, rank, name): \n",
    "                    continue\n",
    "\n",
    "            print(rank, name, server, region)\n",
    "\n",
    "            link = browser.find_element_by_link_text(name)\n",
    "            link.click()\n",
    "            time.sleep(1)\n",
    "\n",
    "            player_df = pd.DataFrame(pd.np.empty((0, 23)))\n",
    "            player_df.columns = [\"Rank\", \"Name\", \"Server\", \"Date\", \"Duration\", \"nHealers\", \"Spriest?\", \"Innervate?\", \"Bloodlust?\", \"Nature's Grace?\", \"Power Infusion?\", \"LB_uptime\", \"HPS\", \"% LB (tick) HPS\", \"% LB (bloom) HPS\", \"% Rejuv HPS\", \"% Regrowth HPS\", \"% Swiftmend HPS\", \"Rotating on tank?\", \"Rotation 1\", \"% Rotation 1\", \"Rotation 2\", \"% Rotation 2\"]\n",
    "\n",
    "            temp_url = browser.current_url\n",
    "            time.sleep(1)\n",
    "\n",
    "            boss_tanks = src.get_tanks(browser)\n",
    "            nHealers = src.get_nHealers(browser)\n",
    "\n",
    "            print(f\"Tanks: {boss_tanks}\")\n",
    "\n",
    "            browser.get(temp_url)\n",
    "            time.sleep(0.5)\n",
    "\n",
    "            player_link = browser.find_element_by_link_text(name)\n",
    "            player_link.click()\n",
    "            time.sleep(0.5)\n",
    "\n",
    "            # Scrape spell HPS\n",
    "            LBtick_HPS, LBbloom_HPS, rejuv_HPS, regrowth_HPS, swiftmend_HPS, LB_uptime = src.get_spell_info(browser, HPS)\n",
    "            time.sleep(2)\n",
    "\n",
    "            # Scrape mana sources\n",
    "            spriest = src.check_spriest(browser)\n",
    "            innervate, bloodlust, powerInfusion, naturesGrace = src.check_buffs(browser)\n",
    "            time.sleep(0.5)    \n",
    "\n",
    "            # Download the cast-sequence CSV.\n",
    "            src.download_csv(browser, temp_url, \"filter-casts-tab\", path_to_download_dir, \"data/cast_sequence.csv\")\n",
    "            time.sleep(1)\n",
    "\n",
    "            # Clean the csv\n",
    "            df = src.clean_cast_sequence_csv()\n",
    "            df = src.fix_cast_time(df)\n",
    "            time.sleep(0.5)\n",
    "\n",
    "            # Get the rotations\n",
    "            rotation1, rotation1_percent, rotation2, rotation2_percent, rotating_on_tank = src.calculate_rotations(df, boss, boss_tanks)\n",
    "            print(f'Rotations: {rotation1} ({rotation1_percent}), {rotation2} ({rotation2_percent})')  \n",
    "\n",
    "            to_append = [rank, name, server + \" \" + region, date, duration, str(nHealers), spriest, innervate, bloodlust, powerInfusion, naturesGrace, LB_uptime, HPS, LBtick_HPS, LBbloom_HPS, rejuv_HPS, regrowth_HPS, swiftmend_HPS, rotating_on_tank, rotation1, rotation1_percent, rotation2, rotation2_percent]\n",
    "            src.export_to_excel(boss, to_append, player_df, name, 'top_N_druids', True)\n",
    "\n",
    "            os.remove(f\"data/{boss.replace(' ', '')}_{name}.csv\")\n",
    "            os.remove(f\"data/cast_sequence.csv\")\n",
    "            os.remove(f\"data/cast_sequence_fixed.csv\")\n",
    "\n",
    "            print('-------')\n",
    "            browser.get(boss_page_url)\n",
    "            time.sleep(1)\n",
    "\n",
    "\n",
    "        print(f\"{boss} scraping complete.\")\n",
    "        print(\"---------------\")\n",
    "\n",
    "        if twilio: \n",
    "            message = twilioCli.messages.create(body='Data scraping complete!', from_=myTwilioNumber, to=myCellPhone)\n",
    "        \n",
    "    except:\n",
    "        if twilio:\n",
    "            message = twilioCli.messages.create(body='Data scraping crashed.', from_=myTwilioNumber, to=myCellPhone)\n",
    "            \n",
    "        else: pass\n",
    "    \n",
    "    \n",
    "if __name__ == \"__main__\":\n",
    "    main()"
   ]
  },
  {
   "cell_type": "code",
   "execution_count": null,
   "id": "98e7a301",
   "metadata": {},
   "outputs": [],
   "source": []
  },
  {
   "cell_type": "code",
   "execution_count": null,
   "id": "844b3a3b",
   "metadata": {},
   "outputs": [],
   "source": []
  },
  {
   "cell_type": "code",
   "execution_count": null,
   "id": "23ee1f7c",
   "metadata": {},
   "outputs": [],
   "source": []
  }
 ],
 "metadata": {
  "kernelspec": {
   "display_name": "Python 3 (ipykernel)",
   "language": "python",
   "name": "python3"
  },
  "language_info": {
   "codemirror_mode": {
    "name": "ipython",
    "version": 3
   },
   "file_extension": ".py",
   "mimetype": "text/x-python",
   "name": "python",
   "nbconvert_exporter": "python",
   "pygments_lexer": "ipython3",
   "version": "3.9.5"
  }
 },
 "nbformat": 4,
 "nbformat_minor": 5
}
