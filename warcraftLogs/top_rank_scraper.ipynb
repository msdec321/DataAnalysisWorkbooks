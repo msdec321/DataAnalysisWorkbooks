{
 "cells": [
  {
   "cell_type": "markdown",
   "id": "85820b0d",
   "metadata": {},
   "source": [
    "## Import packages"
   ]
  },
  {
   "cell_type": "code",
   "execution_count": 1,
   "id": "0c028fd9",
   "metadata": {},
   "outputs": [
    {
     "data": {
      "text/plain": [
       "<module 'src' from 'C:\\\\Users\\\\Matth\\\\git\\\\DataAnalysisWorkbooks\\\\warcraftLogs\\\\src.py'>"
      ]
     },
     "execution_count": 1,
     "metadata": {},
     "output_type": "execute_result"
    }
   ],
   "source": [
    "import selenium\n",
    "from selenium import webdriver\n",
    "\n",
    "import shutil, time, os\n",
    "import pandas as pd\n",
    "import warnings\n",
    "warnings.filterwarnings('ignore')\n",
    "\n",
    "from importlib import reload\n",
    "\n",
    "import src\n",
    "reload(src)"
   ]
  },
  {
   "cell_type": "code",
   "execution_count": null,
   "id": "b79dd0f0",
   "metadata": {},
   "outputs": [],
   "source": []
  },
  {
   "cell_type": "markdown",
   "id": "938b4943",
   "metadata": {},
   "source": [
    "## Configurations"
   ]
  },
  {
   "cell_type": "code",
   "execution_count": 2,
   "id": "2588d751",
   "metadata": {},
   "outputs": [],
   "source": [
    "# Set path variables\n",
    "path_to_adblocker = r\"C:\\Users\\Matth\\Desktop\\3.12_0\"\n",
    "path_to_download_dir = r\"C:\\Users\\Matth\\Downloads\""
   ]
  },
  {
   "cell_type": "code",
   "execution_count": 9,
   "id": "17df6c1f",
   "metadata": {},
   "outputs": [],
   "source": [
    "N_parses = 11"
   ]
  },
  {
   "cell_type": "code",
   "execution_count": null,
   "id": "5b9bc002",
   "metadata": {},
   "outputs": [],
   "source": []
  },
  {
   "cell_type": "markdown",
   "id": "65a57194",
   "metadata": {},
   "source": [
    "## Navigate to WCL"
   ]
  },
  {
   "cell_type": "code",
   "execution_count": 5,
   "id": "d6efa04f",
   "metadata": {},
   "outputs": [],
   "source": [
    "boss = \"High Warlord Naj'entus\""
   ]
  },
  {
   "cell_type": "code",
   "execution_count": 6,
   "id": "02837c7c",
   "metadata": {},
   "outputs": [],
   "source": [
    "boss_link_dict = {\"High Warlord Naj'entus\" : \"#boss=601\", \"Supremus\" : \"#boss=602\", \"Shade of Akama\" : \"#boss=603\", \n",
    "                  \"Teron Gorefiend\" : \"#boss=604\", \"Gurtogg Bloodboil\" : \"#boss=605\", \"Reliquary of Souls\" : \"#boss=606\", \n",
    "                  \"Mother Shahraz\" : \"#boss=607\", \"The Illidari Council\" : \"#boss=608\", \"Illidan Stormrage\" : \"#boss=609\", \n",
    "                  \"Rage Winterchill\" : \"#boss=618\", \"Anetheron\" : \"#boss=619\", \"Kaz'rogal\" : \"#boss=620\", \n",
    "                  \"Azgalor\" : \"#boss=621\", \"Archimonde\" : \"#boss=622\"}"
   ]
  },
  {
   "cell_type": "code",
   "execution_count": 7,
   "id": "f2d71c51",
   "metadata": {},
   "outputs": [],
   "source": [
    "boss_page_url, browser = src.load_top_N_scraper(path_to_adblocker, boss, boss_link_dict)"
   ]
  },
  {
   "cell_type": "code",
   "execution_count": null,
   "id": "a2684afc",
   "metadata": {},
   "outputs": [],
   "source": []
  },
  {
   "cell_type": "markdown",
   "id": "0414985f",
   "metadata": {},
   "source": [
    "## Main code loop"
   ]
  },
  {
   "cell_type": "code",
   "execution_count": null,
   "id": "4d95e336",
   "metadata": {},
   "outputs": [
    {
     "name": "stdout",
     "output_type": "stream",
     "text": [
      "1 一杯马爹利 雷霆之击 (CN)\n",
      "Parse already recorded. Skipping\n",
      "2 氢硫化钠 奥罗 (CN)\n",
      "Parse already recorded. Skipping\n",
      "3 搞不得 末日之刃 (CN)\n",
      "Parse already recorded. Skipping\n",
      "4 喵绿喵绿喵 范沃森 (CN)\n",
      "Parse already recorded. Skipping\n",
      "5 Дарнейм Пламегор (EU)\n",
      "Parse already recorded. Skipping\n",
      "6 芬巴巴之花 碧空之歌 (CN)\n",
      "Parse already recorded. Skipping\n",
      "7 黑夜现苍鹰 伦鲁迪洛尔 (CN)\n",
      "Parse already recorded. Skipping\n",
      "8 德国进口德 维希度斯 (CN)\n",
      "Parse already recorded. Skipping\n",
      "9 托尔德 雷霆之击 (CN)\n",
      "Parse already recorded. Skipping\n",
      "10 Day 艾隆纳亚 (CN)\n"
     ]
    }
   ],
   "source": [
    "def main():\n",
    "    \n",
    "    for i in range(1, N_parses):\n",
    "        rank, char_info, date, HPS, duration = src.get_boss_data_top_N_scraper(browser, i)\n",
    "\n",
    "        name = char_info.split(\"\\n\")[0]\n",
    "\n",
    "        server_region = char_info.split(\"-\")\n",
    "\n",
    "        if len(server_region) == 1:\n",
    "            server_region = char_info.split(\"\\n\")[1]\n",
    "            server = server_region.split(\" \")[0]\n",
    "            region = server_region.split(\" \")[1]\n",
    "\n",
    "        else:\n",
    "            server_region = char_info.split(\"-\")[1]\n",
    "            server = server_region.split(\" \")[1]\n",
    "            region = server_region.split(\" \")[2]\n",
    "        \n",
    "        print(rank, name, server, region)\n",
    "        \n",
    "        if src.check_if_parse_already_recorded_top_N(boss, rank, name): \n",
    "                print(\"Parse already recorded. Skipping\")\n",
    "                continue\n",
    "    \n",
    "        link = browser.find_element_by_link_text(name)\n",
    "        link.click()\n",
    "        time.sleep(1)\n",
    "    \n",
    "        player_df = pd.DataFrame(pd.np.empty((0, 16)))\n",
    "        player_df.columns = [\"Rank\", \"Name\", \"Server\", \"Date\", \"Kill time\", \"nHealers\", \"Spriest?\", \"Innervate?\", \"LB_uptime\", \"HPS\", \"% LB (tick) HPS\", \"% LB (bloom) HPS\", \"% Rejuv HPS\", \"% Regrowth HPS\", \"% Swiftmend HPS\", \"Rotations\"]\n",
    "    \n",
    "        temp_url = browser.current_url\n",
    "        \n",
    "        boss_tanks = src.get_tanks(browser)\n",
    "        nHealers = src.get_nHealers(browser)\n",
    "    \n",
    "        print(f\"Tanks: {boss_tanks}\")\n",
    "        \n",
    "        browser.get(temp_url)\n",
    "        time.sleep(0.5)\n",
    "        \n",
    "        player_link = browser.find_element_by_link_text(name)\n",
    "        player_link.click()\n",
    "        time.sleep(0.5)\n",
    "        \n",
    "        # Scrape spell HPS\n",
    "        LBtick_HPS, LBbloom_HPS, rejuv_HPS, regrowth_HPS, swiftmend_HPS, LB_uptime = src.get_spell_info(browser, HPS)\n",
    "        time.sleep(2)\n",
    "                   \n",
    "        # Scrape mana sources\n",
    "        spriest = src.check_spriest(browser)\n",
    "        innervate = src.check_innervate(browser)\n",
    "        time.sleep(0.5)    \n",
    "        \n",
    "        # Download the cast-sequence CSV.\n",
    "        src.download_csv(browser, temp_url, \"filter-casts-tab\", path_to_download_dir, \"character_data/cast_sequence.csv\")\n",
    "        time.sleep(1)\n",
    "        \n",
    "        # Clean the csv\n",
    "        df = src.clean_cast_sequence_csv()\n",
    "        df = src.fix_cast_time(df)\n",
    "        time.sleep(0.5)\n",
    "        \n",
    "        # Get the rotations\n",
    "        rotations = src.calculate_rotations(df, boss, boss_tanks)\n",
    "        print(f'Rotations: {rotations}')  \n",
    "\n",
    "        to_append = [rank, name, server + \" \" + region, date, duration, str(nHealers), spriest, innervate, LB_uptime, HPS, LBtick_HPS, LBbloom_HPS, rejuv_HPS, regrowth_HPS, swiftmend_HPS, rotations]\n",
    "        src.export_to_excel(boss, to_append, player_df, name, 'top_N_druids')\n",
    "        \n",
    "        os.remove(f\"character_data/{boss.replace(' ', '')}_{name}.csv\")\n",
    "        os.remove(f\"character_data/cast_sequence.csv\")\n",
    "        \n",
    "        print('-------')\n",
    "        browser.get(boss_page_url)\n",
    "        time.sleep(1)\n",
    "        \n",
    "        \n",
    "    print(f\"{boss} scraping complete.\")\n",
    "    print(\"---------------\")\n",
    "    \n",
    "    \n",
    "if __name__ == \"__main__\":\n",
    "    main()"
   ]
  },
  {
   "cell_type": "code",
   "execution_count": 11,
   "id": "9ee99b0a",
   "metadata": {},
   "outputs": [],
   "source": [
    "browser.get(boss_page_url)"
   ]
  },
  {
   "cell_type": "code",
   "execution_count": null,
   "id": "83f64c14",
   "metadata": {},
   "outputs": [],
   "source": []
  },
  {
   "cell_type": "code",
   "execution_count": null,
   "id": "88009f9e",
   "metadata": {},
   "outputs": [],
   "source": []
  }
 ],
 "metadata": {
  "kernelspec": {
   "display_name": "Python 3 (ipykernel)",
   "language": "python",
   "name": "python3"
  },
  "language_info": {
   "codemirror_mode": {
    "name": "ipython",
    "version": 3
   },
   "file_extension": ".py",
   "mimetype": "text/x-python",
   "name": "python",
   "nbconvert_exporter": "python",
   "pygments_lexer": "ipython3",
   "version": "3.9.7"
  }
 },
 "nbformat": 4,
 "nbformat_minor": 5
}
