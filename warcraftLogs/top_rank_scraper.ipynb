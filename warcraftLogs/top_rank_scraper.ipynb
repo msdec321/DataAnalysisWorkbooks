{
 "cells": [
  {
   "cell_type": "markdown",
   "id": "85820b0d",
   "metadata": {},
   "source": [
    "## Import packages"
   ]
  },
  {
   "cell_type": "code",
   "execution_count": 81,
   "id": "0c028fd9",
   "metadata": {},
   "outputs": [
    {
     "data": {
      "text/plain": [
       "<module 'src' from 'C:\\\\Users\\\\Matth\\\\git\\\\DataAnalysisWorkbooks\\\\warcraftLogs\\\\src.py'>"
      ]
     },
     "execution_count": 81,
     "metadata": {},
     "output_type": "execute_result"
    }
   ],
   "source": [
    "import selenium\n",
    "from selenium import webdriver\n",
    "\n",
    "import shutil, time, os\n",
    "import pandas as pd\n",
    "\n",
    "import warnings\n",
    "warnings.filterwarnings('ignore')\n",
    "\n",
    "from importlib import reload\n",
    "\n",
    "import src\n",
    "reload(src)"
   ]
  },
  {
   "cell_type": "code",
   "execution_count": null,
   "id": "b79dd0f0",
   "metadata": {},
   "outputs": [],
   "source": []
  },
  {
   "cell_type": "markdown",
   "id": "938b4943",
   "metadata": {},
   "source": [
    "## Configurations"
   ]
  },
  {
   "cell_type": "code",
   "execution_count": 82,
   "id": "2588d751",
   "metadata": {},
   "outputs": [],
   "source": [
    "# Set path variables\n",
    "path_to_ublock, path_to_download_dir = src.get_path_settings()"
   ]
  },
  {
   "cell_type": "code",
   "execution_count": 88,
   "id": "17df6c1f",
   "metadata": {},
   "outputs": [],
   "source": [
    "# Number of parses to scrape\n",
    "N_parses = 251\n",
    "retry_attempts = 3\n",
    "\n",
    "# Enable/disable SMS\n",
    "twilio = True\n",
    "\n",
    "# Enable/disable verbose printouts (debugger)\n",
    "verbose = True\n",
    "verbose_rotation = False"
   ]
  },
  {
   "cell_type": "code",
   "execution_count": null,
   "id": "5b9bc002",
   "metadata": {},
   "outputs": [],
   "source": []
  },
  {
   "cell_type": "markdown",
   "id": "65a57194",
   "metadata": {},
   "source": [
    "## Navigate to WCL"
   ]
  },
  {
   "cell_type": "code",
   "execution_count": 84,
   "id": "d6efa04f",
   "metadata": {},
   "outputs": [],
   "source": [
    "boss = \"Shade of Akama\""
   ]
  },
  {
   "cell_type": "code",
   "execution_count": 85,
   "id": "02837c7c",
   "metadata": {},
   "outputs": [],
   "source": [
    "# Dictionary for browser to navigate to boss page URLs\n",
    "boss_link_dict = {\"High Warlord Naj'entus\" : \"#boss=601\", \"Supremus\" : \"#boss=602\", \"Shade of Akama\" : \"#boss=603\", \n",
    "                  \"Teron Gorefiend\" : \"#boss=604\", \"Gurtogg Bloodboil\" : \"#boss=605\", \"Reliquary of Souls\" : \"#boss=606\", \n",
    "                  \"Mother Shahraz\" : \"#boss=607\", \"The Illidari Council\" : \"#boss=608\", \"Illidan Stormrage\" : \"#boss=609\", \n",
    "                  \"Rage Winterchill\" : \"#boss=618\", \"Anetheron\" : \"#boss=619\", \"Kaz'rogal\" : \"#boss=620\", \n",
    "                  \"Azgalor\" : \"#boss=621\", \"Archimonde\" : \"#boss=622\"}"
   ]
  },
  {
   "cell_type": "code",
   "execution_count": 86,
   "id": "f2d71c51",
   "metadata": {},
   "outputs": [],
   "source": [
    "boss_page_url, browser = src.load_top_N_scraper(path_to_ublock, boss, boss_link_dict, chrome=True, firefox=False)"
   ]
  },
  {
   "cell_type": "code",
   "execution_count": null,
   "id": "804ca6f6",
   "metadata": {},
   "outputs": [],
   "source": []
  },
  {
   "cell_type": "markdown",
   "id": "0414985f",
   "metadata": {},
   "source": [
    "## Main code loop"
   ]
  },
  {
   "cell_type": "code",
   "execution_count": 90,
   "id": "4d95e336",
   "metadata": {
    "scrolled": false
   },
   "outputs": [
    {
     "name": "stdout",
     "output_type": "stream",
     "text": [
      "Checking for rank changes since last scrape...\n",
      "50\n",
      "100\n",
      "150\n",
      "200\n",
      "250\n",
      "300\n",
      "Rank updates complete.\n",
      "-----------\n",
      "Beginning data scrape...\n",
      "201 Mentatradnor Faerlina (US)\n",
      "Lifebloom uptime %: 97.82%\n",
      "2LB 2I 0RG 0.125\n",
      "2LB 2I 1RG 0.25\n",
      "2LB 3I 0RG 0.25\n",
      "2LB 1I 0RG 0.125\n",
      "2LB 1I 2RG 0.125\n",
      "3LB 2I 0RG 0.125\n",
      "Non-tank rotations %: 0\n",
      "Rotating on tank?: Yes\n",
      "Rotations: 2LB 2I 1RG (0.25), 2LB 3I 0RG (0.25)\n",
      "Removing spreadsheet duplicates..\n",
      "Duplicate removal complete!\n",
      "-------\n",
      "202 Oksi Whitemane (US)\n",
      "Lifebloom uptime %: 93.86%\n",
      "1LB 1I 2RG 0.083\n",
      "2LB 1I 0RG 0.083\n",
      "2LB 1I 1RG 0.083\n",
      "2LB 0I 2RG 0.25\n",
      "2LB 0I 1RG 0.083\n",
      "2LB 0I 3RG 0.083\n",
      "1LB 1I 1RG 0.083\n",
      "1LB 1I 3RG 0.083\n",
      "1LB 4I 0RG 0.083\n",
      "3LB 0I 0RG 0.083\n",
      "Non-tank rotations %: 0\n",
      "Rotating on tank?: Yes\n",
      "Rotations: 2LB 0I 2RG (0.25), 1LB 1I 2RG (0.083)\n",
      "Removing spreadsheet duplicates..\n",
      "Duplicate removal complete!\n",
      "-------\n",
      "203 Neonss Yojamba (US)\n"
     ]
    },
    {
     "ename": "KeyboardInterrupt",
     "evalue": "",
     "output_type": "error",
     "traceback": [
      "\u001b[1;31m---------------------------------------------------------------------------\u001b[0m",
      "\u001b[1;31mKeyboardInterrupt\u001b[0m                         Traceback (most recent call last)",
      "Input \u001b[1;32mIn [90]\u001b[0m, in \u001b[0;36mmain\u001b[1;34m()\u001b[0m\n\u001b[0;32m     60\u001b[0m time\u001b[38;5;241m.\u001b[39msleep(\u001b[38;5;241m1\u001b[39m)\n\u001b[1;32m---> 62\u001b[0m boss_tanks \u001b[38;5;241m=\u001b[39m \u001b[43msrc\u001b[49m\u001b[38;5;241;43m.\u001b[39;49m\u001b[43mget_tanks\u001b[49m\u001b[43m(\u001b[49m\u001b[43mbrowser\u001b[49m\u001b[43m)\u001b[49m\n\u001b[0;32m     63\u001b[0m nHealers \u001b[38;5;241m=\u001b[39m src\u001b[38;5;241m.\u001b[39mget_nHealers(browser)\n",
      "File \u001b[1;32m~\\git\\DataAnalysisWorkbooks\\warcraftLogs\\src.py:281\u001b[0m, in \u001b[0;36mget_tanks\u001b[1;34m(browser)\u001b[0m\n\u001b[0;32m    280\u001b[0m \u001b[38;5;28;01mdef\u001b[39;00m \u001b[38;5;21mget_tanks\u001b[39m(browser):\n\u001b[1;32m--> 281\u001b[0m     \u001b[43mclick_on_element_by_id\u001b[49m\u001b[43m(\u001b[49m\u001b[43mbrowser\u001b[49m\u001b[43m,\u001b[49m\u001b[43m \u001b[49m\u001b[38;5;124;43m\"\u001b[39;49m\u001b[38;5;124;43mfilter-summary-tab\u001b[39;49m\u001b[38;5;124;43m\"\u001b[39;49m\u001b[43m)\u001b[49m  \n\u001b[0;32m    282\u001b[0m     time\u001b[38;5;241m.\u001b[39msleep(\u001b[38;5;241m1\u001b[39m)\n",
      "File \u001b[1;32m~\\git\\DataAnalysisWorkbooks\\warcraftLogs\\src.py:376\u001b[0m, in \u001b[0;36mclick_on_element_by_id\u001b[1;34m(browser, id_tag)\u001b[0m\n\u001b[0;32m    375\u001b[0m tag \u001b[38;5;241m=\u001b[39m browser\u001b[38;5;241m.\u001b[39mfind_element_by_id(id_tag)\n\u001b[1;32m--> 376\u001b[0m \u001b[43mtime\u001b[49m\u001b[38;5;241;43m.\u001b[39;49m\u001b[43msleep\u001b[49m\u001b[43m(\u001b[49m\u001b[38;5;241;43m1\u001b[39;49m\u001b[43m)\u001b[49m\n\u001b[0;32m    378\u001b[0m \u001b[38;5;28;01mfor\u001b[39;00m j \u001b[38;5;129;01min\u001b[39;00m \u001b[38;5;28mrange\u001b[39m(\u001b[38;5;241m20\u001b[39m):\n",
      "\u001b[1;31mKeyboardInterrupt\u001b[0m: ",
      "\nDuring handling of the above exception, another exception occurred:\n",
      "\u001b[1;31mKeyboardInterrupt\u001b[0m                         Traceback (most recent call last)",
      "Input \u001b[1;32mIn [90]\u001b[0m, in \u001b[0;36m<cell line: 126>\u001b[1;34m()\u001b[0m\n\u001b[0;32m    123\u001b[0m                 \u001b[38;5;28;01mbreak\u001b[39;00m\n\u001b[0;32m    126\u001b[0m \u001b[38;5;28;01mif\u001b[39;00m \u001b[38;5;18m__name__\u001b[39m \u001b[38;5;241m==\u001b[39m \u001b[38;5;124m\"\u001b[39m\u001b[38;5;124m__main__\u001b[39m\u001b[38;5;124m\"\u001b[39m:\n\u001b[1;32m--> 127\u001b[0m     \u001b[43mmain\u001b[49m\u001b[43m(\u001b[49m\u001b[43m)\u001b[49m\n",
      "Input \u001b[1;32mIn [90]\u001b[0m, in \u001b[0;36mmain\u001b[1;34m()\u001b[0m\n\u001b[0;32m    118\u001b[0m \u001b[38;5;28;01mexcept\u001b[39;00m:\n\u001b[0;32m    119\u001b[0m     retry_attempt \u001b[38;5;241m+\u001b[39m\u001b[38;5;241m=\u001b[39m \u001b[38;5;241m1\u001b[39m\n\u001b[1;32m--> 120\u001b[0m     \u001b[43mtime\u001b[49m\u001b[38;5;241;43m.\u001b[39;49m\u001b[43msleep\u001b[49m\u001b[43m(\u001b[49m\u001b[38;5;241;43m10\u001b[39;49m\u001b[43m)\u001b[49m\n\u001b[0;32m    121\u001b[0m     \u001b[38;5;28;01mif\u001b[39;00m retry_attempt \u001b[38;5;241m==\u001b[39m retry_attempts: \n\u001b[0;32m    122\u001b[0m         \u001b[38;5;28;01mif\u001b[39;00m twilio: message \u001b[38;5;241m=\u001b[39m twilioCli\u001b[38;5;241m.\u001b[39mmessages\u001b[38;5;241m.\u001b[39mcreate(body\u001b[38;5;241m=\u001b[39m\u001b[38;5;124m'\u001b[39m\u001b[38;5;124mData scraping crashed\u001b[39m\u001b[38;5;124m'\u001b[39m, from_\u001b[38;5;241m=\u001b[39mmyTwilioNumber, to\u001b[38;5;241m=\u001b[39mmyCellPhone)\n",
      "\u001b[1;31mKeyboardInterrupt\u001b[0m: "
     ]
    }
   ],
   "source": [
    "def main():\n",
    "    \n",
    "    retry_attempt = 0\n",
    "    \n",
    "    # The browser can crash at random due to the page loading too slowly. Rather than restarting the loop manually,\n",
    "    # use 'retry_attempts' (default = 3) and the following while loop to restart automatically.\n",
    "    while True: \n",
    "\n",
    "        # Twilio is an SMS service that will send a text to your phone when the code finishes/crashes.\n",
    "        # If you haven't setup twilio then set the flag to False in the Configuration cell.\n",
    "        if twilio: \n",
    "            from twilio.rest import Client\n",
    "            accountSID, authToken, myTwilioNumber, myCellPhone = src.get_twilio_info()\n",
    "            twilioCli = Client(accountSID, authToken)\n",
    "\n",
    "        boss_page_url = f'https://classic.warcraftlogs.com/zone/rankings/1011{boss_link_dict[boss]}&class=Druid&spec=Restoration&metric=hps'\n",
    "        browser.get(boss_page_url)\n",
    "        time.sleep(2)\n",
    "\n",
    "        # First check to see if any of the rankings have changed since last scraping and update the excel file\n",
    "        print(\"Checking for rank changes since last scrape...\")\n",
    "        already_recorded_indices = src.get_latest_ranks(browser, boss, boss_link_dict, N_parses)\n",
    "\n",
    "        print(\"Rank updates complete.\")\n",
    "        print('-----------')\n",
    "        time.sleep(2)\n",
    "\n",
    "        page = 1\n",
    "        boss_page_url = f'https://classic.warcraftlogs.com/zone/rankings/1011{boss_link_dict[boss]}&class=Druid&spec=Restoration&metric=hps'\n",
    "        browser.get(boss_page_url)\n",
    "        time.sleep(2)\n",
    "\n",
    "        try:\n",
    "            print(\"Beginning data scrape...\")\n",
    "\n",
    "            for i in range(1, N_parses):\n",
    "\n",
    "                # If the player's parse is already in the spreadsheet, skip to the next parse.\n",
    "                if i in already_recorded_indices: \n",
    "                    if i % 100 == 0: \n",
    "                        page += 1\n",
    "                        boss_page_url = f'https://classic.warcraftlogs.com/zone/rankings/1011{boss_link_dict[boss]}&class=Druid&spec=Restoration&metric=hps&page={page}'\n",
    "                        browser.get(boss_page_url)\n",
    "                        time.sleep(2) \n",
    "                    continue\n",
    "\n",
    "                rank, name, server, region, date, HPS, duration = src.get_boss_data_top_N_scraper(browser, boss, boss_link_dict, i)\n",
    "                if name in ['抄能力', '自然帅', 'Tables', 'Genwraek', 'Manamia']: continue  # These players have broken reports, skip\n",
    "\n",
    "                print(rank, name, server, region)\n",
    "\n",
    "                link = browser.find_element_by_link_text(name)\n",
    "                link.click()\n",
    "                time.sleep(1)\n",
    "\n",
    "                player_df = pd.DataFrame(pd.np.empty((0, 23)))\n",
    "                player_df.columns = [\"Rank\", \"Name\", \"Server\", \"Date\", \"Duration\", \"nHealers\", \"Spriest?\", \"Innervate?\", \"Bloodlust?\", \"Nature's Grace?\", \"Power Infusion?\", \"LB_uptime\", \"HPS\", \"% LB (tick) HPS\", \"% LB (bloom) HPS\", \"% Rejuv HPS\", \"% Regrowth HPS\", \"% Swiftmend HPS\", \"Rotating on tank?\", \"Rotation 1\", \"% Rotation 1\", \"Rotation 2\", \"% Rotation 2\"]\n",
    "\n",
    "                temp_url = browser.current_url\n",
    "                time.sleep(1)\n",
    "\n",
    "                boss_tanks = src.get_tanks(browser)\n",
    "                nHealers = src.get_nHealers(browser)\n",
    "\n",
    "                browser.get(temp_url)\n",
    "                time.sleep(0.5)\n",
    "\n",
    "                player_link = browser.find_element_by_link_text(name)\n",
    "                player_link.click()\n",
    "                time.sleep(0.5)\n",
    "\n",
    "                # Scrape HPS data\n",
    "                LBtick_HPS, LBbloom_HPS, rejuv_HPS, regrowth_HPS, swiftmend_HPS, LB_uptime = src.get_spell_info(browser, HPS)\n",
    "                time.sleep(2)\n",
    "\n",
    "                # Check for buffs\n",
    "                spriest = src.check_spriest(browser)\n",
    "                innervate, bloodlust, powerInfusion, naturesGrace = src.check_buffs(browser)\n",
    "                time.sleep(0.5)    \n",
    "\n",
    "                # Download the cast-sequence CSV.\n",
    "                src.download_csv(browser, temp_url, \"filter-casts-tab\", path_to_download_dir, \"data/cast_sequence.csv\")\n",
    "                time.sleep(1)\n",
    "\n",
    "                # Clean the csv\n",
    "                df = src.clean_cast_sequence_csv()\n",
    "                df = src.fix_cast_time(df)\n",
    "                time.sleep(0.5)\n",
    "\n",
    "                # Get the rotations\n",
    "                rotation1, rotation1_percent, rotation2, rotation2_percent, rotating_on_tank = src.calculate_rotations(df, boss, boss_tanks, LB_uptime, verbose, verbose_rotation)\n",
    "                print(f'Rotations: {rotation1} ({rotation1_percent}), {rotation2} ({rotation2_percent})')  \n",
    "\n",
    "                # Export data and cleanup\n",
    "                to_append = [rank, name, server + \" \" + region, date, duration, str(nHealers), spriest, innervate, bloodlust, powerInfusion, naturesGrace, LB_uptime, HPS, LBtick_HPS, LBbloom_HPS, rejuv_HPS, regrowth_HPS, swiftmend_HPS, rotating_on_tank, rotation1, rotation1_percent, rotation2, rotation2_percent]\n",
    "                src.export_to_excel(boss, to_append, player_df, name, 'top_N_druids', True)\n",
    "\n",
    "                os.remove(f\"data/{boss.replace(' ', '')}_{name}.csv\")\n",
    "                os.remove(f\"data/cast_sequence.csv\")\n",
    "\n",
    "                print('-------')\n",
    "                browser.get(boss_page_url)\n",
    "                time.sleep(1)\n",
    "\n",
    "                if i % 100 == 0: \n",
    "                    page += 1\n",
    "                    boss_page_url = f'https://classic.warcraftlogs.com/zone/rankings/1011{boss_link_dict[boss]}&class=Druid&spec=Restoration&metric=hps&page={page}'\n",
    "                    browser.get(boss_page_url)\n",
    "                    time.sleep(2) \n",
    "\n",
    "\n",
    "            print(f\"{boss} scraping complete.\")\n",
    "            print(\"---------------\")\n",
    "\n",
    "            if twilio: message = twilioCli.messages.create(body = 'Data scraping complete!', from_ = myTwilioNumber, to = myCellPhone)\n",
    "            break\n",
    "\n",
    "        except:\n",
    "            retry_attempt += 1\n",
    "            time.sleep(10)\n",
    "            if retry_attempt == retry_attempts: \n",
    "                if twilio: message = twilioCli.messages.create(body='Data scraping crashed', from_=myTwilioNumber, to=myCellPhone)\n",
    "                break\n",
    "                \n",
    "                \n",
    "if __name__ == \"__main__\":\n",
    "    main()"
   ]
  },
  {
   "cell_type": "code",
   "execution_count": null,
   "id": "7cfb11dc",
   "metadata": {},
   "outputs": [],
   "source": []
  },
  {
   "cell_type": "code",
   "execution_count": null,
   "id": "46361105",
   "metadata": {},
   "outputs": [],
   "source": []
  }
 ],
 "metadata": {
  "kernelspec": {
   "display_name": "Python 3 (ipykernel)",
   "language": "python",
   "name": "python3"
  },
  "language_info": {
   "codemirror_mode": {
    "name": "ipython",
    "version": 3
   },
   "file_extension": ".py",
   "mimetype": "text/x-python",
   "name": "python",
   "nbconvert_exporter": "python",
   "pygments_lexer": "ipython3",
   "version": "3.9.7"
  }
 },
 "nbformat": 4,
 "nbformat_minor": 5
}
