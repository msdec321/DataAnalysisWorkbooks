{
 "cells": [
  {
   "cell_type": "markdown",
   "id": "85820b0d",
   "metadata": {},
   "source": [
    "## Import packages"
   ]
  },
  {
   "cell_type": "code",
   "execution_count": 1,
   "id": "0c028fd9",
   "metadata": {},
   "outputs": [
    {
     "data": {
      "text/plain": [
       "<module 'src' from 'C:\\\\Users\\\\Matth\\\\git\\\\DataAnalysisWorkbooks\\\\warcraftLogs\\\\src.py'>"
      ]
     },
     "execution_count": 1,
     "metadata": {},
     "output_type": "execute_result"
    }
   ],
   "source": [
    "import selenium\n",
    "from selenium import webdriver\n",
    "\n",
    "import shutil, time, os\n",
    "import pandas as pd\n",
    "import warnings\n",
    "warnings.filterwarnings('ignore')\n",
    "\n",
    "from importlib import reload\n",
    "\n",
    "import src\n",
    "reload(src)"
   ]
  },
  {
   "cell_type": "code",
   "execution_count": null,
   "id": "b79dd0f0",
   "metadata": {},
   "outputs": [],
   "source": []
  },
  {
   "cell_type": "markdown",
   "id": "938b4943",
   "metadata": {},
   "source": [
    "## Configurations"
   ]
  },
  {
   "cell_type": "code",
   "execution_count": 2,
   "id": "2588d751",
   "metadata": {},
   "outputs": [],
   "source": [
    "# Set path variables\n",
    "path_to_adblocker = r\"C:\\Users\\Matth\\Desktop\\3.12_0\"\n",
    "path_to_download_dir = r\"C:\\Users\\Matth\\Downloads\""
   ]
  },
  {
   "cell_type": "code",
   "execution_count": 3,
   "id": "17df6c1f",
   "metadata": {},
   "outputs": [],
   "source": [
    "# Number of parses to scrape (Current max is 100 or 1 page)\n",
    "N_parses = 30"
   ]
  },
  {
   "cell_type": "code",
   "execution_count": null,
   "id": "5b9bc002",
   "metadata": {},
   "outputs": [],
   "source": []
  },
  {
   "cell_type": "markdown",
   "id": "65a57194",
   "metadata": {},
   "source": [
    "## Navigate to WCL"
   ]
  },
  {
   "cell_type": "code",
   "execution_count": 23,
   "id": "d6efa04f",
   "metadata": {},
   "outputs": [],
   "source": [
    "boss = \"High Warlord Naj'entus\""
   ]
  },
  {
   "cell_type": "code",
   "execution_count": 14,
   "id": "02837c7c",
   "metadata": {},
   "outputs": [],
   "source": [
    "# Dictionary for browser to navigate to boss page URLs\n",
    "boss_link_dict = {\"High Warlord Naj'entus\" : \"#boss=601\", \"Supremus\" : \"#boss=602\", \"Shade of Akama\" : \"#boss=603\", \n",
    "                  \"Teron Gorefiend\" : \"#boss=604\", \"Gurtogg Bloodboil\" : \"#boss=605\", \"Reliquary of Souls\" : \"#boss=606\", \n",
    "                  \"Mother Shahraz\" : \"#boss=607\", \"The Illidari Council\" : \"#boss=608\", \"Illidan Stormrage\" : \"#boss=609\", \n",
    "                  \"Rage Winterchill\" : \"#boss=618\", \"Anetheron\" : \"#boss=619\", \"Kaz'rogal\" : \"#boss=620\", \n",
    "                  \"Azgalor\" : \"#boss=621\", \"Archimonde\" : \"#boss=622\"}"
   ]
  },
  {
   "cell_type": "code",
   "execution_count": 15,
   "id": "f2d71c51",
   "metadata": {},
   "outputs": [],
   "source": [
    "boss_page_url, browser = src.load_top_N_scraper(path_to_adblocker, boss, boss_link_dict)"
   ]
  },
  {
   "cell_type": "code",
   "execution_count": null,
   "id": "a2684afc",
   "metadata": {},
   "outputs": [],
   "source": []
  },
  {
   "cell_type": "markdown",
   "id": "0414985f",
   "metadata": {},
   "source": [
    "## Main code loop"
   ]
  },
  {
   "cell_type": "code",
   "execution_count": 36,
   "id": "4d95e336",
   "metadata": {
    "scrolled": false
   },
   "outputs": [
    {
     "name": "stdout",
     "output_type": "stream",
     "text": [
      "Character rank did not change.\n",
      "Character rank did not change.\n",
      "Character rank did not change.\n",
      "Character rank did not change.\n",
      "Character rank did not change.\n",
      "Character rank did not change.\n",
      "Character rank did not change.\n",
      "Character rank did not change.\n",
      "Character rank did not change.\n",
      "Character rank did not change.\n",
      "Character rank did not change.\n",
      "Character rank did not change.\n",
      "Character rank did not change.\n",
      "Character rank did not change.\n",
      "Character rank did not change.\n",
      "Character rank did not change.\n",
      "Character rank did not change.\n",
      "Character rank did not change.\n",
      "Character rank did not change.\n"
     ]
    },
    {
     "ename": "KeyboardInterrupt",
     "evalue": "",
     "output_type": "error",
     "traceback": [
      "\u001b[1;31m---------------------------------------------------------------------------\u001b[0m",
      "\u001b[1;31mKeyboardInterrupt\u001b[0m                         Traceback (most recent call last)",
      "\u001b[1;32m~\\AppData\\Local\\Temp/ipykernel_4900/938557107.py\u001b[0m in \u001b[0;36m<module>\u001b[1;34m\u001b[0m\n\u001b[0;32m     91\u001b[0m \u001b[1;33m\u001b[0m\u001b[0m\n\u001b[0;32m     92\u001b[0m \u001b[1;32mif\u001b[0m \u001b[0m__name__\u001b[0m \u001b[1;33m==\u001b[0m \u001b[1;34m\"__main__\"\u001b[0m\u001b[1;33m:\u001b[0m\u001b[1;33m\u001b[0m\u001b[1;33m\u001b[0m\u001b[0m\n\u001b[1;32m---> 93\u001b[1;33m     \u001b[0mmain\u001b[0m\u001b[1;33m(\u001b[0m\u001b[1;33m)\u001b[0m\u001b[1;33m\u001b[0m\u001b[1;33m\u001b[0m\u001b[0m\n\u001b[0m",
      "\u001b[1;32m~\\AppData\\Local\\Temp/ipykernel_4900/938557107.py\u001b[0m in \u001b[0;36mmain\u001b[1;34m()\u001b[0m\n\u001b[0;32m      6\u001b[0m         \u001b[0mname\u001b[0m \u001b[1;33m=\u001b[0m \u001b[0mchar_info\u001b[0m\u001b[1;33m.\u001b[0m\u001b[0msplit\u001b[0m\u001b[1;33m(\u001b[0m\u001b[1;34m\"\\n\"\u001b[0m\u001b[1;33m)\u001b[0m\u001b[1;33m[\u001b[0m\u001b[1;36m0\u001b[0m\u001b[1;33m]\u001b[0m\u001b[1;33m\u001b[0m\u001b[1;33m\u001b[0m\u001b[0m\n\u001b[0;32m      7\u001b[0m \u001b[1;33m\u001b[0m\u001b[0m\n\u001b[1;32m----> 8\u001b[1;33m         \u001b[0mrank_changed\u001b[0m \u001b[1;33m=\u001b[0m \u001b[0mcheck_if_rank_changed\u001b[0m\u001b[1;33m(\u001b[0m\u001b[0mboss\u001b[0m\u001b[1;33m,\u001b[0m \u001b[0mrank\u001b[0m\u001b[1;33m,\u001b[0m \u001b[0mname\u001b[0m\u001b[1;33m,\u001b[0m \u001b[0mdate\u001b[0m\u001b[1;33m)\u001b[0m\u001b[1;33m\u001b[0m\u001b[1;33m\u001b[0m\u001b[0m\n\u001b[0m\u001b[0;32m      9\u001b[0m         \u001b[1;32mif\u001b[0m \u001b[0mrank_changed\u001b[0m\u001b[1;33m:\u001b[0m\u001b[1;33m\u001b[0m\u001b[1;33m\u001b[0m\u001b[0m\n\u001b[0;32m     10\u001b[0m             \u001b[0mupdate_rank\u001b[0m\u001b[1;33m(\u001b[0m\u001b[0mboss\u001b[0m\u001b[1;33m,\u001b[0m \u001b[0mrank\u001b[0m\u001b[1;33m,\u001b[0m \u001b[0mname\u001b[0m\u001b[1;33m,\u001b[0m \u001b[0mdate\u001b[0m\u001b[1;33m)\u001b[0m\u001b[1;33m\u001b[0m\u001b[1;33m\u001b[0m\u001b[0m\n",
      "\u001b[1;32m~\\AppData\\Local\\Temp/ipykernel_4900/1069187897.py\u001b[0m in \u001b[0;36mcheck_if_rank_changed\u001b[1;34m(boss, rank, name, date)\u001b[0m\n\u001b[0;32m      8\u001b[0m         \u001b[1;32mif\u001b[0m \u001b[1;33m[\u001b[0m\u001b[0mrank\u001b[0m\u001b[1;33m,\u001b[0m \u001b[0mname\u001b[0m\u001b[1;33m,\u001b[0m \u001b[0mdate\u001b[0m\u001b[1;33m]\u001b[0m \u001b[1;33m==\u001b[0m \u001b[1;33m[\u001b[0m\u001b[0mrow\u001b[0m\u001b[1;33m[\u001b[0m\u001b[1;36m0\u001b[0m\u001b[1;33m]\u001b[0m\u001b[1;33m.\u001b[0m\u001b[0mvalue\u001b[0m\u001b[1;33m,\u001b[0m \u001b[0mrow\u001b[0m\u001b[1;33m[\u001b[0m\u001b[1;36m1\u001b[0m\u001b[1;33m]\u001b[0m\u001b[1;33m.\u001b[0m\u001b[0mvalue\u001b[0m\u001b[1;33m,\u001b[0m \u001b[0mrow\u001b[0m\u001b[1;33m[\u001b[0m\u001b[1;36m3\u001b[0m\u001b[1;33m]\u001b[0m\u001b[1;33m.\u001b[0m\u001b[0mvalue\u001b[0m\u001b[1;33m]\u001b[0m\u001b[1;33m:\u001b[0m\u001b[1;33m\u001b[0m\u001b[1;33m\u001b[0m\u001b[0m\n\u001b[0;32m      9\u001b[0m             \u001b[0mprint\u001b[0m\u001b[1;33m(\u001b[0m\u001b[1;34m'Character rank did not change.'\u001b[0m\u001b[1;33m)\u001b[0m\u001b[1;33m\u001b[0m\u001b[1;33m\u001b[0m\u001b[0m\n\u001b[1;32m---> 10\u001b[1;33m             \u001b[0mwb\u001b[0m\u001b[1;33m.\u001b[0m\u001b[0msave\u001b[0m\u001b[1;33m(\u001b[0m\u001b[1;34m'character_data/top_N_druids.xlsx'\u001b[0m\u001b[1;33m)\u001b[0m\u001b[1;33m\u001b[0m\u001b[1;33m\u001b[0m\u001b[0m\n\u001b[0m\u001b[0;32m     11\u001b[0m             \u001b[1;32mreturn\u001b[0m \u001b[1;32mFalse\u001b[0m\u001b[1;33m\u001b[0m\u001b[1;33m\u001b[0m\u001b[0m\n\u001b[0;32m     12\u001b[0m \u001b[1;33m\u001b[0m\u001b[0m\n",
      "\u001b[1;32m~\\miniforge3\\lib\\site-packages\\openpyxl\\workbook\\workbook.py\u001b[0m in \u001b[0;36msave\u001b[1;34m(self, filename)\u001b[0m\n\u001b[0;32m    405\u001b[0m         \u001b[1;32mif\u001b[0m \u001b[0mself\u001b[0m\u001b[1;33m.\u001b[0m\u001b[0mwrite_only\u001b[0m \u001b[1;32mand\u001b[0m \u001b[1;32mnot\u001b[0m \u001b[0mself\u001b[0m\u001b[1;33m.\u001b[0m\u001b[0mworksheets\u001b[0m\u001b[1;33m:\u001b[0m\u001b[1;33m\u001b[0m\u001b[1;33m\u001b[0m\u001b[0m\n\u001b[0;32m    406\u001b[0m             \u001b[0mself\u001b[0m\u001b[1;33m.\u001b[0m\u001b[0mcreate_sheet\u001b[0m\u001b[1;33m(\u001b[0m\u001b[1;33m)\u001b[0m\u001b[1;33m\u001b[0m\u001b[1;33m\u001b[0m\u001b[0m\n\u001b[1;32m--> 407\u001b[1;33m         \u001b[0msave_workbook\u001b[0m\u001b[1;33m(\u001b[0m\u001b[0mself\u001b[0m\u001b[1;33m,\u001b[0m \u001b[0mfilename\u001b[0m\u001b[1;33m)\u001b[0m\u001b[1;33m\u001b[0m\u001b[1;33m\u001b[0m\u001b[0m\n\u001b[0m\u001b[0;32m    408\u001b[0m \u001b[1;33m\u001b[0m\u001b[0m\n\u001b[0;32m    409\u001b[0m \u001b[1;33m\u001b[0m\u001b[0m\n",
      "\u001b[1;32m~\\miniforge3\\lib\\site-packages\\openpyxl\\writer\\excel.py\u001b[0m in \u001b[0;36msave_workbook\u001b[1;34m(workbook, filename)\u001b[0m\n\u001b[0;32m    291\u001b[0m     \u001b[0marchive\u001b[0m \u001b[1;33m=\u001b[0m \u001b[0mZipFile\u001b[0m\u001b[1;33m(\u001b[0m\u001b[0mfilename\u001b[0m\u001b[1;33m,\u001b[0m \u001b[1;34m'w'\u001b[0m\u001b[1;33m,\u001b[0m \u001b[0mZIP_DEFLATED\u001b[0m\u001b[1;33m,\u001b[0m \u001b[0mallowZip64\u001b[0m\u001b[1;33m=\u001b[0m\u001b[1;32mTrue\u001b[0m\u001b[1;33m)\u001b[0m\u001b[1;33m\u001b[0m\u001b[1;33m\u001b[0m\u001b[0m\n\u001b[0;32m    292\u001b[0m     \u001b[0mwriter\u001b[0m \u001b[1;33m=\u001b[0m \u001b[0mExcelWriter\u001b[0m\u001b[1;33m(\u001b[0m\u001b[0mworkbook\u001b[0m\u001b[1;33m,\u001b[0m \u001b[0marchive\u001b[0m\u001b[1;33m)\u001b[0m\u001b[1;33m\u001b[0m\u001b[1;33m\u001b[0m\u001b[0m\n\u001b[1;32m--> 293\u001b[1;33m     \u001b[0mwriter\u001b[0m\u001b[1;33m.\u001b[0m\u001b[0msave\u001b[0m\u001b[1;33m(\u001b[0m\u001b[1;33m)\u001b[0m\u001b[1;33m\u001b[0m\u001b[1;33m\u001b[0m\u001b[0m\n\u001b[0m\u001b[0;32m    294\u001b[0m     \u001b[1;32mreturn\u001b[0m \u001b[1;32mTrue\u001b[0m\u001b[1;33m\u001b[0m\u001b[1;33m\u001b[0m\u001b[0m\n\u001b[0;32m    295\u001b[0m \u001b[1;33m\u001b[0m\u001b[0m\n",
      "\u001b[1;32m~\\miniforge3\\lib\\site-packages\\openpyxl\\writer\\excel.py\u001b[0m in \u001b[0;36msave\u001b[1;34m(self)\u001b[0m\n\u001b[0;32m    273\u001b[0m     \u001b[1;32mdef\u001b[0m \u001b[0msave\u001b[0m\u001b[1;33m(\u001b[0m\u001b[0mself\u001b[0m\u001b[1;33m)\u001b[0m\u001b[1;33m:\u001b[0m\u001b[1;33m\u001b[0m\u001b[1;33m\u001b[0m\u001b[0m\n\u001b[0;32m    274\u001b[0m         \u001b[1;34m\"\"\"Write data into the archive.\"\"\"\u001b[0m\u001b[1;33m\u001b[0m\u001b[1;33m\u001b[0m\u001b[0m\n\u001b[1;32m--> 275\u001b[1;33m         \u001b[0mself\u001b[0m\u001b[1;33m.\u001b[0m\u001b[0mwrite_data\u001b[0m\u001b[1;33m(\u001b[0m\u001b[1;33m)\u001b[0m\u001b[1;33m\u001b[0m\u001b[1;33m\u001b[0m\u001b[0m\n\u001b[0m\u001b[0;32m    276\u001b[0m         \u001b[0mself\u001b[0m\u001b[1;33m.\u001b[0m\u001b[0m_archive\u001b[0m\u001b[1;33m.\u001b[0m\u001b[0mclose\u001b[0m\u001b[1;33m(\u001b[0m\u001b[1;33m)\u001b[0m\u001b[1;33m\u001b[0m\u001b[1;33m\u001b[0m\u001b[0m\n\u001b[0;32m    277\u001b[0m \u001b[1;33m\u001b[0m\u001b[0m\n",
      "\u001b[1;32m~\\miniforge3\\lib\\site-packages\\openpyxl\\writer\\excel.py\u001b[0m in \u001b[0;36mwrite_data\u001b[1;34m(self)\u001b[0m\n\u001b[0;32m     73\u001b[0m             \u001b[0marchive\u001b[0m\u001b[1;33m.\u001b[0m\u001b[0mwritestr\u001b[0m\u001b[1;33m(\u001b[0m\u001b[0mARC_THEME\u001b[0m\u001b[1;33m,\u001b[0m \u001b[0mtheme_xml\u001b[0m\u001b[1;33m)\u001b[0m\u001b[1;33m\u001b[0m\u001b[1;33m\u001b[0m\u001b[0m\n\u001b[0;32m     74\u001b[0m \u001b[1;33m\u001b[0m\u001b[0m\n\u001b[1;32m---> 75\u001b[1;33m         \u001b[0mself\u001b[0m\u001b[1;33m.\u001b[0m\u001b[0m_write_worksheets\u001b[0m\u001b[1;33m(\u001b[0m\u001b[1;33m)\u001b[0m\u001b[1;33m\u001b[0m\u001b[1;33m\u001b[0m\u001b[0m\n\u001b[0m\u001b[0;32m     76\u001b[0m         \u001b[0mself\u001b[0m\u001b[1;33m.\u001b[0m\u001b[0m_write_chartsheets\u001b[0m\u001b[1;33m(\u001b[0m\u001b[1;33m)\u001b[0m\u001b[1;33m\u001b[0m\u001b[1;33m\u001b[0m\u001b[0m\n\u001b[0;32m     77\u001b[0m         \u001b[0mself\u001b[0m\u001b[1;33m.\u001b[0m\u001b[0m_write_images\u001b[0m\u001b[1;33m(\u001b[0m\u001b[1;33m)\u001b[0m\u001b[1;33m\u001b[0m\u001b[1;33m\u001b[0m\u001b[0m\n",
      "\u001b[1;32m~\\miniforge3\\lib\\site-packages\\openpyxl\\writer\\excel.py\u001b[0m in \u001b[0;36m_write_worksheets\u001b[1;34m(self)\u001b[0m\n\u001b[0;32m    213\u001b[0m \u001b[1;33m\u001b[0m\u001b[0m\n\u001b[0;32m    214\u001b[0m             \u001b[0mws\u001b[0m\u001b[1;33m.\u001b[0m\u001b[0m_id\u001b[0m \u001b[1;33m=\u001b[0m \u001b[0midx\u001b[0m\u001b[1;33m\u001b[0m\u001b[1;33m\u001b[0m\u001b[0m\n\u001b[1;32m--> 215\u001b[1;33m             \u001b[0mself\u001b[0m\u001b[1;33m.\u001b[0m\u001b[0mwrite_worksheet\u001b[0m\u001b[1;33m(\u001b[0m\u001b[0mws\u001b[0m\u001b[1;33m)\u001b[0m\u001b[1;33m\u001b[0m\u001b[1;33m\u001b[0m\u001b[0m\n\u001b[0m\u001b[0;32m    216\u001b[0m \u001b[1;33m\u001b[0m\u001b[0m\n\u001b[0;32m    217\u001b[0m             \u001b[1;32mif\u001b[0m \u001b[0mws\u001b[0m\u001b[1;33m.\u001b[0m\u001b[0m_drawing\u001b[0m\u001b[1;33m:\u001b[0m\u001b[1;33m\u001b[0m\u001b[1;33m\u001b[0m\u001b[0m\n",
      "\u001b[1;32m~\\miniforge3\\lib\\site-packages\\openpyxl\\writer\\excel.py\u001b[0m in \u001b[0;36mwrite_worksheet\u001b[1;34m(self, ws)\u001b[0m\n\u001b[0;32m    203\u001b[0m         \u001b[0mself\u001b[0m\u001b[1;33m.\u001b[0m\u001b[0m_archive\u001b[0m\u001b[1;33m.\u001b[0m\u001b[0mwrite\u001b[0m\u001b[1;33m(\u001b[0m\u001b[0mwriter\u001b[0m\u001b[1;33m.\u001b[0m\u001b[0mout\u001b[0m\u001b[1;33m,\u001b[0m \u001b[0mws\u001b[0m\u001b[1;33m.\u001b[0m\u001b[0mpath\u001b[0m\u001b[1;33m[\u001b[0m\u001b[1;36m1\u001b[0m\u001b[1;33m:\u001b[0m\u001b[1;33m]\u001b[0m\u001b[1;33m)\u001b[0m\u001b[1;33m\u001b[0m\u001b[1;33m\u001b[0m\u001b[0m\n\u001b[0;32m    204\u001b[0m         \u001b[0mself\u001b[0m\u001b[1;33m.\u001b[0m\u001b[0mmanifest\u001b[0m\u001b[1;33m.\u001b[0m\u001b[0mappend\u001b[0m\u001b[1;33m(\u001b[0m\u001b[0mws\u001b[0m\u001b[1;33m)\u001b[0m\u001b[1;33m\u001b[0m\u001b[1;33m\u001b[0m\u001b[0m\n\u001b[1;32m--> 205\u001b[1;33m         \u001b[0mwriter\u001b[0m\u001b[1;33m.\u001b[0m\u001b[0mcleanup\u001b[0m\u001b[1;33m(\u001b[0m\u001b[1;33m)\u001b[0m\u001b[1;33m\u001b[0m\u001b[1;33m\u001b[0m\u001b[0m\n\u001b[0m\u001b[0;32m    206\u001b[0m \u001b[1;33m\u001b[0m\u001b[0m\n\u001b[0;32m    207\u001b[0m \u001b[1;33m\u001b[0m\u001b[0m\n",
      "\u001b[1;32m~\\miniforge3\\lib\\site-packages\\openpyxl\\worksheet\\_writer.py\u001b[0m in \u001b[0;36mcleanup\u001b[1;34m(self)\u001b[0m\n\u001b[0;32m    387\u001b[0m         \u001b[0mRemove\u001b[0m \u001b[0mtempfile\u001b[0m\u001b[1;33m\u001b[0m\u001b[1;33m\u001b[0m\u001b[0m\n\u001b[0;32m    388\u001b[0m         \"\"\"\n\u001b[1;32m--> 389\u001b[1;33m         \u001b[0mos\u001b[0m\u001b[1;33m.\u001b[0m\u001b[0mremove\u001b[0m\u001b[1;33m(\u001b[0m\u001b[0mself\u001b[0m\u001b[1;33m.\u001b[0m\u001b[0mout\u001b[0m\u001b[1;33m)\u001b[0m\u001b[1;33m\u001b[0m\u001b[1;33m\u001b[0m\u001b[0m\n\u001b[0m\u001b[0;32m    390\u001b[0m         \u001b[0mALL_TEMP_FILES\u001b[0m\u001b[1;33m.\u001b[0m\u001b[0mremove\u001b[0m\u001b[1;33m(\u001b[0m\u001b[0mself\u001b[0m\u001b[1;33m.\u001b[0m\u001b[0mout\u001b[0m\u001b[1;33m)\u001b[0m\u001b[1;33m\u001b[0m\u001b[1;33m\u001b[0m\u001b[0m\n",
      "\u001b[1;31mKeyboardInterrupt\u001b[0m: "
     ]
    }
   ],
   "source": [
    "def main():\n",
    "    \n",
    "    # First check to see if any of the rankings changed since last scraping and update the excel file\n",
    "    for i in range(1, N_parses):\n",
    "        rank, char_info, date, HPS, duration = src.get_boss_data_top_N_scraper(browser, boss, boss_link_dict, i)\n",
    "        name = char_info.split(\"\\n\")[0]\n",
    "        \n",
    "        rank_changed = check_if_rank_changed(boss, rank, name, date)\n",
    "        if rank_changed: \n",
    "            update_rank(boss, rank, name, date)\n",
    "    \n",
    "    for i in range(1, N_parses):\n",
    "        rank, char_info, date, HPS, duration = src.get_boss_data_top_N_scraper(browser, boss, boss_link_dict, i)\n",
    "\n",
    "        name = char_info.split(\"\\n\")[0]\n",
    "        server_region = char_info.split(\"-\")\n",
    "\n",
    "        if len(server_region) == 1:\n",
    "            server_region = char_info.split(\"\\n\")[1]\n",
    "            server = server_region.split(\" \")[0]\n",
    "            region = server_region.split(\" \")[1]\n",
    "\n",
    "        else:\n",
    "            server_region = char_info.split(\"-\")[1]\n",
    "            server = server_region.split(\" \")[1]\n",
    "            region = server_region.split(\" \")[2]\n",
    "        \n",
    "        print(rank, name, server, region)\n",
    "        \n",
    "        if src.check_if_parse_already_recorded_top_N(boss, rank, name): \n",
    "                print(\"Parse already recorded. Skipping\")\n",
    "                continue\n",
    "    \n",
    "        link = browser.find_element_by_link_text(name)\n",
    "        link.click()\n",
    "        time.sleep(1)\n",
    "    \n",
    "        player_df = pd.DataFrame(pd.np.empty((0, 16)))\n",
    "        player_df.columns = [\"Rank\", \"Name\", \"Server\", \"Date\", \"Kill time\", \"nHealers\", \"Spriest?\", \"Innervate?\", \"LB_uptime\", \"HPS\", \"% LB (tick) HPS\", \"% LB (bloom) HPS\", \"% Rejuv HPS\", \"% Regrowth HPS\", \"% Swiftmend HPS\", \"Rotations\"]\n",
    "    \n",
    "        temp_url = browser.current_url\n",
    "        \n",
    "        boss_tanks = src.get_tanks(browser)\n",
    "        nHealers = src.get_nHealers(browser)\n",
    "    \n",
    "        print(f\"Tanks: {boss_tanks}\")\n",
    "        \n",
    "        browser.get(temp_url)\n",
    "        time.sleep(0.5)\n",
    "        \n",
    "        player_link = browser.find_element_by_link_text(name)\n",
    "        player_link.click()\n",
    "        time.sleep(0.5)\n",
    "        \n",
    "        # Scrape spell HPS\n",
    "        LBtick_HPS, LBbloom_HPS, rejuv_HPS, regrowth_HPS, swiftmend_HPS, LB_uptime = src.get_spell_info(browser, HPS)\n",
    "        time.sleep(2)\n",
    "                   \n",
    "        # Scrape mana sources\n",
    "        spriest = src.check_spriest(browser)\n",
    "        innervate = src.check_innervate(browser)\n",
    "        time.sleep(0.5)    \n",
    "        \n",
    "        # Download the cast-sequence CSV.\n",
    "        src.download_csv(browser, temp_url, \"filter-casts-tab\", path_to_download_dir, \"character_data/cast_sequence.csv\")\n",
    "        time.sleep(1)\n",
    "        \n",
    "        # Clean the csv\n",
    "        df = src.clean_cast_sequence_csv()\n",
    "        df = src.fix_cast_time(df)\n",
    "        time.sleep(0.5)\n",
    "        \n",
    "        # Get the rotations\n",
    "        rotations = src.calculate_rotations(df, boss, boss_tanks)\n",
    "        print(f'Rotations: {rotations}')  \n",
    "\n",
    "        to_append = [rank, name, server + \" \" + region, date, duration, str(nHealers), spriest, innervate, LB_uptime, HPS, LBtick_HPS, LBbloom_HPS, rejuv_HPS, regrowth_HPS, swiftmend_HPS, rotations]\n",
    "        src.export_to_excel(boss, to_append, player_df, name, 'top_N_druids')\n",
    "        \n",
    "        os.remove(f\"character_data/{boss.replace(' ', '')}_{name}.csv\")\n",
    "        os.remove(f\"character_data/cast_sequence.csv\")\n",
    "        \n",
    "        print('-------')\n",
    "        browser.get(boss_page_url)\n",
    "        time.sleep(1)\n",
    "        \n",
    "        \n",
    "    print(f\"{boss} scraping complete.\")\n",
    "    print(\"---------------\")\n",
    "    \n",
    "    \n",
    "if __name__ == \"__main__\":\n",
    "    main()"
   ]
  },
  {
   "cell_type": "code",
   "execution_count": null,
   "id": "98e7a301",
   "metadata": {},
   "outputs": [],
   "source": []
  },
  {
   "cell_type": "code",
   "execution_count": 11,
   "id": "423fb6b6",
   "metadata": {},
   "outputs": [],
   "source": [
    "browser.get(boss_page_url)"
   ]
  },
  {
   "cell_type": "code",
   "execution_count": 19,
   "id": "b06502ec",
   "metadata": {},
   "outputs": [],
   "source": [
    "import openpyxl"
   ]
  },
  {
   "cell_type": "code",
   "execution_count": 35,
   "id": "8048d9c8",
   "metadata": {},
   "outputs": [
    {
     "name": "stdout",
     "output_type": "stream",
     "text": [
      "1 一杯马爹利 Mar 28\n",
      "Character rank did not change.\n",
      "2 氢硫化钠 Mar 21\n",
      "Character rank did not change.\n",
      "3 搞不得 Mar 17\n",
      "Character rank did not change.\n",
      "4 喵绿喵绿喵 Mar 19\n",
      "Character rank did not change.\n",
      "5 Дарнейм Feb 23\n",
      "Character rank did not change.\n",
      "6 芬巴巴之花 Mar 18\n",
      "Character rank did not change.\n",
      "7 黑夜现苍鹰 Mar 19\n",
      "Character rank did not change.\n",
      "8 德国进口德 Mar 24\n",
      "Character rank did not change.\n",
      "9 托尔德 Mar 18\n",
      "Character rank did not change.\n",
      "10 Day Mar 31\n",
      "Character rank did not change.\n",
      "11 小毛的毛毛 Mar 5\n",
      "Character rank did not change.\n",
      "12 尹冰冰 Mar 17\n",
      "Character rank did not change.\n",
      "13 飞奔的小毛 Mar 19\n",
      "Character rank did not change.\n",
      "14 Natures Mar 30\n",
      "Character rank did not change.\n",
      "15 Macdaddyswag Mar 3\n",
      "Character rank did not change.\n",
      "16 大鱼炖海棠 Mar 13\n",
      "Character rank did not change.\n",
      "17 大白兔生了 Mar 5\n",
      "Character rank did not change.\n",
      "18 丨照美冥丨 Mar 20\n",
      "Character rank did not change.\n",
      "19 白衣 Apr 2\n",
      "20 Shallowmoon Mar 24\n",
      "Character rank did not change.\n",
      "21 廘盔 Mar 18\n",
      "Character rank did not change.\n",
      "22 馨香紫雨 Apr 2\n",
      "23 Фунтович Feb 25\n",
      "Rank changed!!\n",
      "24 东加盏记 Mar 31\n",
      "Rank changed!!\n",
      "25 Ithaca Apr 1\n",
      "Rank changed!!\n",
      "26 Wah Mar 30\n",
      "Rank changed!!\n",
      "27 谁比我能毛 Mar 18\n",
      "Rank changed!!\n",
      "28 Lildyl Mar 1\n",
      "Rank changed!!\n",
      "29 德一只 Mar 30\n",
      "Rank changed!!\n",
      "30 Decêit Feb 22\n",
      "Rank changed!!\n",
      "31 巨大毒瘤 Mar 17\n",
      "Rank changed!!\n",
      "32 落影丶 Mar 31\n",
      "Rank changed!!\n",
      "33 铜憨憨 Mar 31\n",
      "Rank changed!!\n",
      "34 八五七最摇摆 Mar 23\n",
      "Rank changed!!\n",
      "35 灵儿喵喵 Mar 21\n",
      "Rank changed!!\n",
      "36 岸叶晶灵 Mar 5\n",
      "Rank changed!!\n",
      "37 自祚茤淸 Apr 2\n",
      "38 卡利丝塔 Mar 20\n",
      "Rank changed!!\n",
      "39 回丶忆 Mar 17\n",
      "Rank changed!!\n",
      "40 思灵琼若 Mar 27\n",
      "Rank changed!!\n",
      "41 徳一只 Mar 2\n",
      "Rank changed!!\n",
      "42 欧丽薇亚 Mar 24\n",
      "Rank changed!!\n",
      "43 喵喵懒 Mar 4\n",
      "Rank changed!!\n",
      "44 Roocifer Mar 29\n",
      "Rank changed!!\n",
      "45 朱碧石本猪啊 Mar 11\n",
      "Rank changed!!\n",
      "46 伪电气白兰 Apr 1\n",
      "Rank changed!!\n",
      "47 琥錿淲 Mar 18\n",
      "Rank changed!!\n",
      "48 股大好放气 Mar 18\n",
      "Rank changed!!\n",
      "49 地者 Mar 17\n",
      "Rank changed!!\n"
     ]
    }
   ],
   "source": [
    "for i in range(1, 50):\n",
    "    rank_changed = False\n",
    "    \n",
    "    rank, char_info, date, HPS, duration = src.get_boss_data_top_N_scraper(browser, boss, boss_link_dict, i)\n",
    "    name = char_info.split(\"\\n\")[0]\n",
    "    \n",
    "    rank_changed = check_if_rank_changed(boss, rank, name, date)\n",
    "    if rank_changed: update_rank(boss, rank, name, date)"
   ]
  },
  {
   "cell_type": "code",
   "execution_count": 17,
   "id": "e9c04d1b",
   "metadata": {},
   "outputs": [],
   "source": [
    "rank = 1\n",
    "name = '一杯马爹利'\n",
    "date = 'Mar 28'"
   ]
  },
  {
   "cell_type": "code",
   "execution_count": 37,
   "id": "bde4a8fc",
   "metadata": {},
   "outputs": [],
   "source": [
    "def check_if_rank_changed(boss, rank, name, date):\n",
    "    wb = openpyxl.load_workbook('character_data/top_N_druids.xlsx')\n",
    "\n",
    "    boss = boss.replace(\" \", \"\")\n",
    "\n",
    "    ws = wb.get_sheet_by_name(boss)\n",
    "    for row in ws.iter_rows():\n",
    "        if [rank, name, date] == [row[0].value, row[1].value, row[3].value]:\n",
    "            wb.save('character_data/top_N_druids.xlsx')\n",
    "            return False\n",
    "            \n",
    "        elif [name, date] == [row[1].value, row[3].value] and rank != row[0].value:\n",
    "            wb.save('character_data/top_N_druids.xlsx')\n",
    "            return True\n",
    "        \n",
    "    wb.save('character_data/top_N_druids.xlsx')\n",
    "    return False "
   ]
  },
  {
   "cell_type": "code",
   "execution_count": null,
   "id": "e4efd5d8",
   "metadata": {},
   "outputs": [],
   "source": [
    "def update_rank(boss, rank, name, date):\n",
    "    wb = openpyxl.load_workbook('character_data/top_N_druids.xlsx')\n",
    "    \n",
    "    boss = boss.replace(\" \", \"\")\n",
    "\n",
    "    ws = wb.get_sheet_by_name(boss)\n",
    "    for i, row in enumerate(ws.iter_rows()):\n",
    "        if [name, date] == [row[1].value, row[3].value]:\n",
    "            row[0].value = rank\n",
    "        \n",
    "    wb.save('character_data/top_N_druids.xlsx')"
   ]
  },
  {
   "cell_type": "code",
   "execution_count": null,
   "id": "88c7568f",
   "metadata": {},
   "outputs": [],
   "source": []
  }
 ],
 "metadata": {
  "kernelspec": {
   "display_name": "Python 3 (ipykernel)",
   "language": "python",
   "name": "python3"
  },
  "language_info": {
   "codemirror_mode": {
    "name": "ipython",
    "version": 3
   },
   "file_extension": ".py",
   "mimetype": "text/x-python",
   "name": "python",
   "nbconvert_exporter": "python",
   "pygments_lexer": "ipython3",
   "version": "3.9.7"
  }
 },
 "nbformat": 4,
 "nbformat_minor": 5
}
