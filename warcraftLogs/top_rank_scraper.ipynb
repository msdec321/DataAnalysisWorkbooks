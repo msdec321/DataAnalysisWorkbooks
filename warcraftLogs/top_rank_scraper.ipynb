{
 "cells": [
  {
   "cell_type": "markdown",
   "id": "85820b0d",
   "metadata": {},
   "source": [
    "## Import packages"
   ]
  },
  {
   "cell_type": "code",
   "execution_count": 27,
   "id": "0c028fd9",
   "metadata": {},
   "outputs": [
    {
     "data": {
      "text/plain": [
       "<module 'src' from 'C:\\\\Users\\\\Matth\\\\git\\\\DataAnalysisWorkbooks\\\\warcraftLogs\\\\src.py'>"
      ]
     },
     "execution_count": 27,
     "metadata": {},
     "output_type": "execute_result"
    }
   ],
   "source": [
    "import selenium\n",
    "from selenium import webdriver\n",
    "\n",
    "import shutil, time, os\n",
    "import pandas as pd\n",
    "import warnings\n",
    "warnings.filterwarnings('ignore')\n",
    "\n",
    "from importlib import reload\n",
    "\n",
    "import src\n",
    "reload(src)"
   ]
  },
  {
   "cell_type": "code",
   "execution_count": null,
   "id": "b79dd0f0",
   "metadata": {},
   "outputs": [],
   "source": []
  },
  {
   "cell_type": "markdown",
   "id": "938b4943",
   "metadata": {},
   "source": [
    "## Configurations"
   ]
  },
  {
   "cell_type": "code",
   "execution_count": 2,
   "id": "2588d751",
   "metadata": {},
   "outputs": [],
   "source": [
    "# Set path variables\n",
    "path_to_adblocker = r\"C:\\Users\\Matth\\Desktop\\3.12_0\"\n",
    "path_to_download_dir = r\"C:\\Users\\Matth\\Downloads\""
   ]
  },
  {
   "cell_type": "code",
   "execution_count": 28,
   "id": "17df6c1f",
   "metadata": {},
   "outputs": [],
   "source": [
    "# Number of parses to scrape (Current max is 100 or 1 page)\n",
    "N_parses = 20"
   ]
  },
  {
   "cell_type": "code",
   "execution_count": null,
   "id": "5b9bc002",
   "metadata": {},
   "outputs": [],
   "source": []
  },
  {
   "cell_type": "markdown",
   "id": "65a57194",
   "metadata": {},
   "source": [
    "## Navigate to WCL"
   ]
  },
  {
   "cell_type": "code",
   "execution_count": 30,
   "id": "d6efa04f",
   "metadata": {},
   "outputs": [],
   "source": [
    "boss = \"Supremus\""
   ]
  },
  {
   "cell_type": "code",
   "execution_count": 5,
   "id": "02837c7c",
   "metadata": {},
   "outputs": [],
   "source": [
    "# Dictionary for browser to navigate to boss page URLs\n",
    "boss_link_dict = {\"High Warlord Naj'entus\" : \"#boss=601\", \"Supremus\" : \"#boss=602\", \"Shade of Akama\" : \"#boss=603\", \n",
    "                  \"Teron Gorefiend\" : \"#boss=604\", \"Gurtogg Bloodboil\" : \"#boss=605\", \"Reliquary of Souls\" : \"#boss=606\", \n",
    "                  \"Mother Shahraz\" : \"#boss=607\", \"The Illidari Council\" : \"#boss=608\", \"Illidan Stormrage\" : \"#boss=609\", \n",
    "                  \"Rage Winterchill\" : \"#boss=618\", \"Anetheron\" : \"#boss=619\", \"Kaz'rogal\" : \"#boss=620\", \n",
    "                  \"Azgalor\" : \"#boss=621\", \"Archimonde\" : \"#boss=622\"}"
   ]
  },
  {
   "cell_type": "code",
   "execution_count": 31,
   "id": "f2d71c51",
   "metadata": {},
   "outputs": [],
   "source": [
    "boss_page_url, browser = src.load_top_N_scraper(path_to_adblocker, boss, boss_link_dict)"
   ]
  },
  {
   "cell_type": "code",
   "execution_count": null,
   "id": "a2684afc",
   "metadata": {},
   "outputs": [],
   "source": []
  },
  {
   "cell_type": "markdown",
   "id": "0414985f",
   "metadata": {},
   "source": [
    "## Main code loop"
   ]
  },
  {
   "cell_type": "code",
   "execution_count": 33,
   "id": "4d95e336",
   "metadata": {
    "scrolled": false
   },
   "outputs": [
    {
     "name": "stdout",
     "output_type": "stream",
     "text": [
      "Checking for rank changes since last scrape...\n"
     ]
    },
    {
     "ename": "KeyError",
     "evalue": "'Worksheet Supremus does not exist.'",
     "output_type": "error",
     "traceback": [
      "\u001b[1;31m---------------------------------------------------------------------------\u001b[0m",
      "\u001b[1;31mKeyError\u001b[0m                                  Traceback (most recent call last)",
      "\u001b[1;32m~\\AppData\\Local\\Temp/ipykernel_17800/1418351254.py\u001b[0m in \u001b[0;36m<module>\u001b[1;34m\u001b[0m\n\u001b[0;32m     82\u001b[0m \u001b[1;33m\u001b[0m\u001b[0m\n\u001b[0;32m     83\u001b[0m \u001b[1;32mif\u001b[0m \u001b[0m__name__\u001b[0m \u001b[1;33m==\u001b[0m \u001b[1;34m\"__main__\"\u001b[0m\u001b[1;33m:\u001b[0m\u001b[1;33m\u001b[0m\u001b[1;33m\u001b[0m\u001b[0m\n\u001b[1;32m---> 84\u001b[1;33m     \u001b[0mmain\u001b[0m\u001b[1;33m(\u001b[0m\u001b[1;33m)\u001b[0m\u001b[1;33m\u001b[0m\u001b[1;33m\u001b[0m\u001b[0m\n\u001b[0m",
      "\u001b[1;32m~\\AppData\\Local\\Temp/ipykernel_17800/1418351254.py\u001b[0m in \u001b[0;36mmain\u001b[1;34m()\u001b[0m\n\u001b[0;32m      6\u001b[0m         \u001b[0mrank\u001b[0m\u001b[1;33m,\u001b[0m \u001b[0mname\u001b[0m\u001b[1;33m,\u001b[0m \u001b[0mserver\u001b[0m\u001b[1;33m,\u001b[0m \u001b[0mregion\u001b[0m\u001b[1;33m,\u001b[0m \u001b[0mdate\u001b[0m\u001b[1;33m,\u001b[0m \u001b[0mHPS\u001b[0m\u001b[1;33m,\u001b[0m \u001b[0mduration\u001b[0m \u001b[1;33m=\u001b[0m \u001b[0msrc\u001b[0m\u001b[1;33m.\u001b[0m\u001b[0mget_boss_data_top_N_scraper\u001b[0m\u001b[1;33m(\u001b[0m\u001b[0mbrowser\u001b[0m\u001b[1;33m,\u001b[0m \u001b[0mboss\u001b[0m\u001b[1;33m,\u001b[0m \u001b[0mboss_link_dict\u001b[0m\u001b[1;33m,\u001b[0m \u001b[0mi\u001b[0m\u001b[1;33m)\u001b[0m\u001b[1;33m\u001b[0m\u001b[1;33m\u001b[0m\u001b[0m\n\u001b[0;32m      7\u001b[0m \u001b[1;33m\u001b[0m\u001b[0m\n\u001b[1;32m----> 8\u001b[1;33m         \u001b[0mrank_changed\u001b[0m \u001b[1;33m=\u001b[0m \u001b[0msrc\u001b[0m\u001b[1;33m.\u001b[0m\u001b[0mcheck_if_rank_changed\u001b[0m\u001b[1;33m(\u001b[0m\u001b[0mboss\u001b[0m\u001b[1;33m,\u001b[0m \u001b[0mrank\u001b[0m\u001b[1;33m,\u001b[0m \u001b[0mname\u001b[0m\u001b[1;33m,\u001b[0m \u001b[0mdate\u001b[0m\u001b[1;33m)\u001b[0m\u001b[1;33m\u001b[0m\u001b[1;33m\u001b[0m\u001b[0m\n\u001b[0m\u001b[0;32m      9\u001b[0m         \u001b[1;32mif\u001b[0m \u001b[0mrank_changed\u001b[0m\u001b[1;33m:\u001b[0m\u001b[1;33m\u001b[0m\u001b[1;33m\u001b[0m\u001b[0m\n\u001b[0;32m     10\u001b[0m             \u001b[0msrc\u001b[0m\u001b[1;33m.\u001b[0m\u001b[0mupdate_rank\u001b[0m\u001b[1;33m(\u001b[0m\u001b[0mboss\u001b[0m\u001b[1;33m,\u001b[0m \u001b[0mrank\u001b[0m\u001b[1;33m,\u001b[0m \u001b[0mname\u001b[0m\u001b[1;33m,\u001b[0m \u001b[0mdate\u001b[0m\u001b[1;33m)\u001b[0m\u001b[1;33m\u001b[0m\u001b[1;33m\u001b[0m\u001b[0m\n",
      "\u001b[1;32m~\\git\\DataAnalysisWorkbooks\\warcraftLogs\\src.py\u001b[0m in \u001b[0;36mcheck_if_rank_changed\u001b[1;34m(boss, rank, name, date)\u001b[0m\n\u001b[0;32m     75\u001b[0m     \u001b[0mboss\u001b[0m \u001b[1;33m=\u001b[0m \u001b[0mboss\u001b[0m\u001b[1;33m.\u001b[0m\u001b[0mreplace\u001b[0m\u001b[1;33m(\u001b[0m\u001b[1;34m\" \"\u001b[0m\u001b[1;33m,\u001b[0m \u001b[1;34m\"\"\u001b[0m\u001b[1;33m)\u001b[0m\u001b[1;33m\u001b[0m\u001b[1;33m\u001b[0m\u001b[0m\n\u001b[0;32m     76\u001b[0m \u001b[1;33m\u001b[0m\u001b[0m\n\u001b[1;32m---> 77\u001b[1;33m     \u001b[0mws\u001b[0m \u001b[1;33m=\u001b[0m \u001b[0mwb\u001b[0m\u001b[1;33m.\u001b[0m\u001b[0mget_sheet_by_name\u001b[0m\u001b[1;33m(\u001b[0m\u001b[0mboss\u001b[0m\u001b[1;33m)\u001b[0m\u001b[1;33m\u001b[0m\u001b[1;33m\u001b[0m\u001b[0m\n\u001b[0m\u001b[0;32m     78\u001b[0m     \u001b[1;32mfor\u001b[0m \u001b[0mrow\u001b[0m \u001b[1;32min\u001b[0m \u001b[0mws\u001b[0m\u001b[1;33m.\u001b[0m\u001b[0miter_rows\u001b[0m\u001b[1;33m(\u001b[0m\u001b[1;33m)\u001b[0m\u001b[1;33m:\u001b[0m\u001b[1;33m\u001b[0m\u001b[1;33m\u001b[0m\u001b[0m\n\u001b[0;32m     79\u001b[0m         \u001b[1;32mif\u001b[0m \u001b[1;33m[\u001b[0m\u001b[0mrank\u001b[0m\u001b[1;33m,\u001b[0m \u001b[0mname\u001b[0m\u001b[1;33m,\u001b[0m \u001b[0mdate\u001b[0m\u001b[1;33m]\u001b[0m \u001b[1;33m==\u001b[0m \u001b[1;33m[\u001b[0m\u001b[0mrow\u001b[0m\u001b[1;33m[\u001b[0m\u001b[1;36m0\u001b[0m\u001b[1;33m]\u001b[0m\u001b[1;33m.\u001b[0m\u001b[0mvalue\u001b[0m\u001b[1;33m,\u001b[0m \u001b[0mrow\u001b[0m\u001b[1;33m[\u001b[0m\u001b[1;36m1\u001b[0m\u001b[1;33m]\u001b[0m\u001b[1;33m.\u001b[0m\u001b[0mvalue\u001b[0m\u001b[1;33m,\u001b[0m \u001b[0mrow\u001b[0m\u001b[1;33m[\u001b[0m\u001b[1;36m3\u001b[0m\u001b[1;33m]\u001b[0m\u001b[1;33m.\u001b[0m\u001b[0mvalue\u001b[0m\u001b[1;33m]\u001b[0m\u001b[1;33m:\u001b[0m\u001b[1;33m\u001b[0m\u001b[1;33m\u001b[0m\u001b[0m\n",
      "\u001b[1;32m~\\miniforge3\\lib\\site-packages\\openpyxl\\compat\\__init__.py\u001b[0m in \u001b[0;36mnew_func1\u001b[1;34m(*args, **kwargs)\u001b[0m\n\u001b[0;32m     36\u001b[0m                     \u001b[0mstacklevel\u001b[0m\u001b[1;33m=\u001b[0m\u001b[1;36m2\u001b[0m\u001b[1;33m\u001b[0m\u001b[1;33m\u001b[0m\u001b[0m\n\u001b[0;32m     37\u001b[0m                 )\n\u001b[1;32m---> 38\u001b[1;33m                 \u001b[1;32mreturn\u001b[0m \u001b[0mfunc1\u001b[0m\u001b[1;33m(\u001b[0m\u001b[1;33m*\u001b[0m\u001b[0margs\u001b[0m\u001b[1;33m,\u001b[0m \u001b[1;33m**\u001b[0m\u001b[0mkwargs\u001b[0m\u001b[1;33m)\u001b[0m\u001b[1;33m\u001b[0m\u001b[1;33m\u001b[0m\u001b[0m\n\u001b[0m\u001b[0;32m     39\u001b[0m \u001b[1;33m\u001b[0m\u001b[0m\n\u001b[0;32m     40\u001b[0m             \u001b[1;31m# Enhance docstring with a deprecation note\u001b[0m\u001b[1;33m\u001b[0m\u001b[1;33m\u001b[0m\u001b[0m\n",
      "\u001b[1;32m~\\miniforge3\\lib\\site-packages\\openpyxl\\workbook\\workbook.py\u001b[0m in \u001b[0;36mget_sheet_by_name\u001b[1;34m(self, name)\u001b[0m\n\u001b[0;32m    260\u001b[0m \u001b[1;33m\u001b[0m\u001b[0m\n\u001b[0;32m    261\u001b[0m         \"\"\"\n\u001b[1;32m--> 262\u001b[1;33m         \u001b[1;32mreturn\u001b[0m \u001b[0mself\u001b[0m\u001b[1;33m[\u001b[0m\u001b[0mname\u001b[0m\u001b[1;33m]\u001b[0m\u001b[1;33m\u001b[0m\u001b[1;33m\u001b[0m\u001b[0m\n\u001b[0m\u001b[0;32m    263\u001b[0m \u001b[1;33m\u001b[0m\u001b[0m\n\u001b[0;32m    264\u001b[0m     \u001b[1;32mdef\u001b[0m \u001b[0m__contains__\u001b[0m\u001b[1;33m(\u001b[0m\u001b[0mself\u001b[0m\u001b[1;33m,\u001b[0m \u001b[0mkey\u001b[0m\u001b[1;33m)\u001b[0m\u001b[1;33m:\u001b[0m\u001b[1;33m\u001b[0m\u001b[1;33m\u001b[0m\u001b[0m\n",
      "\u001b[1;32m~\\miniforge3\\lib\\site-packages\\openpyxl\\workbook\\workbook.py\u001b[0m in \u001b[0;36m__getitem__\u001b[1;34m(self, key)\u001b[0m\n\u001b[0;32m    286\u001b[0m             \u001b[1;32mif\u001b[0m \u001b[0msheet\u001b[0m\u001b[1;33m.\u001b[0m\u001b[0mtitle\u001b[0m \u001b[1;33m==\u001b[0m \u001b[0mkey\u001b[0m\u001b[1;33m:\u001b[0m\u001b[1;33m\u001b[0m\u001b[1;33m\u001b[0m\u001b[0m\n\u001b[0;32m    287\u001b[0m                 \u001b[1;32mreturn\u001b[0m \u001b[0msheet\u001b[0m\u001b[1;33m\u001b[0m\u001b[1;33m\u001b[0m\u001b[0m\n\u001b[1;32m--> 288\u001b[1;33m         \u001b[1;32mraise\u001b[0m \u001b[0mKeyError\u001b[0m\u001b[1;33m(\u001b[0m\u001b[1;34m\"Worksheet {0} does not exist.\"\u001b[0m\u001b[1;33m.\u001b[0m\u001b[0mformat\u001b[0m\u001b[1;33m(\u001b[0m\u001b[0mkey\u001b[0m\u001b[1;33m)\u001b[0m\u001b[1;33m)\u001b[0m\u001b[1;33m\u001b[0m\u001b[1;33m\u001b[0m\u001b[0m\n\u001b[0m\u001b[0;32m    289\u001b[0m \u001b[1;33m\u001b[0m\u001b[0m\n\u001b[0;32m    290\u001b[0m     \u001b[1;32mdef\u001b[0m \u001b[0m__delitem__\u001b[0m\u001b[1;33m(\u001b[0m\u001b[0mself\u001b[0m\u001b[1;33m,\u001b[0m \u001b[0mkey\u001b[0m\u001b[1;33m)\u001b[0m\u001b[1;33m:\u001b[0m\u001b[1;33m\u001b[0m\u001b[1;33m\u001b[0m\u001b[0m\n",
      "\u001b[1;31mKeyError\u001b[0m: 'Worksheet Supremus does not exist.'"
     ]
    }
   ],
   "source": [
    "def main():\n",
    "    \n",
    "    # First check to see if any of the rankings changed since last scraping and update the excel file\n",
    "    print(\"Checking for rank changes since last scrape...\")\n",
    "    for i in range(1, N_parses):\n",
    "        rank, name, server, region, date, HPS, duration = src.get_boss_data_top_N_scraper(browser, boss, boss_link_dict, i)\n",
    "        \n",
    "        rank_changed = src.check_if_rank_changed(boss, rank, name, date)\n",
    "        if rank_changed: \n",
    "            src.update_rank(boss, rank, name, date)\n",
    "    print(\"Rank updates complete.\")\n",
    "    time.sleep(2)\n",
    "    \n",
    "    \n",
    "    print(\"Beginning data scrape...\")\n",
    "    for i in range(1, N_parses):\n",
    "        \n",
    "        rank, name, server, region, date, HPS, duration = src.get_boss_data_top_N_scraper(browser, boss, boss_link_dict, i)\n",
    "        \n",
    "        if src.check_if_parse_already_recorded_top_N(boss, rank, name): \n",
    "                continue\n",
    "                \n",
    "        print(rank, name, server, region)\n",
    "    \n",
    "        link = browser.find_element_by_link_text(name)\n",
    "        link.click()\n",
    "        time.sleep(1)\n",
    "    \n",
    "        player_df = pd.DataFrame(pd.np.empty((0, 16)))\n",
    "        player_df.columns = [\"Rank\", \"Name\", \"Server\", \"Date\", \"Kill time\", \"nHealers\", \"Spriest?\", \"Innervate?\", \"LB_uptime\", \"HPS\", \"% LB (tick) HPS\", \"% LB (bloom) HPS\", \"% Rejuv HPS\", \"% Regrowth HPS\", \"% Swiftmend HPS\", \"Rotations\"]\n",
    "    \n",
    "        temp_url = browser.current_url\n",
    "        \n",
    "        boss_tanks = src.get_tanks(browser)\n",
    "        nHealers = src.get_nHealers(browser)\n",
    "    \n",
    "        print(f\"Tanks: {boss_tanks}\")\n",
    "        \n",
    "        browser.get(temp_url)\n",
    "        time.sleep(0.5)\n",
    "        \n",
    "        player_link = browser.find_element_by_link_text(name)\n",
    "        player_link.click()\n",
    "        time.sleep(0.5)\n",
    "        \n",
    "        # Scrape spell HPS\n",
    "        LBtick_HPS, LBbloom_HPS, rejuv_HPS, regrowth_HPS, swiftmend_HPS, LB_uptime = src.get_spell_info(browser, HPS)\n",
    "        time.sleep(2)\n",
    "                   \n",
    "        # Scrape mana sources\n",
    "        spriest = src.check_spriest(browser)\n",
    "        innervate = src.check_innervate(browser)\n",
    "        time.sleep(0.5)    \n",
    "        \n",
    "        # Download the cast-sequence CSV.\n",
    "        src.download_csv(browser, temp_url, \"filter-casts-tab\", path_to_download_dir, \"data/cast_sequence.csv\")\n",
    "        time.sleep(1)\n",
    "        \n",
    "        # Clean the csv\n",
    "        df = src.clean_cast_sequence_csv()\n",
    "        df = src.fix_cast_time(df)\n",
    "        time.sleep(0.5)\n",
    "        \n",
    "        # Get the rotations\n",
    "        rotations = src.calculate_rotations(df, boss, boss_tanks)\n",
    "        print(f'Rotations: {rotations}')  \n",
    "\n",
    "        to_append = [rank, name, server + \" \" + region, date, duration, str(nHealers), spriest, innervate, LB_uptime, HPS, LBtick_HPS, LBbloom_HPS, rejuv_HPS, regrowth_HPS, swiftmend_HPS, rotations]\n",
    "        src.export_to_excel(boss, to_append, player_df, name, 'top_N_druids')\n",
    "        \n",
    "        os.remove(f\"data/{boss.replace(' ', '')}_{name}.csv\")\n",
    "        os.remove(f\"data/cast_sequence.csv\")\n",
    "        \n",
    "        print('-------')\n",
    "        browser.get(boss_page_url)\n",
    "        time.sleep(1)\n",
    "        \n",
    "        \n",
    "    print(f\"{boss} scraping complete.\")\n",
    "    print(\"---------------\")\n",
    "    \n",
    "    \n",
    "if __name__ == \"__main__\":\n",
    "    main()"
   ]
  },
  {
   "cell_type": "code",
   "execution_count": null,
   "id": "98e7a301",
   "metadata": {},
   "outputs": [],
   "source": []
  },
  {
   "cell_type": "code",
   "execution_count": 25,
   "id": "844b3a3b",
   "metadata": {},
   "outputs": [],
   "source": [
    "browser.get(boss_page_url)"
   ]
  },
  {
   "cell_type": "code",
   "execution_count": null,
   "id": "24d4e649",
   "metadata": {},
   "outputs": [],
   "source": []
  }
 ],
 "metadata": {
  "kernelspec": {
   "display_name": "Python 3 (ipykernel)",
   "language": "python",
   "name": "python3"
  },
  "language_info": {
   "codemirror_mode": {
    "name": "ipython",
    "version": 3
   },
   "file_extension": ".py",
   "mimetype": "text/x-python",
   "name": "python",
   "nbconvert_exporter": "python",
   "pygments_lexer": "ipython3",
   "version": "3.9.7"
  }
 },
 "nbformat": 4,
 "nbformat_minor": 5
}
