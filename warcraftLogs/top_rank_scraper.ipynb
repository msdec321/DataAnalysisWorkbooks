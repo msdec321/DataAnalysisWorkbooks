{
 "cells": [
  {
   "cell_type": "markdown",
   "id": "85820b0d",
   "metadata": {},
   "source": [
    "## Import packages"
   ]
  },
  {
   "cell_type": "code",
   "execution_count": 1,
   "id": "0c028fd9",
   "metadata": {},
   "outputs": [
    {
     "data": {
      "text/plain": [
       "<module 'src' from 'C:\\\\Users\\\\Hugh\\\\git\\\\warcraftLogs\\\\src.py'>"
      ]
     },
     "execution_count": 1,
     "metadata": {},
     "output_type": "execute_result"
    }
   ],
   "source": [
    "import selenium\n",
    "from selenium import webdriver\n",
    "\n",
    "import shutil, time, os\n",
    "import pandas as pd\n",
    "import warnings\n",
    "warnings.filterwarnings('ignore')\n",
    "\n",
    "from importlib import reload\n",
    "\n",
    "import src\n",
    "reload(src)"
   ]
  },
  {
   "cell_type": "code",
   "execution_count": null,
   "id": "b79dd0f0",
   "metadata": {},
   "outputs": [],
   "source": []
  },
  {
   "cell_type": "markdown",
   "id": "938b4943",
   "metadata": {},
   "source": [
    "## Configurations"
   ]
  },
  {
   "cell_type": "code",
   "execution_count": 2,
   "id": "2588d751",
   "metadata": {},
   "outputs": [],
   "source": [
    "# Set path variables\n",
    "path_to_adblocker = r\"C:\\Users\\Hugh\\Desktop\\3.11.2_0\"\n",
    "path_to_download_dir = r\"C:\\Users\\Hugh\\Downloads\"\n",
    "\n",
    "# Enable/disable SMS\n",
    "twilio = False"
   ]
  },
  {
   "cell_type": "code",
   "execution_count": 3,
   "id": "17df6c1f",
   "metadata": {},
   "outputs": [],
   "source": [
    "# Number of parses to scrape\n",
    "N_parses = 121\n",
    "retry_attempts = 3"
   ]
  },
  {
   "cell_type": "code",
   "execution_count": null,
   "id": "5b9bc002",
   "metadata": {},
   "outputs": [],
   "source": []
  },
  {
   "cell_type": "markdown",
   "id": "65a57194",
   "metadata": {},
   "source": [
    "## Navigate to WCL"
   ]
  },
  {
   "cell_type": "code",
   "execution_count": 4,
   "id": "d6efa04f",
   "metadata": {},
   "outputs": [],
   "source": [
    "boss = \"High Warlord Naj'entus\""
   ]
  },
  {
   "cell_type": "code",
   "execution_count": 5,
   "id": "02837c7c",
   "metadata": {},
   "outputs": [],
   "source": [
    "# Dictionary for browser to navigate to boss page URLs\n",
    "boss_link_dict = {\"High Warlord Naj'entus\" : \"#boss=601\", \"Supremus\" : \"#boss=602\", \"Shade of Akama\" : \"#boss=603\", \n",
    "                  \"Teron Gorefiend\" : \"#boss=604\", \"Gurtogg Bloodboil\" : \"#boss=605\", \"Reliquary of Souls\" : \"#boss=606\", \n",
    "                  \"Mother Shahraz\" : \"#boss=607\", \"The Illidari Council\" : \"#boss=608\", \"Illidan Stormrage\" : \"#boss=609\", \n",
    "                  \"Rage Winterchill\" : \"#boss=618\", \"Anetheron\" : \"#boss=619\", \"Kaz'rogal\" : \"#boss=620\", \n",
    "                  \"Azgalor\" : \"#boss=621\", \"Archimonde\" : \"#boss=622\"}"
   ]
  },
  {
   "cell_type": "code",
   "execution_count": 6,
   "id": "f2d71c51",
   "metadata": {},
   "outputs": [],
   "source": [
    "boss_page_url, browser = src.load_top_N_scraper(path_to_adblocker, boss, boss_link_dict)"
   ]
  },
  {
   "cell_type": "code",
   "execution_count": null,
   "id": "804ca6f6",
   "metadata": {},
   "outputs": [],
   "source": []
  },
  {
   "cell_type": "markdown",
   "id": "0414985f",
   "metadata": {},
   "source": [
    "## Main code loop"
   ]
  },
  {
   "cell_type": "code",
   "execution_count": 175,
   "id": "4d95e336",
   "metadata": {
    "scrolled": false
   },
   "outputs": [
    {
     "name": "stdout",
     "output_type": "stream",
     "text": [
      "Checking for rank changes since last scrape...\n",
      "Rank updates complete.\n",
      "-----------\n",
      "Beginning data scrape...\n",
      "107 月冷清秋  帕奇维克\n",
      "Tanks: ['伊伊向前冲']\n",
      "9.15%\n",
      "1LB 0I 4RG 0.1\n",
      "0LB 0I 5RG 0.5\n",
      "0LB 1I 4RG 0.4\n",
      "0.9\n",
      "Rotating on tank?:  No\n",
      "Rotations: 0LB 0I 5RG (0.5), 0LB 1I 4RG (0.4)\n",
      "-------\n",
      "108 Littlejin  Benediction\n",
      "Tanks: ['Angelbeats']\n",
      "33.67%\n",
      "1LB 3I 0RG 0.083\n",
      "1LB 0I 4RG 0.083\n",
      "0LB 0I 5RG 0.417\n",
      "0LB 1I 4RG 0.167\n",
      "1LB 2I 2RG 0.167\n",
      "0LB 1I 3RG 0.083\n",
      "0.6669999999999999\n",
      "Rotating on tank?:  No\n",
      "Rotations: 0LB 0I 5RG (0.417), 0LB 1I 4RG (0.167)\n",
      "-------\n",
      "109 啵啵球  哈霍兰\n",
      "Tanks: ['灬梦醒时分', '电梯丶战神']\n",
      "73.38%\n",
      "1LB 1I 2RG 0.059\n",
      "1LB 0I 3RG 0.118\n",
      "1LB 0I 4RG 0.235\n",
      "1LB 1I 1RG 0.118\n",
      "1LB 0I 2RG 0.118\n",
      "1LB 2I 1RG 0.059\n",
      "0LB 1I 4RG 0.118\n",
      "0LB 0I 5RG 0.059\n",
      "1LB 1I 3RG 0.118\n",
      "0.177\n",
      "Rotating on tank?:  Yes\n",
      "Rotations: 1LB 0I 4RG (0.235), 1LB 0I 3RG (0.118)\n",
      "-------\n",
      "110 Rundru  Westfall\n",
      "Tanks: ['Zenmetsu', 'Sardonyx']\n"
     ]
    },
    {
     "ename": "NameError",
     "evalue": "name 'retry_attempts' is not defined",
     "output_type": "error",
     "traceback": [
      "\u001b[1;31m---------------------------------------------------------------------------\u001b[0m",
      "\u001b[1;31mElementClickInterceptedException\u001b[0m          Traceback (most recent call last)",
      "Input \u001b[1;32mIn [175]\u001b[0m, in \u001b[0;36mmain\u001b[1;34m()\u001b[0m\n\u001b[0;32m     82\u001b[0m player_link \u001b[38;5;241m=\u001b[39m browser\u001b[38;5;241m.\u001b[39mfind_element_by_link_text(name)\n\u001b[1;32m---> 83\u001b[0m \u001b[43mplayer_link\u001b[49m\u001b[38;5;241;43m.\u001b[39;49m\u001b[43mclick\u001b[49m\u001b[43m(\u001b[49m\u001b[43m)\u001b[49m\n\u001b[0;32m     84\u001b[0m time\u001b[38;5;241m.\u001b[39msleep(\u001b[38;5;241m0.5\u001b[39m)\n",
      "File \u001b[1;32mc:\\users\\hugh\\miniconda3\\lib\\site-packages\\selenium\\webdriver\\remote\\webelement.py:81\u001b[0m, in \u001b[0;36mWebElement.click\u001b[1;34m(self)\u001b[0m\n\u001b[0;32m     80\u001b[0m \u001b[38;5;124;03m\"\"\"Clicks the element.\"\"\"\u001b[39;00m\n\u001b[1;32m---> 81\u001b[0m \u001b[38;5;28;43mself\u001b[39;49m\u001b[38;5;241;43m.\u001b[39;49m\u001b[43m_execute\u001b[49m\u001b[43m(\u001b[49m\u001b[43mCommand\u001b[49m\u001b[38;5;241;43m.\u001b[39;49m\u001b[43mCLICK_ELEMENT\u001b[49m\u001b[43m)\u001b[49m\n",
      "File \u001b[1;32mc:\\users\\hugh\\miniconda3\\lib\\site-packages\\selenium\\webdriver\\remote\\webelement.py:710\u001b[0m, in \u001b[0;36mWebElement._execute\u001b[1;34m(self, command, params)\u001b[0m\n\u001b[0;32m    709\u001b[0m params[\u001b[38;5;124m'\u001b[39m\u001b[38;5;124mid\u001b[39m\u001b[38;5;124m'\u001b[39m] \u001b[38;5;241m=\u001b[39m \u001b[38;5;28mself\u001b[39m\u001b[38;5;241m.\u001b[39m_id\n\u001b[1;32m--> 710\u001b[0m \u001b[38;5;28;01mreturn\u001b[39;00m \u001b[38;5;28;43mself\u001b[39;49m\u001b[38;5;241;43m.\u001b[39;49m\u001b[43m_parent\u001b[49m\u001b[38;5;241;43m.\u001b[39;49m\u001b[43mexecute\u001b[49m\u001b[43m(\u001b[49m\u001b[43mcommand\u001b[49m\u001b[43m,\u001b[49m\u001b[43m \u001b[49m\u001b[43mparams\u001b[49m\u001b[43m)\u001b[49m\n",
      "File \u001b[1;32mc:\\users\\hugh\\miniconda3\\lib\\site-packages\\selenium\\webdriver\\remote\\webdriver.py:424\u001b[0m, in \u001b[0;36mWebDriver.execute\u001b[1;34m(self, driver_command, params)\u001b[0m\n\u001b[0;32m    423\u001b[0m \u001b[38;5;28;01mif\u001b[39;00m response:\n\u001b[1;32m--> 424\u001b[0m     \u001b[38;5;28;43mself\u001b[39;49m\u001b[38;5;241;43m.\u001b[39;49m\u001b[43merror_handler\u001b[49m\u001b[38;5;241;43m.\u001b[39;49m\u001b[43mcheck_response\u001b[49m\u001b[43m(\u001b[49m\u001b[43mresponse\u001b[49m\u001b[43m)\u001b[49m\n\u001b[0;32m    425\u001b[0m     response[\u001b[38;5;124m'\u001b[39m\u001b[38;5;124mvalue\u001b[39m\u001b[38;5;124m'\u001b[39m] \u001b[38;5;241m=\u001b[39m \u001b[38;5;28mself\u001b[39m\u001b[38;5;241m.\u001b[39m_unwrap_value(\n\u001b[0;32m    426\u001b[0m         response\u001b[38;5;241m.\u001b[39mget(\u001b[38;5;124m'\u001b[39m\u001b[38;5;124mvalue\u001b[39m\u001b[38;5;124m'\u001b[39m, \u001b[38;5;28;01mNone\u001b[39;00m))\n",
      "File \u001b[1;32mc:\\users\\hugh\\miniconda3\\lib\\site-packages\\selenium\\webdriver\\remote\\errorhandler.py:247\u001b[0m, in \u001b[0;36mErrorHandler.check_response\u001b[1;34m(self, response)\u001b[0m\n\u001b[0;32m    246\u001b[0m     \u001b[38;5;28;01mraise\u001b[39;00m exception_class(message, screen, stacktrace, alert_text)  \u001b[38;5;66;03m# type: ignore[call-arg]  # mypy is not smart enough here\u001b[39;00m\n\u001b[1;32m--> 247\u001b[0m \u001b[38;5;28;01mraise\u001b[39;00m exception_class(message, screen, stacktrace)\n",
      "\u001b[1;31mElementClickInterceptedException\u001b[0m: Message: element click intercepted: Element <a href=\"#\" class=\"Druid\" onclick=\"return followRawLogLinkForActor(this, 'summary',0,1,1,0,0)\" oncontextmenu=\"return followRawLogLinkForActor(this, 'summary',0,1,1,0,0)\">...</a> is not clickable at point (167, 587). Other element would receive the click: <div id=\"event-killer\" style=\"\"></div>\n  (Session info: chrome=99.0.4844.84)\nStacktrace:\nBacktrace:\n\tOrdinal0 [0x00A69943+2595139]\n\tOrdinal0 [0x009FC9F1+2148849]\n\tOrdinal0 [0x008F4528+1066280]\n\tOrdinal0 [0x00927621+1275425]\n\tOrdinal0 [0x00925657+1267287]\n\tOrdinal0 [0x0092333B+1258299]\n\tOrdinal0 [0x0092207D+1253501]\n\tOrdinal0 [0x00917AB3+1211059]\n\tOrdinal0 [0x0093B9EC+1358316]\n\tOrdinal0 [0x00917474+1209460]\n\tOrdinal0 [0x0093BC04+1358852]\n\tOrdinal0 [0x0094BAF2+1424114]\n\tOrdinal0 [0x0093B806+1357830]\n\tOrdinal0 [0x00916086+1204358]\n\tOrdinal0 [0x00916F96+1208214]\n\tGetHandleVerifier [0x00C0B232+1658114]\n\tGetHandleVerifier [0x00CC312C+2411516]\n\tGetHandleVerifier [0x00AFF261+560433]\n\tGetHandleVerifier [0x00AFE366+556598]\n\tOrdinal0 [0x00A0286B+2173035]\n\tOrdinal0 [0x00A075F8+2192888]\n\tOrdinal0 [0x00A076E5+2193125]\n\tOrdinal0 [0x00A111FC+2232828]\n\tBaseThreadInitThunk [0x75836359+25]\n\tRtlGetAppContainerNamedObjectPath [0x77C58944+228]\n\tRtlGetAppContainerNamedObjectPath [0x77C58914+180]\n",
      "\nDuring handling of the above exception, another exception occurred:\n",
      "\u001b[1;31mNameError\u001b[0m                                 Traceback (most recent call last)",
      "Input \u001b[1;32mIn [175]\u001b[0m, in \u001b[0;36m<module>\u001b[1;34m\u001b[0m\n\u001b[0;32m    138\u001b[0m                 \u001b[38;5;28;01mbreak\u001b[39;00m\n\u001b[0;32m    141\u001b[0m \u001b[38;5;28;01mif\u001b[39;00m \u001b[38;5;18m__name__\u001b[39m \u001b[38;5;241m==\u001b[39m \u001b[38;5;124m\"\u001b[39m\u001b[38;5;124m__main__\u001b[39m\u001b[38;5;124m\"\u001b[39m:\n\u001b[1;32m--> 142\u001b[0m     \u001b[43mmain\u001b[49m\u001b[43m(\u001b[49m\u001b[43m)\u001b[49m\n",
      "Input \u001b[1;32mIn [175]\u001b[0m, in \u001b[0;36mmain\u001b[1;34m()\u001b[0m\n\u001b[0;32m    134\u001b[0m retry_attempt \u001b[38;5;241m+\u001b[39m\u001b[38;5;241m=\u001b[39m \u001b[38;5;241m1\u001b[39m\n\u001b[0;32m    135\u001b[0m time\u001b[38;5;241m.\u001b[39msleep(\u001b[38;5;241m10\u001b[39m)\n\u001b[1;32m--> 136\u001b[0m \u001b[38;5;28;01mif\u001b[39;00m retry_attempt \u001b[38;5;241m==\u001b[39m \u001b[43mretry_attempts\u001b[49m: \n\u001b[0;32m    137\u001b[0m     message \u001b[38;5;241m=\u001b[39m twilioCli\u001b[38;5;241m.\u001b[39mmessages\u001b[38;5;241m.\u001b[39mcreate(body\u001b[38;5;241m=\u001b[39m\u001b[38;5;124m'\u001b[39m\u001b[38;5;124mData scraping crashed\u001b[39m\u001b[38;5;124m'\u001b[39m, from_\u001b[38;5;241m=\u001b[39mmyTwilioNumber, to\u001b[38;5;241m=\u001b[39mmyCellPhone)\n\u001b[0;32m    138\u001b[0m     \u001b[38;5;28;01mbreak\u001b[39;00m\n",
      "\u001b[1;31mNameError\u001b[0m: name 'retry_attempts' is not defined"
     ]
    }
   ],
   "source": [
    "def main():\n",
    "    \n",
    "    retry_attempt = 0\n",
    "    \n",
    "    # The browser can crash at random due to the page loading too slowly. Rather than restarting the loop manually,\n",
    "    # use 'retry_attempts' (default = 3) and the following while loop to restart automatically.\n",
    "    while True: \n",
    "\n",
    "        \n",
    "        # Twilio is an SMS service that will send a text to your phone when the code finishes/crashes.\n",
    "        # If you haven't setup twilio then set the flag to False in the Configuration cell.\n",
    "        if twilio: \n",
    "            from twilio.rest import Client\n",
    "            accountSID, authToken, myTwilioNumber, myCellPhone = src.get_twilio_info()\n",
    "            twilioCli = Client(accountSID, authToken)\n",
    "\n",
    "            \n",
    "        page = 1\n",
    "        boss_page_url = f'https://classic.warcraftlogs.com/zone/rankings/1011{boss_link_dict[boss]}&class=Druid&spec=Restoration&metric=hps'\n",
    "        browser.get(boss_page_url)\n",
    "        time.sleep(2)\n",
    "\n",
    "        \n",
    "        # First check to see if any of the rankings have changed since last scraping and update the excel file\n",
    "        # TODO: This loop opens/closes the excel file each loop (very slow). Update to only open the spreadsheet once\n",
    "        print(\"Checking for rank changes since last scrape...\")\n",
    "        for i in range(1, N_parses):\n",
    "\n",
    "            rank, name, server, region, date, HPS, duration = src.get_boss_data_top_N_scraper(browser, boss, boss_link_dict, i)\n",
    "\n",
    "            rank_changed = src.check_if_rank_changed(boss, rank, name, date)\n",
    "            if rank_changed: \n",
    "                src.update_rank(boss, rank, name, date)\n",
    "\n",
    "            if i % 100 == 0: \n",
    "                page += 1\n",
    "                boss_page_url = f'https://classic.warcraftlogs.com/zone/rankings/1011{boss_link_dict[boss]}&class=Druid&spec=Restoration&metric=hps&page={page}'\n",
    "                browser.get(boss_page_url)\n",
    "                time.sleep(2)    \n",
    "\n",
    "                \n",
    "        print(\"Rank updates complete.\")\n",
    "        print('-----------')\n",
    "        time.sleep(2)\n",
    "\n",
    "        boss_page_url = f'https://classic.warcraftlogs.com/zone/rankings/1011{boss_link_dict[boss]}&class=Druid&spec=Restoration&metric=hps'\n",
    "        browser.get(boss_page_url)\n",
    "        time.sleep(2)\n",
    "        page = 1\n",
    "\n",
    "        \n",
    "        try:\n",
    "            print(\"Beginning data scrape...\")\n",
    "\n",
    "            for i in range(1, N_parses):\n",
    "\n",
    "                rank, name, server, region, date, HPS, duration = src.get_boss_data_top_N_scraper(browser, boss, boss_link_dict, i)\n",
    "\n",
    "                if src.check_if_parse_already_recorded_top_N(boss, rank, name): \n",
    "                    if i % 100 == 0: \n",
    "                        page += 1\n",
    "                        boss_page_url = f'https://classic.warcraftlogs.com/zone/rankings/1011{boss_link_dict[boss]}&class=Druid&spec=Restoration&metric=hps&page={page}'\n",
    "                        browser.get(boss_page_url)\n",
    "                        time.sleep(2) \n",
    "\n",
    "                    continue\n",
    "\n",
    "                print(rank, name, server, region)\n",
    "\n",
    "                link = browser.find_element_by_link_text(name)\n",
    "                link.click()\n",
    "                time.sleep(1)\n",
    "\n",
    "                player_df = pd.DataFrame(pd.np.empty((0, 23)))\n",
    "                player_df.columns = [\"Rank\", \"Name\", \"Server\", \"Date\", \"Duration\", \"nHealers\", \"Spriest?\", \"Innervate?\", \"Bloodlust?\", \"Nature's Grace?\", \"Power Infusion?\", \"LB_uptime\", \"HPS\", \"% LB (tick) HPS\", \"% LB (bloom) HPS\", \"% Rejuv HPS\", \"% Regrowth HPS\", \"% Swiftmend HPS\", \"Rotating on tank?\", \"Rotation 1\", \"% Rotation 1\", \"Rotation 2\", \"% Rotation 2\"]\n",
    "\n",
    "                temp_url = browser.current_url\n",
    "                time.sleep(1)\n",
    "\n",
    "                boss_tanks = src.get_tanks(browser)\n",
    "                nHealers = src.get_nHealers(browser)\n",
    "\n",
    "                print(f\"Tanks: {boss_tanks}\")\n",
    "\n",
    "                browser.get(temp_url)\n",
    "                time.sleep(0.5)\n",
    "\n",
    "                player_link = browser.find_element_by_link_text(name)\n",
    "                player_link.click()\n",
    "                time.sleep(0.5)\n",
    "\n",
    "                # Scrape HPS data\n",
    "                LBtick_HPS, LBbloom_HPS, rejuv_HPS, regrowth_HPS, swiftmend_HPS, LB_uptime = src.get_spell_info(browser, HPS)\n",
    "                time.sleep(2)\n",
    "\n",
    "                # Check for buffs\n",
    "                spriest = src.check_spriest(browser)\n",
    "                innervate, bloodlust, powerInfusion, naturesGrace = src.check_buffs(browser)\n",
    "                time.sleep(0.5)    \n",
    "\n",
    "                # Download the cast-sequence CSV.\n",
    "                src.download_csv(browser, temp_url, \"filter-casts-tab\", path_to_download_dir, \"data/cast_sequence.csv\")\n",
    "                time.sleep(1)\n",
    "\n",
    "                # Clean the csv\n",
    "                df = src.clean_cast_sequence_csv()\n",
    "                df = src.fix_cast_time(df)\n",
    "                time.sleep(0.5)\n",
    "\n",
    "                # Get the rotations\n",
    "                rotation1, rotation1_percent, rotation2, rotation2_percent, rotating_on_tank = src.calculate_rotations(df, boss, boss_tanks, LB_uptime)\n",
    "                print(f'Rotations: {rotation1} ({rotation1_percent}), {rotation2} ({rotation2_percent})')  \n",
    "\n",
    "                # Export data and cleanup\n",
    "                to_append = [rank, name, server + \" \" + region, date, duration, str(nHealers), spriest, innervate, bloodlust, powerInfusion, naturesGrace, LB_uptime, HPS, LBtick_HPS, LBbloom_HPS, rejuv_HPS, regrowth_HPS, swiftmend_HPS, rotating_on_tank, rotation1, rotation1_percent, rotation2, rotation2_percent]\n",
    "                src.export_to_excel(boss, to_append, player_df, name, 'top_N_druids', True)\n",
    "\n",
    "                os.remove(f\"data/{boss.replace(' ', '')}_{name}.csv\")\n",
    "                os.remove(f\"data/cast_sequence.csv\")\n",
    "                os.remove(f\"data/cast_sequence_fixed.csv\")\n",
    "\n",
    "                print('-------')\n",
    "                browser.get(boss_page_url)\n",
    "                time.sleep(1)\n",
    "\n",
    "                if i % 100 == 0: \n",
    "                    page += 1\n",
    "                    boss_page_url = f'https://classic.warcraftlogs.com/zone/rankings/1011{boss_link_dict[boss]}&class=Druid&spec=Restoration&metric=hps&page={page}'\n",
    "                    browser.get(boss_page_url)\n",
    "                    time.sleep(2) \n",
    "\n",
    "\n",
    "            print(f\"{boss} scraping complete.\")\n",
    "            print(\"---------------\")\n",
    "\n",
    "            message = twilioCli.messages.create(body='Data scraping complete!', from_=myTwilioNumber, to=myCellPhone)\n",
    "            break\n",
    "\n",
    "        except:\n",
    "            retry_attempt += 1\n",
    "            time.sleep(10)\n",
    "            if retry_attempt == retry_attempts: \n",
    "                message = twilioCli.messages.create(body='Data scraping crashed', from_=myTwilioNumber, to=myCellPhone)\n",
    "                break\n",
    "                \n",
    "                \n",
    "if __name__ == \"__main__\":\n",
    "    main()"
   ]
  },
  {
   "cell_type": "code",
   "execution_count": null,
   "id": "98e7a301",
   "metadata": {},
   "outputs": [],
   "source": []
  },
  {
   "cell_type": "code",
   "execution_count": null,
   "id": "41474551",
   "metadata": {},
   "outputs": [],
   "source": []
  },
  {
   "cell_type": "code",
   "execution_count": null,
   "id": "2bdec2a6",
   "metadata": {},
   "outputs": [],
   "source": []
  },
  {
   "cell_type": "code",
   "execution_count": null,
   "id": "56818796",
   "metadata": {},
   "outputs": [],
   "source": []
  },
  {
   "cell_type": "code",
   "execution_count": 151,
   "id": "2914cca5",
   "metadata": {},
   "outputs": [],
   "source": [
    "from selenium.webdriver.common.by import By"
   ]
  },
  {
   "cell_type": "code",
   "execution_count": 146,
   "id": "e37caa81",
   "metadata": {},
   "outputs": [],
   "source": [
    "k = 2\n",
    "i = 101\n",
    "boss_page_url = f'https://classic.warcraftlogs.com/zone/rankings/1011{boss_link_dict[boss]}&class=Druid&spec=Restoration&metric=hps&page={k}'"
   ]
  },
  {
   "cell_type": "code",
   "execution_count": 141,
   "id": "aeab03c8",
   "metadata": {},
   "outputs": [],
   "source": [
    "browser.get(boss_page_url)"
   ]
  },
  {
   "cell_type": "code",
   "execution_count": 147,
   "id": "5795d87d",
   "metadata": {},
   "outputs": [],
   "source": [
    "row = browser.find_elements_by_id(f\"row-{boss_link_dict[boss].split('=')[1]}-{i}\")"
   ]
  },
  {
   "cell_type": "code",
   "execution_count": 153,
   "id": "c74dd0a9",
   "metadata": {},
   "outputs": [],
   "source": [
    "cell = row[0].find_elements(By.XPATH, 'td')"
   ]
  },
  {
   "cell_type": "code",
   "execution_count": 155,
   "id": "35877968",
   "metadata": {},
   "outputs": [
    {
     "data": {
      "text/plain": [
       "'村口赵奕欢'"
      ]
     },
     "execution_count": 155,
     "metadata": {},
     "output_type": "execute_result"
    }
   ],
   "source": [
    "cell[1].text"
   ]
  },
  {
   "cell_type": "code",
   "execution_count": null,
   "id": "23de6c36",
   "metadata": {},
   "outputs": [],
   "source": []
  }
 ],
 "metadata": {
  "kernelspec": {
   "display_name": "Python 3 (ipykernel)",
   "language": "python",
   "name": "python3"
  },
  "language_info": {
   "codemirror_mode": {
    "name": "ipython",
    "version": 3
   },
   "file_extension": ".py",
   "mimetype": "text/x-python",
   "name": "python",
   "nbconvert_exporter": "python",
   "pygments_lexer": "ipython3",
   "version": "3.9.5"
  }
 },
 "nbformat": 4,
 "nbformat_minor": 5
}
