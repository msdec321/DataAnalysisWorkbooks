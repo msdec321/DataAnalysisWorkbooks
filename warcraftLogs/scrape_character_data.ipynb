{
 "cells": [
  {
   "cell_type": "markdown",
   "id": "2c83639c",
   "metadata": {},
   "source": [
    "## Import packages"
   ]
  },
  {
   "cell_type": "code",
   "execution_count": 1,
   "id": "344882c3",
   "metadata": {},
   "outputs": [
    {
     "data": {
      "text/plain": [
       "<module 'Helpers' from 'C:\\\\Users\\\\Matth\\\\git\\\\DataAnalysisWorkbooks\\\\warcraftLogs\\\\Helpers.py'>"
      ]
     },
     "execution_count": 1,
     "metadata": {},
     "output_type": "execute_result"
    }
   ],
   "source": [
    "import selenium\n",
    "from selenium import webdriver\n",
    "\n",
    "import shutil, time\n",
    "import pandas as pd\n",
    "import warnings\n",
    "warnings.filterwarnings('ignore')\n",
    "\n",
    "from importlib import reload\n",
    "\n",
    "import Helpers\n",
    "reload(Helpers)"
   ]
  },
  {
   "cell_type": "markdown",
   "id": "5471c0b8",
   "metadata": {},
   "source": [
    "## Configurations"
   ]
  },
  {
   "cell_type": "code",
   "execution_count": 2,
   "id": "4f7f63dc",
   "metadata": {},
   "outputs": [],
   "source": [
    "path_to_extension = r'C:\\Users\\Matth\\Desktop\\3.12_0'\n",
    "character_name = \"Mercychan\"\n",
    "character_server = \"Benediction\"\n",
    "character_region = \"US\""
   ]
  },
  {
   "cell_type": "code",
   "execution_count": null,
   "id": "ed3c3c9c",
   "metadata": {},
   "outputs": [],
   "source": []
  },
  {
   "cell_type": "markdown",
   "id": "cf698446",
   "metadata": {},
   "source": [
    "## Navigate to character page"
   ]
  },
  {
   "cell_type": "code",
   "execution_count": 3,
   "id": "8979eed0",
   "metadata": {
    "scrolled": true
   },
   "outputs": [],
   "source": [
    "char_url, browser = Helpers.load_environment(path_to_extension, character_name, character_server, character_region)"
   ]
  },
  {
   "cell_type": "code",
   "execution_count": null,
   "id": "3da3146d",
   "metadata": {},
   "outputs": [],
   "source": []
  },
  {
   "cell_type": "code",
   "execution_count": 4,
   "id": "30272aab",
   "metadata": {},
   "outputs": [
    {
     "data": {
      "text/plain": [
       "[\"High Warlord Naj'entus\",\n",
       " 'Supremus',\n",
       " 'Shade of Akama',\n",
       " 'Teron Gorefiend',\n",
       " 'Gurtogg Bloodboil',\n",
       " 'Reliquary of Souls',\n",
       " 'Mother Shahraz',\n",
       " 'The Illidari Council',\n",
       " 'Illidan Stormrage',\n",
       " 'Rage Winterchill',\n",
       " 'Anetheron',\n",
       " \"Kaz'rogal\",\n",
       " 'Azgalor',\n",
       " 'Archimonde']"
      ]
     },
     "execution_count": 4,
     "metadata": {},
     "output_type": "execute_result"
    }
   ],
   "source": [
    "bosses = Helpers.get_phase3_bosses(browser)\n",
    "bosses"
   ]
  },
  {
   "cell_type": "code",
   "execution_count": 86,
   "id": "4f1716d8",
   "metadata": {},
   "outputs": [
    {
     "data": {
      "text/plain": [
       "'Mercychan (Benediction US)'"
      ]
     },
     "execution_count": 86,
     "metadata": {},
     "output_type": "execute_result"
    }
   ],
   "source": [
    "char_info = Helpers.get_character_info(char_url)\n",
    "char_info"
   ]
  },
  {
   "cell_type": "code",
   "execution_count": null,
   "id": "c6a9e76d",
   "metadata": {},
   "outputs": [],
   "source": []
  },
  {
   "cell_type": "markdown",
   "id": "53d956f4",
   "metadata": {},
   "source": [
    "## Main code loop"
   ]
  },
  {
   "cell_type": "code",
   "execution_count": 97,
   "id": "1e8879b7",
   "metadata": {},
   "outputs": [],
   "source": [
    "# Working bosses: Najentus, \n",
    "bosses = [\"Reliquary of Souls\"]\n",
    "nTanks = 1"
   ]
  },
  {
   "cell_type": "code",
   "execution_count": 99,
   "id": "b50b49a8",
   "metadata": {},
   "outputs": [
    {
     "name": "stdout",
     "output_type": "stream",
     "text": [
      "Boss: Reliquary of Souls\n",
      "Main tank: Cmbreen\n",
      "          Spell  Amount Casts Avg Cast Hits Avg Hit Crit % Uptime % Overheal  \\\n",
      "0     Lifebloom  311.3k   107     2.9k  618   503.7      -   73.22%   64.64%   \n",
      "1     Lifebloom     0.0     -        -   11     0.0   9.1%        -  100.00%   \n",
      "2  Rejuvenation   11.2k     9     1.2k   19   587.8      -   18.70%   50.28%   \n",
      "3      Regrowth   24.7k    21     1.1k   21    1.1k  71.4%   32.53%   70.54%   \n",
      "4     Swiftmend   10.9k     4     2.7k    4    2.7k      -        -   44.44%   \n",
      "\n",
      "     HPS  \n",
      "0  888.5  \n",
      "1    0.0  \n",
      "2   31.9  \n",
      "3   70.5  \n",
      "4   31.0  \n",
      "[['LB 2I', 1.0]]\n"
     ]
    }
   ],
   "source": [
    "def main():\n",
    "    table_dict = {\"Spell\" : \"-\", \"Amount\" : \"-\", \"Casts\" : \"-\", \"Avg Cast\" : \"-\", \"Hits\" : \"-\", \"Avg Hit\" : \"-\", \"Crit %\" : \"-\", \"Uptime %\" : \"-\", \"Overheal\" : \"-\", \"HPS\" : \"-\"}\n",
    "\n",
    "    player_df = pd.DataFrame(pd.np.empty((0, 5)))\n",
    "    player_df.columns = [\"Boss name\", \"Character name\", \"Character server\", \"HPS\", \"Rotations\"]\n",
    "\n",
    "    for i, boss in enumerate(bosses):\n",
    "\n",
    "        Helpers.scroll_click(browser.find_element_by_link_text(boss))\n",
    "        time.sleep(1)\n",
    "\n",
    "        # Pick out the top parse of this boss\n",
    "        search = browser.find_elements_by_class_name(\"character-table-link\")\n",
    "        Helpers.scroll_click(browser.find_element_by_link_text(search[0].text))\n",
    "        time.sleep(2)\n",
    "\n",
    "        player_HPS = Helpers.get_player_HPS(browser, character_name)\n",
    "        \n",
    "        if i == 0:\n",
    "            all_tanks = Helpers.get_tanks(browser) # Returns the 3 tank names\n",
    "            \n",
    "        boss_tanks = Helpers.get_boss_tanks(boss, browser, nTanks) \n",
    "        \n",
    "        if boss in [\"High Warlord Naj'entus\", \"Teron Gorefiend\", \"Mother Shahraz\", \"Gurtogg Bloodboil\", \"Reliquary of Souls\"]:\n",
    "            MT = boss_tanks[0]\n",
    "            \n",
    "        elif boss in [\"Shade of Akama\", \"Illidan Stormrage\"]:\n",
    "            MT = boss_tanks[1]\n",
    "\n",
    "        Helpers.scroll_click(browser.find_element_by_link_text(character_name))\n",
    "        time.sleep(2)\n",
    "        \n",
    "        print(f\"Boss: {boss}\")\n",
    "        print(f\"Main tank: {MT}\")\n",
    "        table_dict = Helpers.get_spell_info(browser, table_dict)\n",
    "        time.sleep(3)\n",
    "        \n",
    "        #----------------------------------\n",
    "\n",
    "        Helpers.download_cast_sequence(browser)\n",
    "        time.sleep(3)\n",
    "        shutil.move(\"C:/Users/Matth/Downloads/Warcraft Logs - Combat Analysis for Warcraft.csv\", \"C:/Users/Matth/git/DataAnalysisWorkbooks/warcraftLogs/cast_sequence/casts.csv\")\n",
    "\n",
    "        # Clean the csv\n",
    "        df = Helpers.clean_csv()\n",
    "\n",
    "        # Fix regrowth timer\n",
    "        df = Helpers.fix_regrowth_cast_time(df)\n",
    "\n",
    "        # Get the rotations\n",
    "        rotations = Helpers.calculate_rotations(df, MT)\n",
    "        print(rotations)\n",
    "\n",
    "        # Save data to csv\n",
    "        to_append = [boss, character_name, character_server + \" \" + character_region, player_HPS, rotations]\n",
    "        series = pd.Series(to_append, index = player_df.columns)\n",
    "        player_df = player_df.append(series, ignore_index=True)\n",
    "\n",
    "        # Return to character page\n",
    "        browser.get(char_url)\n",
    "        time.sleep(1)\n",
    "\n",
    "    player_df.to_csv(f\"{character_name}.csv\", index=None)\n",
    "\n",
    "\n",
    "if __name__ == \"__main__\":\n",
    "    main()"
   ]
  },
  {
   "cell_type": "code",
   "execution_count": null,
   "id": "7960c8f4",
   "metadata": {},
   "outputs": [],
   "source": []
  },
  {
   "cell_type": "code",
   "execution_count": null,
   "id": "891b6fb0",
   "metadata": {},
   "outputs": [],
   "source": []
  }
 ],
 "metadata": {
  "kernelspec": {
   "display_name": "Python 3 (ipykernel)",
   "language": "python",
   "name": "python3"
  },
  "language_info": {
   "codemirror_mode": {
    "name": "ipython",
    "version": 3
   },
   "file_extension": ".py",
   "mimetype": "text/x-python",
   "name": "python",
   "nbconvert_exporter": "python",
   "pygments_lexer": "ipython3",
   "version": "3.9.7"
  }
 },
 "nbformat": 4,
 "nbformat_minor": 5
}
