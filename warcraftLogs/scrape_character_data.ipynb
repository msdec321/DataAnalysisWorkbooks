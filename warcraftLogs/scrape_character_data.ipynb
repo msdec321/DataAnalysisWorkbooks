{
 "cells": [
  {
   "cell_type": "markdown",
   "id": "2c83639c",
   "metadata": {},
   "source": [
    "## Import packages"
   ]
  },
  {
   "cell_type": "code",
   "execution_count": 11,
   "id": "344882c3",
   "metadata": {},
   "outputs": [
    {
     "data": {
      "text/plain": [
       "<module 'src' from 'C:\\\\Users\\\\Matth\\\\git\\\\DataAnalysisWorkbooks\\\\warcraftLogs\\\\src.py'>"
      ]
     },
     "execution_count": 11,
     "metadata": {},
     "output_type": "execute_result"
    }
   ],
   "source": [
    "import selenium\n",
    "from selenium import webdriver\n",
    "\n",
    "import shutil, time, os\n",
    "import pandas as pd\n",
    "import warnings\n",
    "warnings.filterwarnings('ignore')\n",
    "\n",
    "from importlib import reload\n",
    "\n",
    "import src\n",
    "reload(src)"
   ]
  },
  {
   "cell_type": "markdown",
   "id": "5471c0b8",
   "metadata": {},
   "source": [
    "## Configurations"
   ]
  },
  {
   "cell_type": "code",
   "execution_count": 2,
   "id": "4f7f63dc",
   "metadata": {},
   "outputs": [],
   "source": [
    "# Set path variables\n",
    "path_to_adblocker = r\"C:\\Users\\Matth\\Desktop\\3.12_0\"\n",
    "path_to_download_dir = r\"C:\\Users\\Matth\\Downloads\""
   ]
  },
  {
   "cell_type": "code",
   "execution_count": 3,
   "id": "ed3c3c9c",
   "metadata": {},
   "outputs": [],
   "source": [
    "# Set character info\n",
    "character_name = \"Leafgirl\"\n",
    "character_server = \"Benediction\"\n",
    "character_region = \"US\""
   ]
  },
  {
   "cell_type": "code",
   "execution_count": null,
   "id": "32dc09c4",
   "metadata": {},
   "outputs": [],
   "source": []
  },
  {
   "cell_type": "markdown",
   "id": "cf698446",
   "metadata": {},
   "source": [
    "## Navigate to character page"
   ]
  },
  {
   "cell_type": "code",
   "execution_count": 4,
   "id": "8979eed0",
   "metadata": {
    "scrolled": true
   },
   "outputs": [],
   "source": [
    "char_url, browser = src.load_environment(path_to_adblocker, character_name, character_server, character_region)"
   ]
  },
  {
   "cell_type": "code",
   "execution_count": 15,
   "id": "30272aab",
   "metadata": {},
   "outputs": [
    {
     "data": {
      "text/plain": [
       "[\"High Warlord Naj'entus\",\n",
       " 'Supremus',\n",
       " 'Shade of Akama',\n",
       " 'Teron Gorefiend',\n",
       " 'Gurtogg Bloodboil',\n",
       " 'Reliquary of Souls',\n",
       " 'Mother Shahraz',\n",
       " 'The Illidari Council',\n",
       " 'Illidan Stormrage',\n",
       " 'Rage Winterchill',\n",
       " 'Anetheron',\n",
       " \"Kaz'rogal\",\n",
       " 'Azgalor',\n",
       " 'Archimonde']"
      ]
     },
     "execution_count": 15,
     "metadata": {},
     "output_type": "execute_result"
    }
   ],
   "source": [
    "bosses = src.get_t6_bosses(browser)\n",
    "bosses"
   ]
  },
  {
   "cell_type": "code",
   "execution_count": 10,
   "id": "cf3badf1",
   "metadata": {},
   "outputs": [],
   "source": [
    "# Alternatively specify specific bosses\n",
    "bosses = [\"Teron Gorefiend\"]"
   ]
  },
  {
   "cell_type": "code",
   "execution_count": 6,
   "id": "26edb3ee",
   "metadata": {},
   "outputs": [],
   "source": [
    "# Dictionary for browser to navigate to boss page URLs\n",
    "boss_link_dict = {\"High Warlord Naj'entus\" : \"#boss=601\", \"Supremus\" : \"#boss=602\", \"Shade of Akama\" : \"#boss=603\", \n",
    "                  \"Teron Gorefiend\" : \"#boss=604\", \"Gurtogg Bloodboil\" : \"#boss=605\", \"Reliquary of Souls\" : \"#boss=606\", \n",
    "                  \"Mother Shahraz\" : \"#boss=607\", \"The Illidari Council\" : \"#boss=608\", \"Illidan Stormrage\" : \"#boss=609\", \n",
    "                  \"Rage Winterchill\" : \"#boss=618\", \"Anetheron\" : \"#boss=619\", \"Kaz'rogal\" : \"#boss=620\", \n",
    "                  \"Azgalor\" : \"#boss=621\", \"Archimonde\" : \"#boss=622\"}"
   ]
  },
  {
   "cell_type": "code",
   "execution_count": null,
   "id": "2c52ee16",
   "metadata": {},
   "outputs": [],
   "source": []
  },
  {
   "cell_type": "markdown",
   "id": "53d956f4",
   "metadata": {},
   "source": [
    "## Main code loop"
   ]
  },
  {
   "cell_type": "code",
   "execution_count": null,
   "id": "b50b49a8",
   "metadata": {
    "scrolled": false
   },
   "outputs": [
    {
     "name": "stdout",
     "output_type": "stream",
     "text": [
      "Boss: Teron Gorefiend\n",
      "Parse already recorded. Skipping\n",
      "Parse already recorded. Skipping\n",
      "Tanks: ['Rhynowiggle', 'Kimbyx']\n"
     ]
    }
   ],
   "source": [
    "def main():\n",
    "    \n",
    "    for boss in bosses:\n",
    "        \n",
    "        browser.get(f\"https://classic.warcraftlogs.com/character/{character_region.lower()}/{character_server.lower()}/{character_name.lower()}{boss_link_dict[boss]}\")\n",
    "        time.sleep(1)\n",
    "\n",
    "        # Pick out the top parse of this boss\n",
    "        search = browser.find_elements_by_class_name(\"character-table-link\")\n",
    "        boss_page_url = browser.current_url\n",
    "        \n",
    "        print(f\"Boss: {boss}\")\n",
    "        \n",
    "        #for i in range(len(search)):\n",
    "        for i in range(3):\n",
    "            \n",
    "            player_df = pd.DataFrame(pd.np.empty((0, 16)))\n",
    "            player_df.columns = [\"Name\", \"Server\", \"Date\", \"Kill time\", \"Rank\", \"nHealers\", \"Spriest?\", \"Innervate?\", \"LB_uptime\", \"HPS\", \"% LB (tick) HPS\", \"% LB (bloom) HPS\", \"% Rejuv HPS\", \"% Regrowth HPS\", \"% Swiftmend HPS\", \"Rotations\"]\n",
    "                        \n",
    "            try:\n",
    "                rank, date, boss_rank, boss_HPS, boss_killtime, HPS_link = src.get_boss_data(browser, i)\n",
    "                \n",
    "            except IndexError: \n",
    "                continue\n",
    "                \n",
    "            search = browser.find_elements_by_class_name(\"character-table-link\")\n",
    "                \n",
    "            if src.check_if_parse_already_recorded(i, browser, search, boss, character_name, character_server, character_region): \n",
    "                print(\"Parse already recorded. Skipping\")\n",
    "                browser.get(boss_page_url)\n",
    "                continue\n",
    "            \n",
    "            HPS_link.click()\n",
    "            time.sleep(2)\n",
    "            \n",
    "            temp_url = browser.current_url\n",
    "                        \n",
    "            boss_tanks = src.get_tanks(browser)\n",
    "            nHealers = src.get_nHealers(browser)\n",
    "            \n",
    "            print(f\"Tanks: {boss_tanks}\")\n",
    "\n",
    "            browser.get(temp_url)\n",
    "            time.sleep(0.5)\n",
    "\n",
    "            player_link = browser.find_element_by_link_text(character_name)\n",
    "            player_link.click()\n",
    "            time.sleep(0.5)\n",
    "            \n",
    "            # Scrape spell HPS\n",
    "            LBtick_HPS, LBbloom_HPS, rejuv_HPS, regrowth_HPS, swiftmend_HPS, LB_uptime = src.get_spell_info(browser, boss_HPS)\n",
    "            time.sleep(2)\n",
    "                \n",
    "            # Scrape mana sources\n",
    "            spriest = src.check_spriest(browser)\n",
    "            innervate = src.check_innervate(browser)\n",
    "\n",
    "            # Download the cast-sequence CSV.\n",
    "            src.download_csv(browser, temp_url, \"filter-casts-tab\", path_to_download_dir, \"character_data/cast_sequence.csv\")\n",
    "            time.sleep(1)\n",
    "\n",
    "            # Clean the csv\n",
    "            df = src.clean_cast_sequence_csv()\n",
    "            df = src.fix_cast_time(df)\n",
    "            time.sleep(0.5)\n",
    "\n",
    "            # Get the rotations\n",
    "            rotations = src.calculate_rotations(df, boss, boss_tanks)\n",
    "            print(f'Rotations: {rotations}')    \n",
    "\n",
    "            # Add data to pandas dataframe\n",
    "            to_append = [character_name, character_server + \" \" + character_region, date, boss_killtime, boss_rank, str(nHealers), spriest, innervate, LB_uptime, boss_HPS, LBtick_HPS, LBbloom_HPS, rejuv_HPS, regrowth_HPS, swiftmend_HPS, rotations]\n",
    "            src.export_to_excel(boss, to_append, player_df, character_name)\n",
    "            \n",
    "            os.remove(f\"character_data/{boss.replace(' ', '')}_{character_name}.csv\")\n",
    "            \n",
    "            #Return to boss page\n",
    "            browser.get(boss_page_url)\n",
    "            time.sleep(1)  # Cannot be < 1s\n",
    "            print('------')\n",
    "\n",
    "        print(f\"{boss} scraping complete.\")\n",
    "        print(\"---------------\")\n",
    "        \n",
    "     # Return to character page\n",
    "    browser.get(char_url)\n",
    "    \n",
    "\n",
    "if __name__ == \"__main__\":\n",
    "    main()"
   ]
  },
  {
   "cell_type": "code",
   "execution_count": null,
   "id": "a794f872",
   "metadata": {},
   "outputs": [],
   "source": []
  },
  {
   "cell_type": "code",
   "execution_count": null,
   "id": "14f1dfb7",
   "metadata": {},
   "outputs": [],
   "source": []
  }
 ],
 "metadata": {
  "kernelspec": {
   "display_name": "Python 3 (ipykernel)",
   "language": "python",
   "name": "python3"
  },
  "language_info": {
   "codemirror_mode": {
    "name": "ipython",
    "version": 3
   },
   "file_extension": ".py",
   "mimetype": "text/x-python",
   "name": "python",
   "nbconvert_exporter": "python",
   "pygments_lexer": "ipython3",
   "version": "3.9.7"
  }
 },
 "nbformat": 4,
 "nbformat_minor": 5
}
