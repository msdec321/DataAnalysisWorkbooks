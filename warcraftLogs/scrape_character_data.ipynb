{
 "cells": [
  {
   "cell_type": "markdown",
   "id": "2c83639c",
   "metadata": {},
   "source": [
    "## Import packages"
   ]
  },
  {
   "cell_type": "code",
   "execution_count": 1,
   "id": "344882c3",
   "metadata": {},
   "outputs": [
    {
     "data": {
      "text/plain": [
       "<module 'src' from 'C:\\\\Users\\\\Matth\\\\git\\\\DataAnalysisWorkbooks\\\\warcraftLogs\\\\src.py'>"
      ]
     },
     "execution_count": 1,
     "metadata": {},
     "output_type": "execute_result"
    }
   ],
   "source": [
    "import selenium\n",
    "from selenium import webdriver\n",
    "\n",
    "import shutil, time, os\n",
    "import pandas as pd\n",
    "import warnings\n",
    "warnings.filterwarnings('ignore')\n",
    "\n",
    "from importlib import reload\n",
    "\n",
    "import src\n",
    "reload(src)"
   ]
  },
  {
   "cell_type": "markdown",
   "id": "5471c0b8",
   "metadata": {},
   "source": [
    "## Configurations"
   ]
  },
  {
   "cell_type": "code",
   "execution_count": 2,
   "id": "4f7f63dc",
   "metadata": {},
   "outputs": [],
   "source": [
    "path_to_extension = r'C:\\Users\\Matth\\Desktop\\3.12_0'\n",
    "character_name = \"Mercychan\"\n",
    "character_server = \"Benediction\"\n",
    "character_region = \"US\"\n",
    "\n",
    "clear_char_data = False"
   ]
  },
  {
   "cell_type": "code",
   "execution_count": null,
   "id": "ed3c3c9c",
   "metadata": {},
   "outputs": [],
   "source": []
  },
  {
   "cell_type": "markdown",
   "id": "cf698446",
   "metadata": {},
   "source": [
    "## Navigate to character page"
   ]
  },
  {
   "cell_type": "code",
   "execution_count": 12,
   "id": "8979eed0",
   "metadata": {
    "scrolled": true
   },
   "outputs": [],
   "source": [
    "char_url, browser = src.load_environment(path_to_extension, character_name, character_server, character_region)"
   ]
  },
  {
   "cell_type": "code",
   "execution_count": 57,
   "id": "30272aab",
   "metadata": {},
   "outputs": [
    {
     "data": {
      "text/plain": [
       "[\"High Warlord Naj'entus\",\n",
       " 'Supremus',\n",
       " 'Shade of Akama',\n",
       " 'Teron Gorefiend',\n",
       " 'Gurtogg Bloodboil',\n",
       " 'Reliquary of Souls',\n",
       " 'Mother Shahraz',\n",
       " 'The Illidari Council',\n",
       " 'Illidan Stormrage',\n",
       " 'Rage Winterchill',\n",
       " 'Anetheron',\n",
       " \"Kaz'rogal\",\n",
       " 'Azgalor',\n",
       " 'Archimonde']"
      ]
     },
     "execution_count": 57,
     "metadata": {},
     "output_type": "execute_result"
    }
   ],
   "source": [
    "bosses = src.get_t6_bosses(browser)\n",
    "bosses"
   ]
  },
  {
   "cell_type": "code",
   "execution_count": 8,
   "id": "cf3badf1",
   "metadata": {},
   "outputs": [],
   "source": [
    "# Feel free to omit bosses that you are not interested in\n",
    "bosses = [\"Teron Gorefiend\"]"
   ]
  },
  {
   "cell_type": "code",
   "execution_count": 5,
   "id": "26edb3ee",
   "metadata": {},
   "outputs": [],
   "source": [
    "boss_link_dict = {\"High Warlord Naj'entus\" : \"#boss=601\", \"Supremus\" : \"#boss=602\", \"Shade of Akama\" : \"#boss=603\", \n",
    "                  \"Teron Gorefiend\" : \"#boss=604\", \"Gurtogg Bloodboil\" : \"#boss=605\", \"Reliquary of Souls\" : \"#boss=606\", \n",
    "                  \"Mother Shahraz\" : \"#boss=607\", \"The Illidari Council\" : \"#boss=608\", \"Illidan Stormrage\" : \"#boss=609\", \n",
    "                  \"Rage Winterchill\" : \"#boss=618\", \"Anetheron\" : \"#boss=619\", \"Kaz'rogal\" : \"#boss=620\", \n",
    "                  \"Azgalor\" : \"#boss=621\", \"Archimonde\" : \"#boss=622\"}"
   ]
  },
  {
   "cell_type": "code",
   "execution_count": 10,
   "id": "4f1716d8",
   "metadata": {},
   "outputs": [
    {
     "data": {
      "text/plain": [
       "'Mercychan (Benediction US)'"
      ]
     },
     "execution_count": 10,
     "metadata": {},
     "output_type": "execute_result"
    }
   ],
   "source": [
    "char_info = src.get_character_info(char_url)\n",
    "char_info"
   ]
  },
  {
   "cell_type": "code",
   "execution_count": null,
   "id": "2c52ee16",
   "metadata": {},
   "outputs": [],
   "source": []
  },
  {
   "cell_type": "markdown",
   "id": "53d956f4",
   "metadata": {},
   "source": [
    "## Main code loop"
   ]
  },
  {
   "cell_type": "code",
   "execution_count": 18,
   "id": "b50b49a8",
   "metadata": {
    "scrolled": false
   },
   "outputs": [
    {
     "name": "stdout",
     "output_type": "stream",
     "text": [
      "Boss: Teron Gorefiend\n",
      "<selenium.webdriver.remote.webelement.WebElement (session=\"53dbc00f08dc900653d73c56a36349d2\", element=\"3ede5b96-9318-47ec-bbee-89aa9a4ed63e\")> Mar 4 2022 78 850.5 2:32 <selenium.webdriver.remote.webelement.WebElement (session=\"53dbc00f08dc900653d73c56a36349d2\", element=\"cf22bfb2-3261-44dd-bfb8-bc78425cbb94\")>\n",
      "0\n",
      "Parse already recorded. Skipping\n",
      "<selenium.webdriver.remote.webelement.WebElement (session=\"53dbc00f08dc900653d73c56a36349d2\", element=\"13d8d4ff-460a-4ad3-8f66-a533e26fced1\")> Feb 18 2022 57 684.2 2:37 <selenium.webdriver.remote.webelement.WebElement (session=\"53dbc00f08dc900653d73c56a36349d2\", element=\"2be5ae55-8d4b-48cd-a0f4-6feeea677b8a\")>\n",
      "1\n",
      "Parse already recorded. Skipping\n",
      "<selenium.webdriver.remote.webelement.WebElement (session=\"53dbc00f08dc900653d73c56a36349d2\", element=\"803b20e0-0318-48ed-8599-97a9a9cc60f2\")> Mar 25 2022 23 601.1 2:11 <selenium.webdriver.remote.webelement.WebElement (session=\"53dbc00f08dc900653d73c56a36349d2\", element=\"4487f204-85ab-4c95-9c4b-cc47a2fd33a0\")>\n",
      "2\n",
      "Parse already recorded. Skipping\n",
      "<selenium.webdriver.remote.webelement.WebElement (session=\"53dbc00f08dc900653d73c56a36349d2\", element=\"bcce715c-e113-4e5e-968f-ee1abcbfee58\")> Feb 25 2022 23 536.5 2:49 <selenium.webdriver.remote.webelement.WebElement (session=\"53dbc00f08dc900653d73c56a36349d2\", element=\"81e4a842-6f70-42f2-adda-81786355c32e\")>\n",
      "3\n",
      "Tanks: ['Hilfedanke', 'Formulatank']\n",
      "Rotations: [['1LB 1I 2RG', 0.48], ['1LB 2I 1RG', 0.16]]\n",
      "------\n",
      "Teron Gorefiend scraping complete.\n",
      "---------------\n"
     ]
    }
   ],
   "source": [
    "def main():\n",
    "    if clear_char_data:\n",
    "        src.clear_character_data()\n",
    "    \n",
    "    for i, boss in enumerate(bosses):\n",
    "        \n",
    "        browser.get(f\"https://classic.warcraftlogs.com/character/{character_region.lower()}/{character_server.lower()}/{character_name.lower()}{boss_link_dict[boss]}\")\n",
    "        time.sleep(1)\n",
    "\n",
    "        # Pick out the top parse of this boss\n",
    "        search = browser.find_elements_by_class_name(\"character-table-link\")\n",
    "        boss_page_url = browser.current_url\n",
    "        \n",
    "        print(f\"Boss: {boss}\")\n",
    "        \n",
    "        #for i in range(len(search)):\n",
    "        for i in range(4):\n",
    "            \n",
    "            player_df = pd.DataFrame(pd.np.empty((0, 16)))\n",
    "            player_df.columns = [\"Name\", \"Server\", \"Date\", \"Kill time\", \"Rank\", \"nHealers\", \"Spriest?\", \"Innervate?\", \"LB_uptime\", \"HPS\", \"% LB (tick) HPS\", \"% LB (bloom) HPS\", \"% Rejuv HPS\", \"% Regrowth HPS\", \"% Swiftmend HPS\", \"Rotations\"]\n",
    "                        \n",
    "            try:\n",
    "                rank, date, boss_rank, boss_HPS, boss_killtime, HPS_link = src.get_boss_data(browser, i)\n",
    "                \n",
    "            except IndexError: \n",
    "                continue\n",
    "                \n",
    "            search = browser.find_elements_by_class_name(\"character-table-link\")\n",
    "                \n",
    "            if src.check_if_parse_already_recorded(i, browser, search, boss, character_name, character_server, character_region): \n",
    "                print(\"Parse already recorded. Skipping\")\n",
    "                browser.get(boss_page_url)\n",
    "                continue\n",
    "            \n",
    "            HPS_link.click()\n",
    "            time.sleep(2)\n",
    "            \n",
    "            temp_url = browser.current_url\n",
    "                        \n",
    "            boss_tanks = src.get_tanks(browser)\n",
    "            nHealers = src.get_nHealers(browser)\n",
    "            \n",
    "            print(f\"Tanks: {boss_tanks}\")\n",
    "\n",
    "            browser.get(temp_url)\n",
    "            time.sleep(0.5)\n",
    "\n",
    "            #src.scroll_click(browser.find_element_by_link_text(character_name))\n",
    "            c = browser.find_element_by_link_text(character_name)\n",
    "            c.click()\n",
    "            time.sleep(0.5)\n",
    "            \n",
    "            LBtick_HPS, LBbloom_HPS, rejuv_HPS, regrowth_HPS, swiftmend_HPS, LB_uptime = src.get_spell_info(browser, boss_HPS)\n",
    "            time.sleep(2)\n",
    "                \n",
    "            spriest = src.check_spriest(browser)\n",
    "            innervate = src.check_innervate(browser)\n",
    "\n",
    "            # Download the cast-sequence and damage-taken CSVs.\n",
    "            src.download_csv(browser, temp_url, \"filter-casts-tab\", \"cast_sequence/casts.csv\")\n",
    "            src.download_csv(browser, temp_url, \"filter-damage-taken-tab\", \"damage_taken/dmg_taken.csv\")\n",
    "\n",
    "            #nHealers = src.get_nHealers(browser)\n",
    "            browser.get(temp_url)\n",
    "            time.sleep(1)\n",
    "\n",
    "            # For most single tank bosses, the main tank is the current boss' melee target\n",
    "            if boss in [\"Rage Winterchill\", \"Kaz'rogal\", \"Archimonde\", \"High Warlord Naj'entus\", \"Supremus\", \n",
    "                        \"Teron Gorefiend\", \"Gurtogg Bloodboil\", \"Mother Shahraz\"]:\n",
    "\n",
    "                # Clean the csvs\n",
    "                df = src.clean_dmg_taken_csv(boss)\n",
    "                df2 = src.clean_cast_sequence_csv()\n",
    "\n",
    "                # Fix regrowth timer\n",
    "                df2 = src.fix_cast_time(df2)\n",
    "\n",
    "                # Add boss target\n",
    "                df = src.add_boss_target(boss, df, df2)\n",
    "                df = src.fix_boss_target(df)\n",
    "\n",
    "                # Get the rotations\n",
    "                rotations = src.calculate_rotations(df, boss, boss_tanks)\n",
    "\n",
    "\n",
    "            else:\n",
    "                # Clean the csv\n",
    "                df = src.clean_cast_sequence_csv()\n",
    "                df = src.fix_cast_time(df)\n",
    "\n",
    "                # Get the rotations\n",
    "                rotations = src.calculate_rotations(df, boss, boss_tanks)\n",
    "                \n",
    "                \n",
    "            print(f'Rotations: {rotations}')    \n",
    "\n",
    "            # Add data to pandas dataframe\n",
    "            to_append = [character_name, character_server + \" \" + character_region, date, boss_killtime, boss_rank, str(nHealers), spriest, innervate, LB_uptime, boss_HPS, LBtick_HPS, LBbloom_HPS, rejuv_HPS, regrowth_HPS, swiftmend_HPS, rotations]\n",
    "            series = pd.Series(to_append, index = player_df.columns)\n",
    "            player_df = player_df.append(series, ignore_index=True)\n",
    "            \n",
    "            # Export scraped data to csv and add it to the excel spreadsheet\n",
    "            player_df.to_csv(f\"character_data/{boss.replace(' ', '')}_{character_name}.csv\", index=None)\n",
    "            \n",
    "            src.combine_character_data(character_name, character_server, character_region, date, boss_rank, boss)\n",
    "            src.add_row_to_xlsx(boss, character_name)\n",
    "            src.sort_excel(boss)\n",
    "            \n",
    "            os.remove(f\"character_data/{boss.replace(' ', '')}_{character_name}.csv\")\n",
    "            \n",
    "            #Return to boss page\n",
    "            browser.get(boss_page_url)\n",
    "            time.sleep(0.5)\n",
    "            print('------')\n",
    "                \n",
    "                \n",
    "        # Return to character page\n",
    "        browser.get(char_url)\n",
    "        time.sleep(0.5)\n",
    "\n",
    "        print(f\"{boss} scraping complete.\")\n",
    "        print(\"---------------\")\n",
    "    \n",
    "\n",
    "if __name__ == \"__main__\":\n",
    "    main()"
   ]
  },
  {
   "cell_type": "code",
   "execution_count": null,
   "id": "a794f872",
   "metadata": {},
   "outputs": [],
   "source": []
  },
  {
   "cell_type": "code",
   "execution_count": null,
   "id": "b5272aa9",
   "metadata": {},
   "outputs": [],
   "source": []
  },
  {
   "cell_type": "code",
   "execution_count": 10,
   "id": "dad017dc",
   "metadata": {},
   "outputs": [],
   "source": [
    "src.scroll_click(browser.find_element_by_link_text(character_name))"
   ]
  },
  {
   "cell_type": "code",
   "execution_count": 14,
   "id": "5ca48f61",
   "metadata": {},
   "outputs": [],
   "source": [
    "a = browser.find_element_by_link_text(character_name)"
   ]
  },
  {
   "cell_type": "code",
   "execution_count": 15,
   "id": "0e5c433f",
   "metadata": {},
   "outputs": [],
   "source": [
    "a.click()"
   ]
  },
  {
   "cell_type": "code",
   "execution_count": null,
   "id": "445039d3",
   "metadata": {},
   "outputs": [],
   "source": []
  }
 ],
 "metadata": {
  "kernelspec": {
   "display_name": "Python 3 (ipykernel)",
   "language": "python",
   "name": "python3"
  },
  "language_info": {
   "codemirror_mode": {
    "name": "ipython",
    "version": 3
   },
   "file_extension": ".py",
   "mimetype": "text/x-python",
   "name": "python",
   "nbconvert_exporter": "python",
   "pygments_lexer": "ipython3",
   "version": "3.9.7"
  }
 },
 "nbformat": 4,
 "nbformat_minor": 5
}
