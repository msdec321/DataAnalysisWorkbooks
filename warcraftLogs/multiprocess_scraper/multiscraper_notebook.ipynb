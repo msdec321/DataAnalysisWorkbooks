{
 "cells": [
  {
   "cell_type": "markdown",
   "id": "4e95fbe6",
   "metadata": {},
   "source": [
    "## Note: This workbook is not for running the multi-scraper. These are individual functions for adding data to the spreadsheet if needed. To use the full scraper, please run *multi_scraper.py* through the Python interpreter."
   ]
  },
  {
   "cell_type": "code",
   "execution_count": null,
   "id": "c03cb790",
   "metadata": {},
   "outputs": [],
   "source": []
  },
  {
   "cell_type": "markdown",
   "id": "209c2ee3",
   "metadata": {},
   "source": [
    "# Import packages"
   ]
  },
  {
   "cell_type": "code",
   "execution_count": 4,
   "id": "f47d4140",
   "metadata": {},
   "outputs": [
    {
     "data": {
      "text/plain": [
       "<module 'src' from 'C:\\\\Users\\\\Matth\\\\git\\\\DataAnalysisWorkbooks\\\\warcraftLogs\\\\multiprocess_scraper\\\\src.py'>"
      ]
     },
     "execution_count": 4,
     "metadata": {},
     "output_type": "execute_result"
    }
   ],
   "source": [
    "import openpyxl, os, csv, win32com.client\n",
    "\n",
    "import warnings\n",
    "warnings.filterwarnings('ignore')\n",
    "\n",
    "from importlib import reload\n",
    "\n",
    "import src\n",
    "reload(src)"
   ]
  },
  {
   "cell_type": "code",
   "execution_count": null,
   "id": "4dcf7494",
   "metadata": {},
   "outputs": [],
   "source": []
  },
  {
   "cell_type": "markdown",
   "id": "4947a16b",
   "metadata": {},
   "source": [
    "# Configurations"
   ]
  },
  {
   "cell_type": "code",
   "execution_count": 2,
   "id": "8c529827",
   "metadata": {},
   "outputs": [],
   "source": [
    "boss = \"Teron Gorefiend\"\n",
    "filename = \"top_N_druids\"\n",
    "path_to_data_dir = r\"C:\\Users\\Matth\\git\\DataAnalysisWorkbooks\\warcraftLogs\\data\""
   ]
  },
  {
   "cell_type": "code",
   "execution_count": null,
   "id": "f0ad7b16",
   "metadata": {},
   "outputs": [],
   "source": []
  },
  {
   "cell_type": "markdown",
   "id": "9e07918d",
   "metadata": {},
   "source": [
    "# Functions"
   ]
  },
  {
   "cell_type": "code",
   "execution_count": 5,
   "id": "93a8b03b",
   "metadata": {},
   "outputs": [
    {
     "name": "stdout",
     "output_type": "stream",
     "text": [
      "TeronGorefiend_Millet.csv\n",
      "TeronGorefiend_Муцефал.csv\n",
      "TeronGorefiend_严禁摸头喂食.csv\n",
      "TeronGorefiend_小丶呆瓜.csv\n",
      "TeronGorefiend_德贵.csv\n",
      "TeronGorefiend_白日梦蓝.csv\n",
      "TeronGorefiend_羊尾.csv\n",
      "TeronGorefiend_迷你小阿狸.csv\n"
     ]
    }
   ],
   "source": [
    "src.add_rows_to_xlsx(path_to_data_dir, boss, filename, True)"
   ]
  },
  {
   "cell_type": "code",
   "execution_count": 6,
   "id": "1a2ae49b",
   "metadata": {},
   "outputs": [],
   "source": [
    "src.sort_excel(path_to_data_dir, boss, filename)"
   ]
  },
  {
   "cell_type": "code",
   "execution_count": 7,
   "id": "cbc683ad",
   "metadata": {},
   "outputs": [
    {
     "name": "stdout",
     "output_type": "stream",
     "text": [
      "Removing spreadsheet duplicates..\n",
      "Duplicate removal complete!\n"
     ]
    }
   ],
   "source": [
    "src.remove_xlsx_duplicates(path_to_data_dir, boss, filename)"
   ]
  },
  {
   "cell_type": "code",
   "execution_count": 8,
   "id": "537f7f2c",
   "metadata": {},
   "outputs": [],
   "source": [
    "src.clean_csv_dir(path_to_data_dir)"
   ]
  },
  {
   "cell_type": "code",
   "execution_count": null,
   "id": "ba83d867",
   "metadata": {},
   "outputs": [],
   "source": []
  }
 ],
 "metadata": {
  "kernelspec": {
   "display_name": "Python 3 (ipykernel)",
   "language": "python",
   "name": "python3"
  },
  "language_info": {
   "codemirror_mode": {
    "name": "ipython",
    "version": 3
   },
   "file_extension": ".py",
   "mimetype": "text/x-python",
   "name": "python",
   "nbconvert_exporter": "python",
   "pygments_lexer": "ipython3",
   "version": "3.9.7"
  }
 },
 "nbformat": 4,
 "nbformat_minor": 5
}
