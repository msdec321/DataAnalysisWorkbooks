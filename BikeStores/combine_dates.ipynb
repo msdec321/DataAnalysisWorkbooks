{
 "cells": [
  {
   "cell_type": "code",
   "execution_count": 1,
   "id": "a94787f5",
   "metadata": {},
   "outputs": [],
   "source": [
    "import csv"
   ]
  },
  {
   "cell_type": "code",
   "execution_count": 2,
   "id": "f745c2a2",
   "metadata": {},
   "outputs": [],
   "source": [
    "myFile = open(\"order_dates.csv\", 'r')\n",
    "myReader = csv.reader(myFile)\n",
    "myList = list(myReader)"
   ]
  },
  {
   "cell_type": "code",
   "execution_count": 5,
   "id": "847a29f1",
   "metadata": {},
   "outputs": [],
   "source": [
    "outputFile = open(\"new_file.csv\", \"w\")\n",
    "outputWriter = csv.writer(outputFile, lineterminator=\"\\n\")\n",
    "outputWriter.writerow(['Date', 'Number of sales'])  #writerow only takes list arguments\n",
    "\n",
    "dates = ['', '']\n",
    "count = 0\n",
    "\n",
    "for i, item in enumerate(myList, 1):\n",
    "    \n",
    "    try:\n",
    "        dates[0] = dates[1]\n",
    "        dates[1] = myList[i][0]\n",
    "\n",
    "        if i == 1: continue\n",
    "        \n",
    "        if dates[0] == dates[1]:\n",
    "            count += 1\n",
    "            continue\n",
    "            \n",
    "        else: \n",
    "            outputWriter.writerow([dates[0], count])\n",
    "            count = 0\n",
    "            continue\n",
    "            \n",
    "    except IndexError: pass\n",
    "\n",
    "outputFile.close()"
   ]
  },
  {
   "cell_type": "code",
   "execution_count": 6,
   "id": "e9dfc939",
   "metadata": {},
   "outputs": [],
   "source": [
    "myFile.close()"
   ]
  },
  {
   "cell_type": "code",
   "execution_count": null,
   "id": "5e3bf0a0",
   "metadata": {},
   "outputs": [],
   "source": []
  }
 ],
 "metadata": {
  "kernelspec": {
   "display_name": "Python 3 (ipykernel)",
   "language": "python",
   "name": "python3"
  },
  "language_info": {
   "codemirror_mode": {
    "name": "ipython",
    "version": 3
   },
   "file_extension": ".py",
   "mimetype": "text/x-python",
   "name": "python",
   "nbconvert_exporter": "python",
   "pygments_lexer": "ipython3",
   "version": "3.9.7"
  }
 },
 "nbformat": 4,
 "nbformat_minor": 5
}
