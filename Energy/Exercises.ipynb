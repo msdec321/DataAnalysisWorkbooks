{
 "cells": [
  {
   "cell_type": "code",
   "execution_count": 3,
   "id": "e0cc7a41",
   "metadata": {},
   "outputs": [],
   "source": [
    "import csv\n",
    "import Helpers"
   ]
  },
  {
   "cell_type": "code",
   "execution_count": 17,
   "id": "77e65881",
   "metadata": {},
   "outputs": [],
   "source": [
    "pricesFile = open(\"Historical_Electricity_Prices.csv\", 'r')\n",
    "pricesReader = csv.reader(pricesFile)\n",
    "priceList = list(pricesReader)\n",
    "#print(myList[0][0])  # Date(D/M/Y)\n",
    "#print(myList[0][1])  # Year \n",
    "#print(myList[0][2])  # Month (integer) \n",
    "#print(myList[0][3])  # Hour (1 to 24) \n",
    "#print(myList[0][4])  # Electricity Price "
   ]
  },
  {
   "cell_type": "code",
   "execution_count": 18,
   "id": "47ba4f82",
   "metadata": {},
   "outputs": [
    {
     "name": "stdout",
     "output_type": "stream",
     "text": [
      "2832780.8100000164\n"
     ]
    }
   ],
   "source": [
    "total = 0.\n",
    "for i, price in enumerate(priceList, 1):\n",
    "    \n",
    "    try:\n",
    "        total += abs(float(priceList[i][4]))\n",
    "        \n",
    "    except IndexError: pass\n",
    "    \n",
    "print(total) # The total electricity price from 2009 to 2017 is $2.8M"
   ]
  },
  {
   "cell_type": "code",
   "execution_count": 13,
   "id": "6368c923",
   "metadata": {},
   "outputs": [],
   "source": [
    "solarFile = open(\"new_file.csv\", 'r')\n",
    "solarReader = csv.reader(solarFile)\n",
    "solarList = list(solarReader)\n",
    "\n",
    "#print(solarList[0][0])  # Date(D/M/Y) + time\n",
    "#print(solarList[0][1])  # Year \n",
    "#print(solarList[0][2])  # Month (integer) \n",
    "#print(solarList[0][3])  # Day\n",
    "#print(solarList[0][4])  # Hour Ending (1 to 24)\n",
    "#print(solarList[0][5])  # Solar Generation (MW)"
   ]
  },
  {
   "cell_type": "code",
   "execution_count": 23,
   "id": "154434eb",
   "metadata": {},
   "outputs": [
    {
     "name": "stdout",
     "output_type": "stream",
     "text": [
      "0\n"
     ]
    }
   ],
   "source": []
  },
  {
   "cell_type": "code",
   "execution_count": 26,
   "id": "a07a24bf",
   "metadata": {},
   "outputs": [
    {
     "name": "stdout",
     "output_type": "stream",
     "text": [
      "2 5.55 0\n"
     ]
    },
    {
     "ename": "IndexError",
     "evalue": "list index out of range",
     "output_type": "error",
     "traceback": [
      "\u001b[1;31m---------------------------------------------------------------------------\u001b[0m",
      "\u001b[1;31mIndexError\u001b[0m                                Traceback (most recent call last)",
      "\u001b[1;32m~\\AppData\\Local\\Temp/ipykernel_7196/869688407.py\u001b[0m in \u001b[0;36m<module>\u001b[1;34m\u001b[0m\n\u001b[0;32m      4\u001b[0m \u001b[1;33m\u001b[0m\u001b[0m\n\u001b[0;32m      5\u001b[0m \u001b[1;32mfor\u001b[0m \u001b[0mi\u001b[0m\u001b[1;33m,\u001b[0m \u001b[0mprice\u001b[0m \u001b[1;32min\u001b[0m \u001b[0menumerate\u001b[0m\u001b[1;33m(\u001b[0m\u001b[0mpriceList\u001b[0m\u001b[1;33m,\u001b[0m \u001b[1;36m2\u001b[0m\u001b[1;33m)\u001b[0m\u001b[1;33m:\u001b[0m\u001b[1;33m\u001b[0m\u001b[1;33m\u001b[0m\u001b[0m\n\u001b[1;32m----> 6\u001b[1;33m     \u001b[0mprint\u001b[0m\u001b[1;33m(\u001b[0m\u001b[0mi\u001b[0m\u001b[1;33m,\u001b[0m \u001b[0mpriceList\u001b[0m\u001b[1;33m[\u001b[0m\u001b[0mi\u001b[0m\u001b[1;33m]\u001b[0m\u001b[1;33m[\u001b[0m\u001b[1;36m4\u001b[0m\u001b[1;33m]\u001b[0m\u001b[1;33m,\u001b[0m \u001b[0msolarList\u001b[0m\u001b[1;33m[\u001b[0m\u001b[0mi\u001b[0m \u001b[1;33m-\u001b[0m \u001b[1;36m1\u001b[0m\u001b[1;33m]\u001b[0m\u001b[1;33m[\u001b[0m\u001b[1;36m5\u001b[0m\u001b[1;33m]\u001b[0m\u001b[1;33m)\u001b[0m\u001b[1;33m\u001b[0m\u001b[1;33m\u001b[0m\u001b[0m\n\u001b[0m\u001b[0;32m      7\u001b[0m \u001b[1;33m\u001b[0m\u001b[0m\n\u001b[0;32m      8\u001b[0m     \u001b[1;32mtry\u001b[0m\u001b[1;33m:\u001b[0m\u001b[1;33m\u001b[0m\u001b[1;33m\u001b[0m\u001b[0m\n",
      "\u001b[1;31mIndexError\u001b[0m: list index out of range"
     ]
    }
   ],
   "source": [
    "# NOTE: priceList index is 1 larger than solarList to be in alignment.\n",
    "\n",
    "total = 0.\n",
    "\n",
    "for i, price in enumerate(priceList, 2):\n",
    "    print(i, priceList[i][4], solarList[i - 1][5])\n",
    "    \n",
    "    try:\n",
    "        total += abs(float(priceList[i][4])) * float(solarList[i - 1][5])\n",
    "        \n",
    "    except IndexError: pass\n",
    "    \n",
    "print(total)"
   ]
  },
  {
   "cell_type": "code",
   "execution_count": null,
   "id": "66ed1306",
   "metadata": {},
   "outputs": [],
   "source": [
    "pricesFile.close()\n",
    "solarFile.close()"
   ]
  }
 ],
 "metadata": {
  "kernelspec": {
   "display_name": "Python 3 (ipykernel)",
   "language": "python",
   "name": "python3"
  },
  "language_info": {
   "codemirror_mode": {
    "name": "ipython",
    "version": 3
   },
   "file_extension": ".py",
   "mimetype": "text/x-python",
   "name": "python",
   "nbconvert_exporter": "python",
   "pygments_lexer": "ipython3",
   "version": "3.9.7"
  }
 },
 "nbformat": 4,
 "nbformat_minor": 5
}
