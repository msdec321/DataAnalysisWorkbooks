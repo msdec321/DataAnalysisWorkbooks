{
 "cells": [
  {
   "cell_type": "code",
   "execution_count": 2,
   "id": "24934769",
   "metadata": {},
   "outputs": [],
   "source": [
    "import csv\n",
    "import Helpers"
   ]
  },
  {
   "cell_type": "code",
   "execution_count": 3,
   "id": "2c5b0ba2",
   "metadata": {},
   "outputs": [],
   "source": [
    "solarFile = open(\"Historical_Solar_Generation.csv\", 'r')\n",
    "solarReader = csv.reader(solarFile)\n",
    "myList = list(solarReader)\n",
    "myList = Helpers.removeEmptyLists(myList)  # Remove empty rows from csv file"
   ]
  },
  {
   "cell_type": "code",
   "execution_count": 4,
   "id": "67de4e99",
   "metadata": {},
   "outputs": [],
   "source": [
    "outputFile = open(\"new_file.csv\", \"w\")\n",
    "outputWriter = csv.writer(outputFile, lineterminator=\"\\n\")\n",
    "outputWriter.writerow(['Date', 'Year', 'Month', 'Day', 'Hour Ending', 'Solar Generation (MW)\\n'])  #writerow only takes list arguments\n",
    "\n",
    "for i, item in enumerate(myList, 1):\n",
    "    \n",
    "    try:\n",
    "        if myList[i][1] in ['1998', '1999', '2000', '2001', '2002', '2003', '2004', \n",
    "                            '2005', '2006', '2007', '2008']: continue\n",
    "            \n",
    "        if myList[i][1] == '2009' and myList[i][2] in ['1', '2', '3', '4', '5', '6']: continue\n",
    "            \n",
    "        outputWriter.writerow(myList[i])\n",
    "        \n",
    "    except IndexError: pass\n",
    "\n",
    "outputFile.close()"
   ]
  },
  {
   "cell_type": "code",
   "execution_count": null,
   "id": "3b691810",
   "metadata": {},
   "outputs": [],
   "source": []
  }
 ],
 "metadata": {
  "kernelspec": {
   "display_name": "Python 3 (ipykernel)",
   "language": "python",
   "name": "python3"
  },
  "language_info": {
   "codemirror_mode": {
    "name": "ipython",
    "version": 3
   },
   "file_extension": ".py",
   "mimetype": "text/x-python",
   "name": "python",
   "nbconvert_exporter": "python",
   "pygments_lexer": "ipython3",
   "version": "3.9.7"
  }
 },
 "nbformat": 4,
 "nbformat_minor": 5
}
